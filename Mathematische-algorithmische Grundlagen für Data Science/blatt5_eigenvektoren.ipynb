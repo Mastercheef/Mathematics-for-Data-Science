{
 "cells": [
  {
   "cell_type": "markdown",
   "metadata": {},
   "source": [
    "## <center>  Mathematisch-algorithmische Grundlagen für Data Science\n",
    "___\n",
    "\n",
    "## Aufgabenblatt 9\n",
    "\n",
    "&nbsp;\n",
    "\n",
    "**Author:** &nbsp;Erik Autenrieth &nbsp;\n",
    "**Author:** &nbsp;Minh Truong    &nbsp;\n",
    "\n",
    "**Date:** &nbsp;&nbsp;&nbsp;&nbsp;  2021-06-01 16:08:02\n",
    "\n",
    "___ "
   ]
  },
  {
   "cell_type": "code",
   "execution_count": 1,
   "metadata": {},
   "outputs": [],
   "source": [
    "import sys\n",
    "import numpy as np\n",
    "import numpy.linalg as la\n",
    "import sympy as sym\n",
    "from sympy import Matrix, symbols, linsolve,simplify\n",
    "from sympy import *\n",
    "from fractions import Fraction\n",
    "sym.init_printing()\n",
    "from IPython.display import display, Math"
   ]
  },
  {
   "cell_type": "markdown",
   "metadata": {},
   "source": [
    "### Aufgabe 1 (Eigenwerte und Eigenvektoren)    "
   ]
  },
  {
   "cell_type": "code",
   "execution_count": 2,
   "metadata": {},
   "outputs": [],
   "source": [
    "A = np.matrix('1 1 3; 1 5 1; 3 1 1')\n",
    "B = np.matrix('1 0 0; 3 3 -4; -2 1 -2')"
   ]
  },
  {
   "cell_type": "markdown",
   "metadata": {},
   "source": [
    "### (a) Berechnen Sie Eigenwerte und Eigenvektoren der folgenden Matrizen:"
   ]
  },
  {
   "cell_type": "code",
   "execution_count": 4,
   "metadata": {},
   "outputs": [
    {
     "data": {
      "text/latex": [
       "$\\displaystyle  \\text{Eigenwerte A =  } \\left[\\begin{matrix}-1\\\\3\\\\6\\end{matrix}\\right]$"
      ],
      "text/plain": [
       "<IPython.core.display.Math object>"
      ]
     },
     "metadata": {},
     "output_type": "display_data"
    },
    {
     "data": {
      "text/latex": [
       "$\\displaystyle  \\text{Eigenwerte B =} \\left[\\begin{matrix}-1\\\\2\\\\1\\end{matrix}\\right]$"
      ],
      "text/plain": [
       "<IPython.core.display.Math object>"
      ]
     },
     "metadata": {},
     "output_type": "display_data"
    }
   ],
   "source": [
    "P_A = np.poly(A)      # Die Funktion numpy.poly() liefert die Koeffizienten des charakteristischen Polynoms:\n",
    "P_B = np.poly(B)\n",
    "\n",
    "ew_A = np.roots(P_A)  # numpy.roots(p) liefert die Nullstellen eines Polynoms mit Koeffizienten die in p:\n",
    "ew_B = np.roots(P_B)\n",
    "\n",
    "EWA,EVA = la.eig(A)     # Routine aus numpy.linalg zur Berechnung des Eigenwertproblems\n",
    "EWB,EVB = la.eig(B)  \n",
    "\n",
    "\n",
    "display(Math(' \\\\text{Eigenwerte A =  } %s' % (sym.latex(sym.simplify(Matrix(EWA.astype(int)))))))\n",
    "display(Math(' \\\\text{Eigenwerte B =} %s' % (sym.latex(sym.simplify(Matrix(EWB.astype(int)))))))"
   ]
  },
  {
   "cell_type": "code",
   "execution_count": 5,
   "metadata": {},
   "outputs": [
    {
     "data": {
      "text/latex": [
       "$\\displaystyle  \\text{Eigenvektor A =  } \\left[\\begin{matrix}1\\\\0\\\\-1\\end{matrix}\\right]$"
      ],
      "text/plain": [
       "<IPython.core.display.Math object>"
      ]
     },
     "metadata": {},
     "output_type": "display_data"
    },
    {
     "data": {
      "text/latex": [
       "$\\displaystyle  \\text{Eigenvektor A =  } \\left[\\begin{matrix}-1\\\\1\\\\-1\\end{matrix}\\right]$"
      ],
      "text/plain": [
       "<IPython.core.display.Math object>"
      ]
     },
     "metadata": {},
     "output_type": "display_data"
    },
    {
     "data": {
      "text/latex": [
       "$\\displaystyle  \\text{Eigenvektor A =  } \\left[\\begin{matrix}0\\\\-1\\\\0\\end{matrix}\\right]$"
      ],
      "text/plain": [
       "<IPython.core.display.Math object>"
      ]
     },
     "metadata": {},
     "output_type": "display_data"
    }
   ],
   "source": [
    "for i in range(3):\n",
    "    display(Math(' \\\\text{Eigenvektor A =  } %s' %(sym.latex(sym.simplify(Matrix(np.matrix.round(EVA[:,i]).\n",
    "                                                                                 astype(int)))))))"
   ]
  },
  {
   "cell_type": "markdown",
   "metadata": {},
   "source": [
    "### (b) Geben Sie für A eine orthogonale Matrix Q und eine Diagonalmatrix D an"
   ]
  },
  {
   "cell_type": "code",
   "execution_count": 44,
   "metadata": {},
   "outputs": [
    {
     "data": {
      "text/latex": [
       "$\\displaystyle  \\text{Q = } \\left[\\begin{matrix}\\frac{7}{10} & - \\frac{4}{7} & - \\frac{2}{5}\\\\0 & \\frac{4}{7} & - \\frac{4}{5}\\\\- \\frac{7}{10} & - \\frac{4}{7} & - \\frac{2}{5}\\end{matrix}\\right]\n",
       "$"
      ],
      "text/plain": [
       "<IPython.core.display.Math object>"
      ]
     },
     "metadata": {},
     "output_type": "display_data"
    },
    {
     "data": {
      "text/latex": [
       "$\\displaystyle  \\text{QT = } \\left[\\begin{matrix}\\frac{7}{10} & 0 & - \\frac{7}{10}\\\\- \\frac{4}{7} & \\frac{4}{7} & - \\frac{4}{7}\\\\- \\frac{2}{5} & - \\frac{4}{5} & - \\frac{2}{5}\\end{matrix}\\right]\n",
       "$"
      ],
      "text/plain": [
       "<IPython.core.display.Math object>"
      ]
     },
     "metadata": {},
     "output_type": "display_data"
    },
    {
     "data": {
      "text/latex": [
       "$\\displaystyle  \\text{D = } \\left[\\begin{matrix}-2.0 & 0 & 0\\\\0 & 3.0 & 0\\\\0 & 0 & 6.0\\end{matrix}\\right]\n",
       "$"
      ],
      "text/plain": [
       "<IPython.core.display.Math object>"
      ]
     },
     "metadata": {},
     "output_type": "display_data"
    },
    {
     "data": {
      "text/latex": [
       "$\\displaystyle  \\text{Q*D*QT = } \\left[\\begin{matrix}1.0 & 1.0 & 3.0\\\\1.0 & 5.0 & 1.0\\\\3.0 & 1.0 & 1.0\\end{matrix}\\right] \\text{ = A}\n",
       "$"
      ],
      "text/plain": [
       "<IPython.core.display.Math object>"
      ]
     },
     "metadata": {},
     "output_type": "display_data"
    }
   ],
   "source": [
    "Q   =  EVA              # Q ist eine Matrix aus den normierten Eigenvektoren \n",
    "QT  =  np.transpose(Q)  \n",
    "D   =  np.diag(EWA)     # D trägt die Eigenwerte auf der Hauptdiagonalen \n",
    "rat = Q\n",
    "rat = np.array(rat)\n",
    "Q_frac=[]\n",
    "\n",
    "for z in range(len(rat[0])):\n",
    "    Q_frac.append(list(map(lambda x: Rational(x).limit_denominator(10), rat[z])))\n",
    "\n",
    "Q_frac = np.array(Q_frac)\n",
    "Q_tr =np.transpose(Q_frac)\n",
    "\n",
    "display(Math(' \\\\text{Q = } %s\\n' % (sym.latex(sym.simplify(Matrix(Q_frac))))))\n",
    "display(Math(' \\\\text{QT = } %s\\n' % (sym.latex(sym.simplify(Matrix(Q_tr))))))\n",
    "display(Math(' \\\\text{D = } %s\\n' % (sym.latex(sym.simplify(Matrix(D))))))\n",
    "display(Math(' \\\\text{Q*D*QT = } %s \\\\text{ = A}\\n' % (sym.latex(sym.simplify(Matrix(np.around(Q@D@QT))))))) "
   ]
  },
  {
   "cell_type": "code",
   "execution_count": 45,
   "metadata": {},
   "outputs": [
    {
     "data": {
      "text/latex": [
       "$\\displaystyle  \\text{An  p(1,5,1) = } \\left[\\begin{matrix}63.0\\\\153.0\\\\63.0\\end{matrix}\\right]$"
      ],
      "text/plain": [
       "<IPython.core.display.Math object>"
      ]
     },
     "metadata": {},
     "output_type": "display_data"
    }
   ],
   "source": [
    "def A_n(A:[float, float]=None, p:[float]=None , n:int=None)-> [float]: \n",
    "    \"\"\"\n",
    "    input values: Matrix, Point, n\n",
    "    This funktion works just for 3x3 matrices.\n",
    "    return: \n",
    "    \"\"\"\n",
    "    if (len(A)!=3): sys.exit('Sry just 3x3 matrices')\n",
    "    \n",
    "    a,b,c,N = symbols('a b c N')\n",
    "    EW,EV = la.eig(A) \n",
    "    E = list(linsolve( (Matrix(EV), Matrix(p)), [a, b, c] ))[0]\n",
    "    a, b, c = E\n",
    "    l = []\n",
    "    for i,par in enumerate([a,b,c]):\n",
    "        l.append(par*pow(EW[i],n)*EV[:,i])\n",
    "    return sum(l)\n",
    "    \n",
    "    \n",
    "probe = A_n(A=A, n=2, p=[1,5,1])\n",
    "display(Math(' \\\\text{An  p(1,5,1) = } %s' % (sym.latex(sym.simplify(Matrix(probe))))))\n",
    "# Matrix(A@A@np.array([1,5,1]))    # Die Probe zeigt, dass die Funktion korrekt ist "
   ]
  },
  {
   "cell_type": "code",
   "execution_count": 46,
   "metadata": {},
   "outputs": [],
   "source": [
    "def matrix_rational(M=None):\n",
    "    M=np.array(M)\n",
    "    n = len(M[0])\n",
    "    M_frac = []\n",
    "    for z in range(n):\n",
    "        M_frac.append(list(map(lambda x: Rational(x).limit_denominator(10),rat[z])))\n",
    "    return np.array(M_frac)"
   ]
  },
  {
   "cell_type": "markdown",
   "metadata": {},
   "source": [
    "### Aufgabe 2 (Diskreter Wachstumsprozess)"
   ]
  },
  {
   "cell_type": "markdown",
   "metadata": {},
   "source": [
    "$$a_{n}= 3a_{n-1}+4a_{n-2}-12a_{n-3} $$    \n",
    "$$n \\geq 3$$\n",
    "$$a_{0}= 0, a_{1} = 1, a_{2} = 2.  $$"
   ]
  },
  {
   "cell_type": "code",
   "execution_count": 47,
   "metadata": {},
   "outputs": [
    {
     "name": "stdout",
     "output_type": "stream",
     "text": [
      "Funcion values :\n",
      "0  1  2  10  26  94  266  862  2522  7822  "
     ]
    }
   ],
   "source": [
    "def wachstum_rek(n:int=None)->int:\n",
    "    if n==0:   return 0\n",
    "    elif n==1: return 1\n",
    "    elif n==2: return 2\n",
    "    else:\n",
    "        return 3*wachstum_rek(n-1) + 4*wachstum_rek(n-2) - 12*wachstum_rek(n-3)\n",
    "print('Funcion values :')\n",
    "for i in range(10):    \n",
    "    print(wachstum_rek(i),' ', end = '')"
   ]
  },
  {
   "cell_type": "markdown",
   "metadata": {},
   "source": [
    "### (a) Geben Sie eine Matrix B an, die den Wachstumsprozess beschreibt."
   ]
  },
  {
   "cell_type": "markdown",
   "metadata": {},
   "source": [
    "$$\n",
    "\\begin{pmatrix}\n",
    "a_{n} \\\\\n",
    "a_{n-1} \\\\\n",
    "a_{n-2} \n",
    "\\end{pmatrix}\n",
    "=\n",
    "\\begin{pmatrix}\n",
    "3 & 4 & -12 \\\\\n",
    "1 & 0 & 0 \\\\\n",
    "0 & 1 & 0  \n",
    "\\end{pmatrix}\n",
    "\\begin{pmatrix}\n",
    "a_{n-1} \\\\\n",
    "a_{n-2} \\\\\n",
    "a_{n-3} \n",
    "\\end{pmatrix}\n",
    "$$\n",
    "\n",
    "\n",
    "$$\n",
    "\\mathbf{B}\n",
    "=\n",
    "\\begin{pmatrix}\n",
    "3 & 4 & -12 \\\\\n",
    "1 & 0 & 0 \\\\\n",
    "0 & 1 & 0  \n",
    "\\end{pmatrix}^{n-1}\n",
    "\\begin{pmatrix}\n",
    "f_{2} \\\\\n",
    "f_{1}\\\\\n",
    "f_{0}\n",
    "\\end{pmatrix}\n",
    "$$"
   ]
  },
  {
   "cell_type": "code",
   "execution_count": 48,
   "metadata": {},
   "outputs": [],
   "source": [
    "B = np.array([[3, 4, -12],\n",
    "              [1, 0, 0], \n",
    "              [0, 1, 0]])\n",
    "\n",
    "start = np.array([2, 1, 0])\n",
    "\n",
    "EW,EV = la.eig(B)"
   ]
  },
  {
   "cell_type": "markdown",
   "metadata": {},
   "source": [
    "### (b) Berechnen Sie die Eigenwerte und Eigenvektoren von B."
   ]
  },
  {
   "cell_type": "code",
   "execution_count": 49,
   "metadata": {
    "scrolled": true
   },
   "outputs": [
    {
     "data": {
      "text/latex": [
       "$\\displaystyle  \\text{EW B =  } \\left[\\begin{matrix}-2.0\\\\3.0\\\\2.0\\end{matrix}\\right]$"
      ],
      "text/plain": [
       "<IPython.core.display.Math object>"
      ]
     },
     "metadata": {},
     "output_type": "display_data"
    },
    {
     "data": {
      "text/latex": [
       "$\\displaystyle  \\text{EV B =  } \\left[\\begin{matrix}\\frac{7}{10}\\\\0\\\\- \\frac{7}{10}\\end{matrix}\\right]$"
      ],
      "text/plain": [
       "<IPython.core.display.Math object>"
      ]
     },
     "metadata": {},
     "output_type": "display_data"
    },
    {
     "data": {
      "text/latex": [
       "$\\displaystyle  \\text{EV B =  } \\left[\\begin{matrix}- \\frac{4}{7}\\\\\\frac{4}{7}\\\\- \\frac{4}{7}\\end{matrix}\\right]$"
      ],
      "text/plain": [
       "<IPython.core.display.Math object>"
      ]
     },
     "metadata": {},
     "output_type": "display_data"
    },
    {
     "data": {
      "text/latex": [
       "$\\displaystyle  \\text{EV B =  } \\left[\\begin{matrix}- \\frac{2}{5}\\\\- \\frac{4}{5}\\\\- \\frac{2}{5}\\end{matrix}\\right]$"
      ],
      "text/plain": [
       "<IPython.core.display.Math object>"
      ]
     },
     "metadata": {},
     "output_type": "display_data"
    }
   ],
   "source": [
    "EV = matrix_rational(EV)\n",
    "l = []\n",
    "for i in range(3):\n",
    "    l.append(EV[:,i])\n",
    "    \n",
    "display(Math(' \\\\text{EW B =  } %s' % (sym.latex(sym.simplify(Matrix(EW))))))\n",
    "for i in range(3):\n",
    "    l.append(EV[:,i])\n",
    "    display(Math(' \\\\text{EV B =  } %s' %(sym.latex((Matrix(EV[:,i]))))))"
   ]
  },
  {
   "cell_type": "markdown",
   "metadata": {},
   "source": [
    "### (c) Stellen Sie den Anfangsvektor als Linearkombination von Eigenvektoren dar."
   ]
  },
  {
   "cell_type": "code",
   "execution_count": 50,
   "metadata": {},
   "outputs": [],
   "source": [
    "r, s, t = symbols('r s t')\n",
    "E = list(linsolve( (Matrix(EV), Matrix(start)), [r, s, t] ))[0]"
   ]
  },
  {
   "cell_type": "code",
   "execution_count": 51,
   "metadata": {},
   "outputs": [
    {
     "data": {
      "image/png": "[encoded data removed]",
      "text/latex": [
       "$\\displaystyle \\left( \\frac{10}{7}, \\  - \\frac{7}{12}, \\  - \\frac{5}{3}\\right)$"
      ],
      "text/plain": [
       "(10/7, -7/12, -5/3)"
      ]
     },
     "execution_count": 51,
     "metadata": {},
     "output_type": "execute_result"
    }
   ],
   "source": [
    "E"
   ]
  },
  {
   "cell_type": "code",
   "execution_count": 53,
   "metadata": {},
   "outputs": [],
   "source": [
    "a=sym.latex(Matrix(l[0]))\n",
    "b=sym.latex(Matrix(l[1]))\n",
    "c=sym.latex(Matrix(l[2]))\n",
    "s = sym.latex(sym.simplify(Fraction(str(E[0])).limit_denominator(10)))\n",
    "t=sym.latex(sym.simplify(Fraction(str(E[1])).limit_denominator(10)))\n",
    "u=sym.latex(sym.simplify(Fraction(str(E[2])).limit_denominator(10)))\n",
    "y= sym.latex(sym.simplify(Matrix(start)))"
   ]
  },
  {
   "cell_type": "code",
   "execution_count": 54,
   "metadata": {},
   "outputs": [
    {
     "data": {
      "text/latex": [
       "$\\displaystyle \\frac{10}{7}  \\left[\\begin{matrix}\\frac{7}{10}\\\\0\\\\- \\frac{7}{10}\\end{matrix}\\right] + - \\frac{4}{7} \\left[\\begin{matrix}- \\frac{4}{7}\\\\\\frac{4}{7}\\\\- \\frac{4}{7}\\end{matrix}\\right] +- \\frac{5}{3} \\left[\\begin{matrix}- \\frac{2}{5}\\\\- \\frac{4}{5}\\\\- \\frac{2}{5}\\end{matrix}\\right] = \\left[\\begin{matrix}2\\\\1\\\\0\\end{matrix}\\right]$"
      ],
      "text/plain": [
       "<IPython.core.display.Math object>"
      ]
     },
     "metadata": {},
     "output_type": "display_data"
    }
   ],
   "source": [
    "display(Math('%s  %s a+ %s %s a + %s %s a = %s' %(s,a,t,b,u,c,y)   ))"
   ]
  },
  {
   "cell_type": "markdown",
   "metadata": {},
   "source": [
    "### (d) Explizite Formel"
   ]
  },
  {
   "cell_type": "code",
   "execution_count": 43,
   "metadata": {
    "pycharm": {
     "name": "#%%\n"
    }
   },
   "outputs": [
    {
     "name": "stdout",
     "output_type": "stream",
     "text": [
      "Funcion values Rekursiv:\n",
      "0  1  2  10  26  94  266  862  2522  7822  \n",
      "Funcion values Explicit:\n",
      "0  1  2  10  26  94  266  862  2522  7822  "
     ]
    }
   ],
   "source": [
    "a_n = lambda n: 1/4 * (-(3/5)*((-2)**n)-(2**n)) + ((2/5)*(3**n))\n",
    "\n",
    "print('Funcion values Rekursiv:')\n",
    "for i in range(10):    \n",
    "    print(wachstum_rek(i),' ', end = '')\n",
    "print()\n",
    "print('Funcion values Explicit:')\n",
    "for i in range(10):    \n",
    "    print(round(a_n(i)),' ', end = '')"
   ]
  }
 ],
 "metadata": {
  "kernelspec": {
   "display_name": "Python 3",
   "language": "python",
   "name": "python3"
  },
  "language_info": {
   "codemirror_mode": {
    "name": "ipython",
    "version": 3
   },
   "file_extension": ".py",
   "mimetype": "text/x-python",
   "name": "python",
   "nbconvert_exporter": "python",
   "pygments_lexer": "ipython3",
   "version": "3.8.5"
  }
 },
 "nbformat": 4,
 "nbformat_minor": 4
}