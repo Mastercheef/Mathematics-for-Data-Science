{
 "cells": [
  {
   "cell_type": "code",
   "execution_count": 2,
   "metadata": {},
   "outputs": [],
   "source": [
    "import numpy as np"
   ]
  },
  {
   "cell_type": "code",
   "execution_count": 3,
   "metadata": {
    "pycharm": {
     "name": "#%%\n"
    }
   },
   "outputs": [],
   "source": [
    "# Daten von Aufgabenblatt 5, Aufgabe 1\n",
    "x1 = np.array([ 0.0, 0.5, 1.0, 1.5, 2.0, 2.5, 3.0, 3.5, 4.0, 4.5, 5.0])\n",
    "y1 = np.array([ 5.1, 7.8, 7.1, 7.4, 9.4, 8.4, 8.9, 6.2, 4.7, 3.3, 0.6 ])\n",
    "\n",
    "# Daten von Aufgabenblatt 5, Aufgabe 2\n",
    "size = np.array([\n",
    "    1.55, 1.57, 1.62, 1.68, 1.75, 1.76, 1.81, 1.83,\n",
    "    1.87, 1.89, 1.90, 1.92, 1.95, 1.96, 1.99, 2.02])\n",
    "\n",
    "weight = np.array([\n",
    "    51,   50,   55,   52,   60,   68,   78,   91,\n",
    "    84,   81,   90,  105,   95,   99,  100,  101])\n",
    "\n",
    "# Daten Aufgabenblatt 5, Aufgabe 3\n",
    "x3 = np.array([1, 2, 4, 6,  8, 10,  12,  14 ])\n",
    "y3 = np.array([ 1, 1, 3, 8, 21, 55, 144, 377 ])"
   ]
  }
 ],
 "metadata": {
  "kernelspec": {
   "display_name": "Python 3",
   "language": "python",
   "name": "python3"
  },
  "language_info": {
   "codemirror_mode": {
    "name": "ipython",
    "version": 3
   },
   "file_extension": ".py",
   "mimetype": "text/x-python",
   "name": "python",
   "nbconvert_exporter": "python",
   "pygments_lexer": "ipython3",
   "version": "3.8.5"
  }
 },
 "nbformat": 4,
 "nbformat_minor": 4
}