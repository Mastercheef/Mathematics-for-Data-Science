{
 "cells": [
  {
   "cell_type": "code",
   "execution_count": 26,
   "metadata": {},
   "outputs": [],
   "source": [
    "from gurobipy import *\n",
    "import scipy.sparse as sp\n",
    "import numpy as np\n",
    "import matplotlib.pyplot as plt\n",
    "%matplotlib inline"
   ]
  },
  {
   "cell_type": "markdown",
   "metadata": {},
   "source": [
    "### Variables\n",
    "```\n",
    "Model.addVar(lb = 0.0,              # lower bound\n",
    "             ub = float('inf'),     # upper bound\n",
    "             obj = 0.0,             # objective coefficient\n",
    "             vtype = GRB.CONTINUOUS,# variable type\n",
    "             name = \"\")              # name\n",
    "```"
   ]
  },
  {
   "cell_type": "code",
   "execution_count": 2,
   "metadata": {},
   "outputs": [
    {
     "name": "stdout",
     "output_type": "stream",
     "text": [
      "Academic license - for non-commercial use only - expires 2021-07-18\n",
      "Using license file C:\\Users\\eaut2\\gurobi.lic\n"
     ]
    }
   ],
   "source": [
    "opt_mod = Model(name = 'linear program')\n",
    "\n",
    "x = opt_mod.addVar(name = 'x', vtype = GRB.CONTINUOUS, lb = 0)\n",
    "y = opt_mod.addVar(name = 'y', vtype = GRB.CONTINUOUS, lb = 0)"
   ]
  },
  {
   "cell_type": "code",
   "execution_count": 3,
   "metadata": {},
   "outputs": [],
   "source": [
    "obj_fn = 5*x + 4*y\n",
    "opt_mod.setObjective(obj_fn, GRB.MINIMIZE) # GRB.MAXIMIZE"
   ]
  },
  {
   "cell_type": "code",
   "execution_count": 4,
   "metadata": {},
   "outputs": [],
   "source": [
    "c1 = opt_mod.addConstr( x   +   y >= 8, name = 'c1')\n",
    "c2 = opt_mod.addConstr( 2*x +   y >= 10, name = 'c2')\n",
    "c3 = opt_mod.addConstr(   x + 4*y >= 11, name = 'c3')"
   ]
  },
  {
   "cell_type": "code",
   "execution_count": 5,
   "metadata": {},
   "outputs": [
    {
     "name": "stdout",
     "output_type": "stream",
     "text": [
      "Gurobi Optimizer version 9.1.2 build v9.1.2rc0 (win64)\n",
      "Thread count: 4 physical cores, 8 logical processors, using up to 8 threads\n",
      "Optimize a model with 3 rows, 2 columns and 6 nonzeros\n",
      "Model fingerprint: 0x6c7cdc94\n",
      "Coefficient statistics:\n",
      "  Matrix range     [1e+00, 4e+00]\n",
      "  Objective range  [4e+00, 5e+00]\n",
      "  Bounds range     [0e+00, 0e+00]\n",
      "  RHS range        [8e+00, 1e+01]\n",
      "Presolve time: 0.01s\n",
      "Presolved: 3 rows, 2 columns, 6 nonzeros\n",
      "\n",
      "Iteration    Objective       Primal Inf.    Dual Inf.      Time\n",
      "       0    0.0000000e+00   1.850000e+01   0.000000e+00      0s\n",
      "       2    3.4000000e+01   0.000000e+00   0.000000e+00      0s\n",
      "\n",
      "Solved in 2 iterations and 0.01 seconds\n",
      "Optimal objective  3.400000000e+01\n"
     ]
    }
   ],
   "source": [
    "opt_mod.optimize()\n",
    "opt_mod.write(\"linear_model.lp\")"
   ]
  },
  {
   "cell_type": "code",
   "execution_count": 6,
   "metadata": {},
   "outputs": [
    {
     "name": "stdout",
     "output_type": "stream",
     "text": [
      "Objective Funktion Value: 34.000000\n",
      "x: 2\n",
      "y: 6\n"
     ]
    }
   ],
   "source": [
    "print('Objective Funktion Value: %f'% opt_mod.objVal)\n",
    "for v in opt_mod.getVars():\n",
    "    print('%s: %g' %(v.varName,v.x))"
   ]
  },
  {
   "cell_type": "markdown",
   "metadata": {},
   "source": [
    "### LP Vorlesung 1.\n",
    "\n",
    "<code> \n",
    "Maximize\n",
    "    30 x1 + 25 x2\n",
    "subject to\n",
    "      x1 +   x2 <= 10\n",
    "    5 x1 + 2 x2 <= 30\n",
    "             x2 <=  9\n",
    "      x1        <=  6\n",
    "end </code>"
   ]
  },
  {
   "cell_type": "code",
   "execution_count": 7,
   "metadata": {},
   "outputs": [],
   "source": [
    "opt_mod = Model(name = 'linear program')\n",
    "\n",
    "x1 = opt_mod.addVar(name = 'x1', vtype = GRB.CONTINUOUS, lb = 0)\n",
    "x2 = opt_mod.addVar(name = 'x2', vtype = GRB.CONTINUOUS, lb = 0)\n",
    "obj_fn = 30*x1 + 25*x2\n",
    "opt_mod.setObjective(obj_fn, GRB.MAXIMIZE) # GRB.MAXIMIZE\n",
    "\n",
    "c1 = opt_mod.addConstr(   x1   +   x2 <= 10, name = 'c1')\n",
    "c2 = opt_mod.addConstr( 5*x1   + 2*x2 <= 30, name = 'c2')\n",
    "c3 = opt_mod.addConstr(            x2 <= 9, name = 'c3')\n",
    "c4 = opt_mod.addConstr(   x1          <= 6, name = 'c4')"
   ]
  },
  {
   "cell_type": "code",
   "execution_count": 8,
   "metadata": {},
   "outputs": [
    {
     "name": "stdout",
     "output_type": "stream",
     "text": [
      "Gurobi Optimizer version 9.1.2 build v9.1.2rc0 (win64)\n",
      "Thread count: 4 physical cores, 8 logical processors, using up to 8 threads\n",
      "Optimize a model with 4 rows, 2 columns and 6 nonzeros\n",
      "Model fingerprint: 0x21352f07\n",
      "Coefficient statistics:\n",
      "  Matrix range     [1e+00, 5e+00]\n",
      "  Objective range  [3e+01, 3e+01]\n",
      "  Bounds range     [0e+00, 0e+00]\n",
      "  RHS range        [6e+00, 3e+01]\n",
      "Presolve removed 2 rows and 0 columns\n",
      "Presolve time: 0.01s\n",
      "Presolved: 2 rows, 2 columns, 4 nonzeros\n",
      "\n",
      "Iteration    Objective       Primal Inf.    Dual Inf.      Time\n",
      "       0    3.0000000e+02   6.500000e+00   0.000000e+00      0s\n",
      "       2    2.6666667e+02   0.000000e+00   0.000000e+00      0s\n",
      "\n",
      "Solved in 2 iterations and 0.01 seconds\n",
      "Optimal objective  2.666666667e+02\n",
      "Objective Funktion Value: 266.666667\n",
      "x1: 3.33333\n",
      "x2: 6.66667\n"
     ]
    },
    {
     "data": {
      "text/plain": [
       "<bound method Constr.getAttr of <gurobi.Constr c1>>"
      ]
     },
     "execution_count": 8,
     "metadata": {},
     "output_type": "execute_result"
    }
   ],
   "source": [
    "opt_mod.optimize()\n",
    "opt_mod.write(\"linear_model.lp\")\n",
    "print('Objective Funktion Value: %f'% opt_mod.objVal)\n",
    "for v in opt_mod.getVars():\n",
    "    print('%s: %g' %(v.varName,v.x))\n",
    "c1.getAttr"
   ]
  },
  {
   "cell_type": "code",
   "execution_count": 10,
   "metadata": {},
   "outputs": [
    {
     "data": {
      "text/plain": [
       "array([1., 1., 1., 1., 1., 1., 1., 1., 1.])"
      ]
     },
     "execution_count": 10,
     "metadata": {},
     "output_type": "execute_result"
    }
   ],
   "source": [
    "# help(opt_mod)\n",
    "np.ones(9)"
   ]
  },
  {
   "cell_type": "code",
   "execution_count": 21,
   "metadata": {},
   "outputs": [
    {
     "data": {
      "image/png": "[encoded data removed]",
      "text/plain": [
       "<Figure size 648x432 with 1 Axes>"
      ]
     },
     "metadata": {
      "needs_background": "light"
     },
     "output_type": "display_data"
    },
    {
     "data": {
      "text/plain": [
       "266.6666666666667"
      ]
     },
     "execution_count": 21,
     "metadata": {},
     "output_type": "execute_result"
    }
   ],
   "source": [
    "x_1 = np.arange(0,10,0.1)\n",
    "\n",
    "b = 30*x1.X + 25*x2.X\n",
    "z = (b - 30*x_1) / 25\n",
    "a1 = 10 - x_1\n",
    "a2 = (30 - 5 * x_1 ) / 2\n",
    "a3 = np.array([9.0 for i in range(0,len(x_1))])\n",
    "\n",
    "a4 = np.minimum(np.minimum(a1,a2),a3)\n",
    "\n",
    "plt.figure(figsize=(9,6))\n",
    "plt.plot(x1.X,x2.X,marker=\"o\", color = 'r')\n",
    "plt.plot(x_1, z, 'k--')\n",
    "       \n",
    "plt.plot(x_1, a1, 'r--')\n",
    "plt.plot(x_1, a2,'b--')\n",
    "plt.plot(x_1, [9 for i in range(0,len(x_1))],'g--')\n",
    "plt.plot([6 for i in range(0,15)],range(0,15),'y--')\n",
    "\n",
    "plt.fill_between(x_1,a4,color='r',alpha=0.2)\n",
    "\n",
    "plt.hlines(y=0, xmin=0, xmax=10,colors='k', linestyles='solid', label='' )\n",
    "plt.vlines(x=0, ymin=0, ymax=15,colors='k')\n",
    "\n",
    "plt.xlim([0, 10])\n",
    "plt.ylim([0, 10])\n",
    "\n",
    "plt.grid(True)\n",
    "plt.xlabel(\"X1-Axis (Eis B)\")\n",
    "plt.ylabel(\"X2-Axis (Eis A)\")\n",
    "\n",
    "plt.show()\n"
   ]
  },
  {
   "cell_type": "code",
   "execution_count": null,
   "metadata": {
    "pycharm": {
     "name": "#%%\n"
    }
   },
   "outputs": [],
   "source": [
    "obj_fn = 30*x1 + 25*x2\n",
    "opt_mod.setObjective(obj_fn, GRB.MAXIMIZE) # GRB.MAXIMIZE\n",
    "\n",
    "c1 = opt_mod.addConstr(   x1   +   x2 <= 10, name = 'c1')\n",
    "c2 = opt_mod.addConstr( 5*x1   + 2*x2 <= 30, name = 'c2')\n",
    "c3 = opt_mod.addConstr(            x2 <= 9, name = 'c3')\n",
    "c4 = opt_mod.addConstr(   x1          <= 6, name = 'c4')"
   ]
  }
 ],
 "metadata": {
  "kernelspec": {
   "display_name": "Python 3",
   "language": "python",
   "name": "python3"
  },
  "language_info": {
   "codemirror_mode": {
    "name": "ipython",
    "version": 3
   },
   "file_extension": ".py",
   "mimetype": "text/x-python",
   "name": "python",
   "nbconvert_exporter": "python",
   "pygments_lexer": "ipython3",
   "version": "3.8.5"
  }
 },
 "nbformat": 4,
 "nbformat_minor": 4
}