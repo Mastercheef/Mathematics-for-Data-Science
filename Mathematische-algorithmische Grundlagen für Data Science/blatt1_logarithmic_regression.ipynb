{
 "cells": [
  {
   "cell_type": "markdown",
   "metadata": {},
   "source": [
    "## Aufgabe 1 (Lineare Ausgleichsrechnung)"
   ]
  },
  {
   "cell_type": "code",
   "execution_count": 1,
   "metadata": {},
   "outputs": [],
   "source": [
    "import numpy as np\n",
    "from math import *\n",
    "from sklearn.linear_model import LinearRegression\n",
    "from scipy.stats import linregress\n",
    "import scipy.linalg as spl\n",
    "import scipy.interpolate as spi\n",
    "import random as rd\n",
    "import matplotlib.pyplot as plt\n",
    "from sympy import *\n",
    "import sympy as sym\n",
    "sym.init_printing()\n",
    "from IPython.display import display, Math\n",
    "import pandas as pd"
   ]
  },
  {
   "cell_type": "code",
   "execution_count": 2,
   "metadata": {},
   "outputs": [],
   "source": [
    "x = np.array([0.0, 0.5, 1.0, 1.5, 2.0, 2.5, 3.0, 3.5, 4.0, 4.5, 5.0])\n",
    "y = np.array([5.1, 7.8, 7.1, 7.4, 9.4, 8.4, 8.9, 6.2, 4.7, 3.3, 0.6])\n",
    "n = 3\n",
    "\n",
    "a = np.array(list(map(lambda x: x ** 2, x))).reshape(len(x), 1)\n",
    "a = np.append(a, np.array(list(map(lambda x: x, x))).reshape(len(x), 1), axis=1)\n",
    "a = np.append(a, np.array(list(map(lambda x: 1, x))).reshape(len(x), 1), axis=1)\n",
    "\n",
    "aT = np.transpose(a)\n",
    "le = np.matmul(aT, a)\n",
    "re = np.matmul(aT, y).reshape(3, 1)"
   ]
  },
  {
   "cell_type": "code",
   "execution_count": 3,
   "metadata": {},
   "outputs": [
    {
     "data": {
      "text/plain": "(-0.885780885780889, 3.50890442890444, 5.24195804195803)",
      "image/png": "[encoded data removed]",
      "text/latex": "$\\displaystyle \\left( -0.885780885780889, \\  3.50890442890444, \\  5.24195804195803\\right)$"
     },
     "execution_count": 3,
     "metadata": {},
     "output_type": "execute_result"
    }
   ],
   "source": [
    "N = Matrix(le)\n",
    "r = Matrix(re)\n",
    "a = Matrix(a)\n",
    "aT = Matrix(aT)\n",
    "l1, l2, l3,la = symbols(\"λ1 λ2 λ3 λ\")\n",
    "E = list(linsolve((N, r), [l1, l2, l3]))[0]\n",
    "y_fun = lambda x: E[0] * (x ** 2) + E[1] * x + E[2]\n",
    "l = Matrix([l1,l2,l3])\n",
    "E"
   ]
  },
  {
   "cell_type": "code",
   "execution_count": 18,
   "metadata": {},
   "outputs": [
    {
     "data": {
      "text/latex": [
       "$\\displaystyle \\ \\text{  A = } \\left[\\begin{matrix}0 & 0 & 1.0\\\\0.25 & 0.5 & 1.0\\\\1.0 & 1.0 & 1.0\\\\2.25 & 1.5 & 1.0\\\\4.0 & 2.0 & 1.0\\\\6.25 & 2.5 & 1.0\\\\9.0 & 3.0 & 1.0\\\\12.25 & 3.5 & 1.0\\\\16.0 & 4.0 & 1.0\\\\20.25 & 4.5 & 1.0\\\\25.0 & 5.0 & 1.0\\end{matrix}\\right]   \\text{  AT = } \\left[\\begin{array}{ccccccccccc}0 & 0.25 & 1.0 & 2.25 & 4.0 & 6.25 & 9.0 & 12.25 & 16.0 & 20.25 & 25.0\\\\0 & 0.5 & 1.0 & 1.5 & 2.0 & 2.5 & 3.0 & 3.5 & 4.0 & 4.5 & 5.0\\\\1.0 & 1.0 & 1.0 & 1.0 & 1.0 & 1.0 & 1.0 & 1.0 & 1.0 & 1.0 & 1.0\\end{array}\\right] $"
      ],
      "text/plain": [
       "<IPython.core.display.Math object>"
      ]
     },
     "metadata": {},
     "output_type": "display_data"
    }
   ],
   "source": [
    "display(Math('\\ \\\\text{  A = } %s   \\\\text{  AT = } %s ' % (sym.latex(sym.simplify(a)) , (sym.latex(sym.simplify(aT)))  ))   )"
   ]
  },
  {
   "cell_type": "code",
   "execution_count": 19,
   "metadata": {},
   "outputs": [
    {
     "data": {
      "text/latex": [
       "$\\displaystyle \\ \\text{  }\\left[\\begin{matrix}1583.3125 & 378.125 & 96.25\\\\378.125 & 96.25 & 27.5\\\\96.25 & 27.5 & 11.0\\end{matrix}\\right]   \\text{*} \\left[\\begin{matrix}λ1\\\\λ2\\\\λ3\\end{matrix}\\right] \\text{= } \\left[\\begin{matrix}428.875\\\\146.95\\\\68.9\\end{matrix}\\right]$"
      ],
      "text/plain": [
       "<IPython.core.display.Math object>"
      ]
     },
     "metadata": {},
     "output_type": "display_data"
    }
   ],
   "source": [
    "display(Math('\\ \\\\text{  }%s   \\\\text{*} %s \\\\text{= } %s' % (sym.latex(sym.simplify(N)) , (sym.latex(sym.simplify(l))), (sym.latex(sym.simplify(r)))  ))   )"
   ]
  },
  {
   "cell_type": "code",
   "execution_count": 20,
   "metadata": {},
   "outputs": [
    {
     "data": {
      "text/latex": [
       "$\\displaystyle \\ \\text{   l = }{\\left\\{\\left( -0.885780885780889, \\  3.50890442890444, \\  5.24195804195803\\right)\\right\\}}  $"
      ],
      "text/plain": [
       "<IPython.core.display.Math object>"
      ]
     },
     "metadata": {},
     "output_type": "display_data"
    }
   ],
   "source": [
    "En = (linsolve((N, r), [l1, l2, l3]))\n",
    "display(Math('\\ \\\\text{   %s = }{%s}  ' % ('l',sym.latex(sym.simplify(En))  ))   )"
   ]
  },
  {
   "cell_type": "code",
   "execution_count": 21,
   "metadata": {},
   "outputs": [
    {
     "data": {
      "image/png": "[encoded data removed]",
      "text/plain": [
       "<Figure size 576x432 with 1 Axes>"
      ]
     },
     "metadata": {
      "needs_background": "light"
     },
     "output_type": "display_data"
    }
   ],
   "source": [
    "plt.figure(figsize=(8,6))\n",
    "plt.scatter(x, y, alpha=0.8,edgecolor='b')\n",
    "plt.title('Messwerte')\n",
    "plt.xlabel(\"x-axis\")\n",
    "plt.ylabel(\"y-axis\")\n",
    "plt.grid()\n",
    "plt.plot(x, y_fun(x), \"-r\", label=\"y = a* x^2 + b*x+c\")\n",
    "ax = plt.gca()\n",
    "plt.legend(loc='best',edgecolor=\"k\")\n",
    "plt.show()"
   ]
  },
  {
   "cell_type": "markdown",
   "metadata": {},
   "source": [
    "## Aufgabe 2 (Polynominterpolation vs. lineare Regression)"
   ]
  },
  {
   "cell_type": "code",
   "execution_count": 22,
   "metadata": {},
   "outputs": [],
   "source": [
    "groesse = np.array([1.55, 1.57, 1.62, 1.68, 1.75, 1.76, 1.81, 1.83,1.87, 1.89, 1.90, 1.92, 1.95, 1.96, 1.99, 2.02])\n",
    "gewicht = np.array([ 51,   50,   55,   52,   60,   68,   78,   91,84,   81,   90,  105,   95,   99,  100,  101])\n",
    "daten = list(zip(groesse,gewicht))"
   ]
  },
  {
   "cell_type": "code",
   "execution_count": 23,
   "metadata": {},
   "outputs": [],
   "source": [
    "def ziehe_acht(daten):\n",
    "    sample = rd.sample(daten,8)\n",
    "    sample2=[i for i in daten if i not in sample]\n",
    "    gr_aus = []\n",
    "    gew_aus = []\n",
    "    gr_rest = []\n",
    "    gew_rest = []\n",
    "    for i in range(0,8):\n",
    "        gr_aus.append(sample[i][0])\n",
    "        gew_aus.append(sample[i][1])\n",
    "        gr_rest.append(sample2[i][0])\n",
    "        gew_rest.append(sample2[i][1])\n",
    "        \n",
    "    return gr_aus, gew_aus, gr_rest, gew_rest, sorted(list(zip(gr_aus,gew_aus))), sorted(list(zip(gr_rest,gew_rest)))\n",
    "\n",
    "sample = ziehe_acht(daten)"
   ]
  },
  {
   "cell_type": "code",
   "execution_count": 24,
   "metadata": {},
   "outputs": [],
   "source": [
    "def y_reg(sample,x,auswahl=True):\n",
    "    if(auswahl):\n",
    "        b, a, r, p, std = linregress(sample[0],sample[1])\n",
    "        return a + b * x\n",
    "    else:\n",
    "        b, a, r, p, std = linregress(sample[2],sample[3])\n",
    "        return a + b * x\n",
    "\n",
    "x = np.array(sample[0])\n",
    "y = np.array(sample[1])\n",
    "y = y.reshape(len(y),1)\n",
    "\n",
    "x_rest = np.array(sample[2])\n",
    "y_rest = np.array(sample[3])\n",
    "y_rest = y_rest.reshape(len(y_rest),1)"
   ]
  },
  {
   "cell_type": "code",
   "execution_count": 31,
   "metadata": {},
   "outputs": [
    {
     "data": {
      "image/png": "[encoded data removed]",
      "text/latex": [
       "$\\displaystyle \\left( 8, \\  8\\right)$"
      ],
      "text/plain": [
       "(8, 8)"
      ]
     },
     "execution_count": 31,
     "metadata": {},
     "output_type": "execute_result"
    }
   ],
   "source": [
    "def vander_solve(x,y):\n",
    "    V = np.vander(sorted(x),8,increasing=True)\n",
    "    p = spl.solve(V, y)\n",
    "    return p\n",
    "def polynom(p,x):\n",
    "    return sum([(p[i]*np.power(x,i)) for i in range(7,-1,-1)])\n",
    "\n",
    "x_sort =[i[0] for i in sample[4] ]\n",
    "y_sort =[i[1] for i in sample[4] ]\n",
    "\n",
    "x_sort_r =[i[0] for i in sample[5] ]\n",
    "y_sort_r =[i[1] for i in sample[5] ]\n",
    "\n",
    "#Berechnung des Polynoms mit Hilfe der Vandermonte-Matrix\n",
    "V = np.vander(x_sort,8,increasing=True)\n",
    "p = spl.solve(V,y_sort)\n",
    "\n",
    "V_rest = np.vander(x_sort_r,8,increasing=True)\n",
    "p_rest = spl.solve(V_rest, y_sort_r)\n",
    "\n",
    "p = np.array(p)\n",
    "p_rest= np.array(p_rest)\n",
    "\n",
    "V.shape"
   ]
  },
  {
   "cell_type": "code",
   "execution_count": 26,
   "metadata": {},
   "outputs": [
    {
     "data": {
      "text/latex": [
       "$\\displaystyle  \\text{V = } \\left[\\begin{matrix}1.0 & 1.62 & 2.6244 & 4.251528 & 6.88747536 & 11.1577100832 & 18.075490334784 & 29.2822943423501\\\\1.0 & 1.75 & 3.0625 & 5.359375 & 9.37890625 & 16.4130859375 & 28.722900390625 & 50.2650756835938\\\\1.0 & 1.81 & 3.2761 & 5.929741 & 10.73283121 & 19.4264244901 & 35.161828327081 & 63.6429092720166\\\\1.0 & 1.89 & 3.5721 & 6.751269 & 12.75989841 & 24.1162079949 & 45.579633110361 & 86.1455065785823\\\\1.0 & 1.9 & 3.61 & 6.859 & 13.0321 & 24.76099 & 47.045881 & 89.3871739\\\\1.0 & 1.95 & 3.8025 & 7.414875 & 14.45900625 & 28.1950621875 & 54.980371265625 & 107.211723967969\\\\1.0 & 1.96 & 3.8416 & 7.529536 & 14.75789056 & 28.9254654976 & 56.693912375296 & 111.12006825558\\\\1.0 & 2.02 & 4.0804 & 8.242408 & 16.64966416 & 33.6323216032 & 67.937289638464 & 137.233325069697\\end{matrix}\\right]$"
      ],
      "text/plain": [
       "<IPython.core.display.Math object>"
      ]
     },
     "metadata": {},
     "output_type": "display_data"
    }
   ],
   "source": [
    "#Ausgabe Vandermonte-Matrix\n",
    "a0,a1,a2,a3,a4,a5,a6 = symbols(\"a0 a1 a2 a3 a4 a5 a6\")\n",
    "P = Matrix(p)\n",
    "V = Matrix(V)\n",
    "Y = Matrix(y)\n",
    "a = Matrix([a0,a1,a2,a3,a4,a5,a6 ])\n",
    "display(Math(' \\\\text{V = } %s' % (sym.latex(sym.simplify(V))  ))   )"
   ]
  },
  {
   "cell_type": "code",
   "execution_count": 27,
   "metadata": {},
   "outputs": [
    {
     "data": {
      "text/latex": [
       "$\\displaystyle \\ \\text{  }V   \\text{*} \\left[\\begin{matrix}a_{0}\\\\a_{1}\\\\a_{2}\\\\a_{3}\\\\a_{4}\\\\a_{5}\\\\a_{6}\\end{matrix}\\right] \\text{= } \\left[\\begin{matrix}60\\\\78\\\\90\\\\81\\\\95\\\\101\\\\55\\\\99\\end{matrix}\\right]$"
      ],
      "text/plain": [
       "<IPython.core.display.Math object>"
      ]
     },
     "metadata": {},
     "output_type": "display_data"
    }
   ],
   "source": [
    "display(Math('\\ \\\\text{  }%s   \\\\text{*} %s \\\\text{= } %s' %(sym.latex('V'), (sym.latex(sym.simplify(a))),\n",
    "                                                            (sym.latex(sym.simplify(Y))))))"
   ]
  },
  {
   "cell_type": "code",
   "execution_count": 28,
   "metadata": {},
   "outputs": [
    {
     "data": {
      "image/png": "[encoded data removed]",
      "text/plain": [
       "<Figure size 576x432 with 1 Axes>"
      ]
     },
     "metadata": {
      "needs_background": "light"
     },
     "output_type": "display_data"
    }
   ],
   "source": [
    "plt.figure(figsize=(8,6))\n",
    "plt.scatter(x,y,alpha=.6,edgecolor='b',label='Menschen ausgewählt')\n",
    "x_ = np.linspace(min(x),max(x))\n",
    "\n",
    "#Regressionsgerade der ausgewählten Datensätze\n",
    "plt.plot(x,y_reg(sample,x,True),'r',alpha=0.7,label='RegGerade ausgewählt',linewidth=1)\n",
    "\n",
    "#Polynom Grad 7 der ausgewählten Datensätze\n",
    "plt.plot(sorted(x_),polynom(p,x_),'g',alpha=0.8,label='Polynom Grad.7 ausgewählt',linewidth=1)\n",
    "\n",
    "plt.title('Zuschauer Basketball ausgewählt', fontsize=16, color='black')\n",
    "plt.xlabel('Groesse in [cm]', fontsize=14, color='gray')\n",
    "plt.ylabel('Gewicht in [$kg$]', fontsize=14, color='gray')\n",
    "plt.legend(loc='best',edgecolor=\"k\")\n",
    "plt.grid(True)"
   ]
  },
  {
   "cell_type": "code",
   "execution_count": 15,
   "metadata": {},
   "outputs": [
    {
     "data": {
      "image/png": "[encoded data removed]",
      "text/plain": [
       "<Figure size 576x432 with 1 Axes>"
      ]
     },
     "metadata": {
      "needs_background": "light"
     },
     "output_type": "display_data"
    }
   ],
   "source": [
    "plt.figure(figsize=(8,6))\n",
    "x_r = np.linspace(min(x_rest),max(x_rest))\n",
    "plt.scatter(x_rest,y_rest,alpha=.6,edgecolor='k',label='Menschen Nichtausgewählt')\n",
    "#Regressionsgerade der Nicht ausgewählten Datensätze\n",
    "plt.plot(x_rest,y_reg(sample,x_rest,auswahl=False),'y',alpha=0.7,label='RegGerade nicht aus.',linewidth=1)\n",
    "plt.plot(sorted(x_r),(polynom(p_rest,sorted(x_r))),'g',alpha=0.8,label='Polynom Grad.7 ausgewählt',linewidth=1)\n",
    "plt.title('Zuschauer Basketball nicht ausgewählt', fontsize=16, color='black')\n",
    "plt.xlabel('Groesse in [cm]', fontsize=14, color='gray')\n",
    "plt.ylabel('Gewicht in [$kg$]', fontsize=14, color='gray')\n",
    "plt.legend(loc='best',edgecolor=\"k\")\n",
    "plt.grid(True)"
   ]
  },
  {
   "cell_type": "code",
   "execution_count": 16,
   "metadata": {},
   "outputs": [],
   "source": [
    "#Berechnung Summe der quadrierten Fehler\n",
    "def e_f(f_x, y):\n",
    "    e =  [ pow((y[i]-f_x[i]),2) for i in range(0,len(y))]\n",
    "    return sum(e)\n",
    "\n",
    "\n",
    "def vander_solve(x,y):\n",
    "    V = np.vander(sorted(x),8,increasing=True)\n",
    "    p = spl.solve(V, y)\n",
    "    return p\n",
    "def polynom(p,x):\n",
    "    return sum([(p[i]*np.power(x,i)) for i in range(7,-1,-1)])\n",
    "#Wir betrachten die Funktionen die über die Auswahl laufen\n",
    "y = y\n",
    "f_x_reg_a = (y_reg(sample,x,True))\n",
    "\n",
    "f_x_pol_a = polynom(p,x_)  \n",
    "\n",
    "#Hier die Funktionen des Restes\n",
    "y_rest=y_rest\n",
    "f_x_reg_re = y_reg(sample,x_rest,auswahl=False)\n",
    "f_x_pol_re = polynom(p_rest,(x_r))   \n",
    "\n",
    "\n",
    "labels=['Gerade Auswahl','Interpolationspolynom Auswahl','Gerade Rest','Interpolationspolynom Rest']\n",
    "fehler=[e_f(f_x_reg_a,y),e_f(f_x_pol_a,y),e_f(f_x_reg_re,y_rest),e_f(f_x_pol_re,y_rest)]"
   ]
  },
  {
   "cell_type": "code",
   "execution_count": 17,
   "metadata": {},
   "outputs": [
    {
     "data": {
      "text/latex": [
       "$\\displaystyle \\ \\text{  E(g) Fehler Gerade Auswahl = }{257.579265985622}  $"
      ],
      "text/plain": [
       "<IPython.core.display.Math object>"
      ]
     },
     "metadata": {},
     "output_type": "display_data"
    },
    {
     "data": {
      "text/latex": [
       "$\\displaystyle \\ \\text{  E(g) Fehler Interpolationspolynom Auswahl = }{26231.2703649665}  $"
      ],
      "text/plain": [
       "<IPython.core.display.Math object>"
      ]
     },
     "metadata": {},
     "output_type": "display_data"
    },
    {
     "data": {
      "text/latex": [
       "$\\displaystyle \\ \\text{  E(g) Fehler Gerade Rest = }{344.2787456446}  $"
      ],
      "text/plain": [
       "<IPython.core.display.Math object>"
      ]
     },
     "metadata": {},
     "output_type": "display_data"
    },
    {
     "data": {
      "text/latex": [
       "$\\displaystyle \\ \\text{  E(g) Fehler Interpolationspolynom Rest = }{118382030.126409}  $"
      ],
      "text/plain": [
       "<IPython.core.display.Math object>"
      ]
     },
     "metadata": {},
     "output_type": "display_data"
    },
    {
     "data": {
      "text/latex": [
       "$\\displaystyle \\ \\text{   E(f) =  Gerade Auswahl = }{257.579265985622}  $"
      ],
      "text/plain": [
       "<IPython.core.display.Math object>"
      ]
     },
     "metadata": {},
     "output_type": "display_data"
    }
   ],
   "source": [
    "# from sklearn.metrics import mean_squared_error\n",
    "# mse=[mean_squared_error(f_x_reg_a,y),mean_squared_error(f_x_pol_a,y),mean_squared_error(f_x_reg_re,y_rest),mean_squared_error(f_x_pol_re,y_rest)]\n",
    "for f in range(0,len(fehler)):\n",
    "    display(Math('\\ \\\\text{  E(g) Fehler %s = }{%s}  ' % (labels[f],sym.latex(sym.simplify(fehler[f]))  )) )\n",
    "display(Math('\\ \\\\text{   E(f) =  %s = }{%s}  ' % (labels[fehler.index(min(fehler))],sym.latex(sym.simplify(min(fehler))  )) ))"
   ]
  },
  {
   "cell_type": "markdown",
   "metadata": {},
   "source": [
    "### Aufgabe 3 (Logarithmisch-lineare Regression)"
   ]
  },
  {
   "cell_type": "code",
   "execution_count": 19,
   "metadata": {},
   "outputs": [],
   "source": [
    "import math\n",
    "x3 = np.array([ 1, 2, 4, 6,  8, 10,  12,  14 ])\n",
    "y3 = np.array([ 1, 1, 3, 8, 21, 55, 144, 377 ])\n",
    "log_y3 = list((map(lambda x:math.log(x),y3)))"
   ]
  },
  {
   "cell_type": "code",
   "execution_count": 20,
   "metadata": {},
   "outputs": [],
   "source": [
    "l2v, l1v, r, p, std = linregress(x3,log_y3)\n",
    "f_x = lambda x : np.power(e,l1v) * np.power(e,(l2v*x))"
   ]
  },
  {
   "cell_type": "code",
   "execution_count": 21,
   "metadata": {},
   "outputs": [
    {
     "data": {
      "image/png": "[encoded data removed]",
      "text/plain": [
       "<Figure size 576x432 with 1 Axes>"
      ]
     },
     "metadata": {
      "needs_background": "light"
     },
     "output_type": "display_data"
    }
   ],
   "source": [
    "plt.figure(figsize=(8,6))\n",
    "plt.scatter(x3,y3,alpha=.6,edgecolor='k',label='Daten')\n",
    "\n",
    "plt.plot(x3,f_x(x3),'r-',alpha=0.8,label='log/lin Ausgleichsfunktion',linewidth=1.4)\n",
    "plt.title('Logarithmisch-lineare Regression', fontsize=16, color='black')\n",
    "plt.xlabel('x - axis', fontsize=14)\n",
    "plt.ylabel('y - axis', fontsize=14)\n",
    "plt.legend(loc='best',edgecolor=\"k\")\n",
    "plt.grid(True)"
   ]
  },
  {
   "cell_type": "code",
   "execution_count": 22,
   "metadata": {},
   "outputs": [
    {
     "data": {
      "text/html": [
       "<div>\n",
       "<style scoped>\n",
       "    .dataframe tbody tr th:only-of-type {\n",
       "        vertical-align: middle;\n",
       "    }\n",
       "\n",
       "    .dataframe tbody tr th {\n",
       "        vertical-align: top;\n",
       "    }\n",
       "\n",
       "    .dataframe thead th {\n",
       "        text-align: right;\n",
       "    }\n",
       "</style>\n",
       "<table border=\"1\" class=\"dataframe\">\n",
       "  <thead>\n",
       "    <tr style=\"text-align: right;\">\n",
       "      <th></th>\n",
       "      <th></th>\n",
       "      <th></th>\n",
       "      <th></th>\n",
       "      <th></th>\n",
       "      <th></th>\n",
       "      <th></th>\n",
       "      <th></th>\n",
       "      <th></th>\n",
       "    </tr>\n",
       "  </thead>\n",
       "  <tbody>\n",
       "    <tr>\n",
       "      <th>xi</th>\n",
       "      <td>1.0</td>\n",
       "      <td>2.0</td>\n",
       "      <td>4.000000</td>\n",
       "      <td>6.000000</td>\n",
       "      <td>8.000000</td>\n",
       "      <td>10.000000</td>\n",
       "      <td>12.000000</td>\n",
       "      <td>14.000000</td>\n",
       "    </tr>\n",
       "    <tr>\n",
       "      <th>yi</th>\n",
       "      <td>1.0</td>\n",
       "      <td>1.0</td>\n",
       "      <td>3.000000</td>\n",
       "      <td>8.000000</td>\n",
       "      <td>21.000000</td>\n",
       "      <td>55.000000</td>\n",
       "      <td>144.000000</td>\n",
       "      <td>377.000000</td>\n",
       "    </tr>\n",
       "    <tr>\n",
       "      <th>log(yi)</th>\n",
       "      <td>0.0</td>\n",
       "      <td>0.0</td>\n",
       "      <td>1.098612</td>\n",
       "      <td>2.079442</td>\n",
       "      <td>3.044522</td>\n",
       "      <td>4.007333</td>\n",
       "      <td>4.969813</td>\n",
       "      <td>5.932245</td>\n",
       "    </tr>\n",
       "  </tbody>\n",
       "</table>\n",
       "</div>"
      ],
      "text/plain": [
       "                                                                         \\\n",
       "xi       1.0  2.0  4.000000  6.000000   8.000000  10.000000   12.000000   \n",
       "yi       1.0  1.0  3.000000  8.000000  21.000000  55.000000  144.000000   \n",
       "log(yi)  0.0  0.0  1.098612  2.079442   3.044522   4.007333    4.969813   \n",
       "\n",
       "                     \n",
       "xi        14.000000  \n",
       "yi       377.000000  \n",
       "log(yi)    5.932245  "
      ]
     },
     "execution_count": 22,
     "metadata": {},
     "output_type": "execute_result"
    }
   ],
   "source": [
    "l1, l2, e, x = symbols(\"λ1 λ2 e x\")\n",
    "expr = ( (e**l1v) * (e**(l2v*x)) )\n",
    "\n",
    "d1 = pd.Series(x3,)\n",
    "d2 = pd.Series(y3)\n",
    "d3 = pd.Series(log_y3)\n",
    "d1.name='xi'\n",
    "d2.name='yi'\n",
    "d3.name='log(yi)'\n",
    "df = pd.concat([d1, d2, d3], axis=1)\n",
    "df = df.T\n",
    "df.columns = [''] * len(df.columns)\n",
    "df"
   ]
  },
  {
   "cell_type": "code",
   "execution_count": 23,
   "metadata": {},
   "outputs": [
    {
     "data": {
      "text/latex": [
       "$\\displaystyle l1 = -0.7363879727399478   \\quad l2 = 0.47408897758328833$"
      ],
      "text/plain": [
       "<IPython.core.display.Math object>"
      ]
     },
     "metadata": {},
     "output_type": "display_data"
    }
   ],
   "source": [
    "display(Math('%s = %s   \\\\quad %s = %s' %('l1',sym.latex(l1v),'l2',sym.latex(l2v))))"
   ]
  },
  {
   "cell_type": "code",
   "execution_count": 24,
   "metadata": {},
   "outputs": [
    {
     "data": {
      "text/latex": [
       "$\\displaystyle f(x)= \\frac{e^{0.474088977583288 x}}{e^{0.736387972739948}}, \\quad = e^{0.474088977583288 x - 0.736387972739948}$"
      ],
      "text/plain": [
       "<IPython.core.display.Math object>"
      ]
     },
     "metadata": {},
     "output_type": "display_data"
    }
   ],
   "source": [
    "display(Math('f(x)= %s, \\\\quad = %s' %( sym.latex(expr),sym.latex(sym.simplify(expr)))))"
   ]
  }
 ],
 "metadata": {
  "kernelspec": {
   "display_name": "Python 3",
   "language": "python",
   "name": "python3"
  },
  "language_info": {
   "codemirror_mode": {
    "name": "ipython",
    "version": 3
   },
   "file_extension": ".py",
   "mimetype": "text/x-python",
   "name": "python",
   "nbconvert_exporter": "python",
   "pygments_lexer": "ipython3",
   "version": "3.8.5"
  }
 },
 "nbformat": 4,
 "nbformat_minor": 4
}