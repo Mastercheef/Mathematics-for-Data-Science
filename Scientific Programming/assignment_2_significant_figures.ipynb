{
 "cells": [
  {
   "cell_type": "markdown",
   "metadata": {},
   "source": [
    "## Firm Rules for Sigfigs\n",
    "\n",
    "- All non-zero digits are significant: 1, 2, 3, 4, \n",
    "\n",
    "- Zeros between non-zero digits are significant: 102, 2005, 50009\n",
    "\n",
    "- Leading zeros are never significant: 001, 0.02, 001.887, 0.000515\n",
    "\n",
    "- Decimals - trailing (i.e. after a significant number) zeros are significant: 0.020\n",
    "\n",
    "<br>\n",
    "\n",
    "Possibilities:\n",
    "\n",
    "\n",
    "0.003  ( one sigfix)\n",
    "        \n",
    "$\\frac{120 + 80}{2} = 100$ (imprecise, consider the following examples)\n",
    "        \n",
    "$\\frac{119.7 + 80.0}{2} \\approx 100$ (rounding the final value of 99.85 up to 100)\n",
    "        \n",
    "$\\frac{120. + 80.}{2} = 100.$ (i.e. precise to the one's place)\n",
    "        \n",
    "$\\frac{120.0 + 80.0}{2} = 100.0$ (i.e. precise to the tenth's place)\n",
    "\n",
    "\n",
    "<br>\n",
    "\n",
    "\n",
    "**Examples**\n",
    "\n",
    "1.23 x 10$^2$ and 110. $\\leftarrow$ both have 3 sigfigs\n",
    "<br><br>\n",
    "123.00 and 0.0012300 $\\leftarrow$ both have 5 sigfigs\n",
    "<br><br>\n",
    " 100 versus (100. or 1.00 x 10$^2$) $\\leftarrow$ unclear (safe to *assume* 1) versus 3 sigfigs\n",
    "<br><br>\n",
    "120 versus 1.2 x 10$^2$ $\\leftarrow$ unclear (safe to *assume* 2) versus 2 (clear) sigfigs\n",
    "        (alternative scientific notation: 1.2E+2)\n"
   ]
  },
  {
   "cell_type": "markdown",
   "metadata": {},
   "source": [
    "## Sigfigs and Math\n",
    "\n",
    "**Addition and Subtraction** - requires that the answer's number has places after the decimal that is equal to the least number of decimals present in the sum\n",
    "\n",
    "Examples:\n",
    "1. 7.1 + 2.3 = 9.4\n",
    "2. 5,500.000 + 111.111 = 5,611.111\n",
    "3. 1.6 + 12.4 = 14.0\n",
    "4. 10.4 + 10. = 2.0 x 10$^1$ (Convert 10. to 1.0 x 10$^1$)\n",
    "\n",
    "5. 0.003 + 0.02 = 0.02  (There is less precision in 0.02 in comparison to 0.020. Thus the 0.003 is lost within the impreciseness of 0.02.)\n",
    "\n",
    "6. 0.003 + 0.020 = 0.023\n",
    "\n",
    "7. 2,333.3333 +  22.22  = 2,355.55\n",
    "\n",
    "**Multiplication and Division** - requires that the answer's number has places equal to the number of least amount of significant figures used in the calculation\n",
    "    \n",
    "Examples:\n",
    "1. 8.21 x 2.32   = 19.0 (Unrounded value = 19.0472)\n",
    "2. 8.210 x 2.32  = 19.0\n",
    "3. 8.210 x 2.320 = 19.05\n",
    "4. 1230 x 2.000 = 2.46 x 10$^2$  (Uncertain value of 1230)\n",
    "5. 1230\\. x 2.000 = 2.460 x 10$^2$\n",
    "6. 1.00 x 20.07 = 20.1\n",
    "7. 8.2 x 12.3  = 1.0 x 10$^2$ (Unrounded value = 100.86)\n"
   ]
  },
  {
   "cell_type": "code",
   "execution_count": null,
   "metadata": {
    "pycharm": {
     "name": "#%%\n"
    }
   },
   "outputs": [],
   "source": [
    "0.00700    # 3 sigfigs\n",
    "0.052      # 2 sifgigs\n",
    "370.       # 3 sigfigs\n",
    "10.0       # 3 sigfigs\n",
    "705.001    # 6 sigfigs\n",
    "37,000     # 2 sigfigs\n",
    "37,000.    # 5 sigfigs"
   ]
  }
 ],
 "metadata": {
  "kernelspec": {
   "display_name": "Python 3",
   "language": "python",
   "name": "python3"
  },
  "language_info": {
   "codemirror_mode": {
    "name": "ipython",
    "version": 3
   },
   "file_extension": ".py",
   "mimetype": "text/x-python",
   "name": "python",
   "nbconvert_exporter": "python",
   "pygments_lexer": "ipython3",
   "version": "3.7.1"
  }
 },
 "nbformat": 4,
 "nbformat_minor": 2
}