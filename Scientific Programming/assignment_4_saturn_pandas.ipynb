{
 "cells": [
  {
   "cell_type": "markdown",
   "metadata": {},
   "source": [
    "## <center>  Scientific Programming with Python\n",
    "___\n",
    "\n",
    "### Assignment 4\n",
    "\n",
    "&nbsp;\n",
    "\n",
    "**Author:** &nbsp;Erik Autenrieth &nbsp;(eauten2s, 9036029)\n",
    "\n",
    "**Date:** &nbsp;&nbsp;&nbsp;&nbsp;  2021-05-12 13:05:02\n",
    "\n",
    "___\n",
    "\n",
    "    \n",
    "The planet Saturn has 82 moons of wich only 14 have mean diameters greater than 50 km.\n",
    "\n",
    "- regular satellites:    24  (they formed an orbit arround their mother planet)\n",
    "- irregular satellites:  58  (they are capched by their mother planet)\n",
    "\n",
    "The given csv-file provides 18 of the 24 regular satellites of wich NASA collected the data."
   ]
  },
  {
   "cell_type": "code",
   "execution_count": 2,
   "metadata": {},
   "outputs": [],
   "source": [
    "import sys\n",
    "import csv\n",
    "from statistics import mean, stdev"
   ]
  },
  {
   "cell_type": "markdown",
   "metadata": {},
   "source": [
    "## Task1  \n",
    "\n",
    "1. Read the data from the \"saturn_satellites.csv\" and set up the given parameters dictionary and as arrays.\n",
    "2. Demonstrate the dataset by printing the first element as dictionary."
   ]
  },
  {
   "cell_type": "code",
   "execution_count": 3,
   "metadata": {},
   "outputs": [],
   "source": [
    "filename = '.\\data\\saturn_satellites.csv'\n",
    "\n",
    "def read_csv(filename=None)-> dict:\n",
    "    \"\"\"\n",
    "    The function reads a csv file and converts it into a dictionary.\n",
    "    \n",
    "    Input value:\n",
    "    filename: a csv file\n",
    "    Returns:\n",
    "    data:     the elements of the data as dictionarys into an array.\n",
    "    \"\"\"\n",
    "    \n",
    "    try:\n",
    "        file = open(filename,'r')\n",
    "        dic_reader = csv.DictReader(file)\n",
    "        data = [row for row in dic_reader]\n",
    "        return data\n",
    "    except csv.Error as e:\n",
    "        print(\" Buit-in exception\",e)\n",
    "    except:\n",
    "        print(\"error by open or reading the file\", sys.exc_info())\n",
    "    finally:\n",
    "        file.close()\n",
    "    \n",
    "data = read_csv(filename)"
   ]
  },
  {
   "cell_type": "code",
   "execution_count": 4,
   "metadata": {},
   "outputs": [],
   "source": [
    "# provide a matrix for all datas\n",
    "matrix = [[],[],[],[],[],[],[],[]] \n",
    "\n",
    "labels = []\n",
    "labels.append(list(data[0].keys()))\n",
    "matrix[7] = labels[0]\n",
    "\n",
    "# convert the data into a matrix\n",
    "for d in data:\n",
    "    matrix[0].append(d['Name'])\n",
    "    matrix[1].append(float(d['Semimajor Axis (km)']))\n",
    "    matrix[2].append(float(d['Period (days)']))\n",
    "    matrix[3].append(float(d['Inclination (deg)']))\n",
    "    matrix[4].append(float(d['Period (days)']))\n",
    "    matrix[5].append(float(d['Mean Diameter (km)']))\n",
    "    matrix[6].append(float(d['Mass (kg)']))"
   ]
  },
  {
   "cell_type": "code",
   "execution_count": 5,
   "metadata": {},
   "outputs": [
    {
     "name": "stdout",
     "output_type": "stream",
     "text": [
      "The first element of the dataset:\n"
     ]
    },
    {
     "data": {
      "text/plain": [
       "{'Name': 'Pan',\n",
       " 'Semimajor Axis (km)': '1.33584E+05',\n",
       " 'Period (days)': '0.575',\n",
       " 'Eccentricity': '0.00001',\n",
       " 'Inclination (deg)': '0.0001',\n",
       " 'Mean Diameter (km)': '28.0',\n",
       " 'Mass (kg)': '4.95E+15'}"
      ]
     },
     "execution_count": 5,
     "metadata": {},
     "output_type": "execute_result"
    }
   ],
   "source": [
    "print(\"The first element of the dataset:\")\n",
    "data[:1][0]"
   ]
  },
  {
   "cell_type": "markdown",
   "metadata": {},
   "source": [
    "## Task2\n",
    "\n",
    "Printing the moons with the smallest and the largest diameters in km."
   ]
  },
  {
   "cell_type": "code",
   "execution_count": 6,
   "metadata": {},
   "outputs": [
    {
     "name": "stdout",
     "output_type": "stream",
     "text": [
      "The moon with the smallest diameter is : Methone with 2.8 km\n",
      "The moon with the largest  diameter is : Titan with 5151.0 km\n"
     ]
    }
   ],
   "source": [
    "pos_min_diameter = matrix[5].index(min(matrix[5]))\n",
    "pos_max_diameter = matrix[5].index(max(matrix[5]))\n",
    "\n",
    "print('The moon with the smallest diameter is : {0} with {1} km'.format(matrix[0][pos_min_diameter],\n",
    "                                                                         matrix[5][pos_min_diameter]))\n",
    "print('The moon with the largest  diameter is : {0} with {1} km'.format(matrix[0][pos_max_diameter],\n",
    "                                                                        matrix[5][pos_max_diameter]))"
   ]
  },
  {
   "cell_type": "markdown",
   "metadata": {},
   "source": [
    "## Task3\n",
    "\n",
    "- Create a statistical function which prints the arithmetic mean and the standard deviation of a given dataset.\n",
    "- In this case of the orbital semimajor axes "
   ]
  },
  {
   "cell_type": "code",
   "execution_count": 7,
   "metadata": {},
   "outputs": [
    {
     "name": "stdout",
     "output_type": "stream",
     "text": [
      "The  mean  of all  Semimajor Axis (km) : 1236257 km\n",
      "The  stdev of all  Semimajor Axis (km) : 3042715 km\n"
     ]
    }
   ],
   "source": [
    "# 1 for Semimajor Axis, 2 for Period, 3 for Eccentricity, 4 for Inclination , 5 for Diameter, 6 for Mass\n",
    "dataset = 1\n",
    "\n",
    "def statictic(matrix=None,dataset:int=None):\n",
    "    \"\"\"\n",
    "    Output the mean and the standard deviation of a given dataset. \n",
    "    matrix:    an arraylist of all datasets. \n",
    "    dataset:   an integer [1-6] that indicates on wich dataset the operations will be applied.\n",
    "    \"\"\"\n",
    "    mat_cor = all(isinstance(arr, list) for arr in matrix)\n",
    "    if(( dataset <1 or dataset >6) or(not(isinstance(dataset,int))) or not(mat_cor) ):\n",
    "        sys.exit('Please use an integer between 1 and 6 for the  dataset and setup the matrix just with arrays!')\n",
    "    else:\n",
    "        for funktion in [mean, stdev]:\n",
    "            print(\"The {0} of all  {1} : {2} km\".format(str(funktion)[9:15],matrix[7][dataset],\n",
    "                                                 round(funktion(matrix[dataset]))))  \n",
    "statictic(matrix=matrix,dataset=dataset)"
   ]
  },
  {
   "cell_type": "markdown",
   "metadata": {},
   "source": [
    "## Task4\n",
    "\n",
    "- Create a funktion which calculate and prints the saturn's satellite which is most similar to the earth's moon based \n",
    "  on a given parameter (e.g the Period in (days) or the Mass in (kg)).\n",
    "- Output the outcome of the function for all parameters."
   ]
  },
  {
   "cell_type": "code",
   "execution_count": 8,
   "metadata": {},
   "outputs": [],
   "source": [
    "def most_simular_moon(matrix=None,dataset:int=None,unit:bool=False):\n",
    "    \"\"\"\n",
    "    Calculates the saturn's satellite which is most similar to the earth's moon,\n",
    "    based on the given parameter.\n",
    "    \n",
    "    matrix:    an arraylist of all datasets. \n",
    "    dataset:   an integer [1-6] that indicate on wich dataset the operations will applied.\n",
    "    \"\"\"\n",
    "    # all moon parameters in the same order as the saturn moons\n",
    "    units =[\"\",\"km\",\"days\",\"0=cicle;<1=ellipse\",\"deg\",\"km\",\"kg\"]\n",
    "    moon_params = ['Moon/Earth', 0.3844E6,27.3217,0.0549,5.145,3474.2,7.346E22]\n",
    "    \n",
    "    mat_cor = all(isinstance(arr, list) for arr in matrix)\n",
    "    if(( dataset < 1 or dataset > 6) or(not(isinstance(dataset,int))) or not(mat_cor) ):\n",
    "        sys.exit('Please use an integer between 1 and 6 for the  dataset and setup the matrix just with arrays!')\n",
    "    \n",
    "    # calculatet the most similar moon with die smallest value distance\n",
    "    saturn_moon = [abs(saturtmoon - moon_params[dataset]) for saturtmoon in matrix[dataset]]\n",
    "    min_distance_val = min(saturn_moon)\n",
    "    saturn_moon_pos = saturn_moon.index(min_distance_val)\n",
    "    saturn_moon_name = matrix[0][saturn_moon_pos]\n",
    "\n",
    "    #print with all units\n",
    "    if(unit):print(\"Based on the {0}, the saturn moon: |{1}| with ({2} {3})is most similar to our Moon with ({4} {5}).\"\n",
    "             .format(matrix[7][dataset],saturn_moon_name,matrix[dataset][saturn_moon_pos],units[dataset],moon_params[dataset],units[dataset]))\n",
    "    else: # per default print without all units\n",
    "            print(\"Based on the {0}, the saturn moon: |{1}| with ({2})is most similar to our Moon with({3}).\"\n",
    "            .format(matrix[7][dataset],saturn_moon_name,matrix[dataset][saturn_moon_pos],moon_params[dataset]))"
   ]
  },
  {
   "cell_type": "code",
   "execution_count": 10,
   "metadata": {
    "pycharm": {
     "name": "#%%\n"
    }
   },
   "outputs": [
    {
     "name": "stdout",
     "output_type": "stream",
     "text": [
      "Based on the Semimajor Axis (km), the saturn moon: |Dione| with (377400.0)is most similar to our Moon with(384400.0).\n",
      "Based on the Period (days), the saturn moon: |Hyperion| with (21.28)is most similar to our Moon with(27.3217).\n"
     ]
    }
   ],
   "source": [
    "# print the values without units (better overview)\n",
    "# if you will see the units please set unit = True\n",
    "unit = False \n",
    "for param in range(1,3,1):\n",
    "    most_simular_moon(matrix=matrix,dataset=param,unit=unit)"
   ]
  }
 ],
 "metadata": {
  "kernelspec": {
   "display_name": "Python 3",
   "language": "python",
   "name": "python3"
  },
  "language_info": {
   "codemirror_mode": {
    "name": "ipython",
    "version": 3
   },
   "file_extension": ".py",
   "mimetype": "text/x-python",
   "name": "python",
   "nbconvert_exporter": "python",
   "pygments_lexer": "ipython3",
   "version": "3.8.5"
  }
 },
 "nbformat": 4,
 "nbformat_minor": 4
}