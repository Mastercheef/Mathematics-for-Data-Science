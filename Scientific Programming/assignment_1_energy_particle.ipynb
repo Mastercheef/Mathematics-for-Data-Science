{
 "cells": [
  {
   "cell_type": "markdown",
   "metadata": {},
   "source": [
    "## <center>  Scientific Programming with Python\n",
    "___\n",
    "\n",
    "### Assignment 1, Task 1\n",
    "\n",
    "&nbsp;\n",
    "\n",
    "**Author:** &nbsp;Erik Autenrieth &nbsp;\n",
    "\n",
    "**Date:** &nbsp;&nbsp;&nbsp;&nbsp;  2021-04-14 19:05:49\n",
    "\n",
    "___\n",
    "\n",
    "1. Encode the equation for the energy of a particle in a one dimensional box.\n",
    "\n",
    " &nbsp;\n",
    "\n",
    "$$E(n) =  \\frac{ n^2 h^2  }{8 m L^2}     $$\n",
    "\n",
    "  &nbsp;\n",
    "\n",
    " - $E$  is the energy, a real number\n",
    " - $n$  is the allowed energy level that the particle exist in $ n \\in \\mathbb{N} $\n",
    " - $h$  is the Planck's constant (exact value in SI):  $6.62607015e-34  \\   J*s^{-1} $\n",
    " - $m$  is the particke's mass\n",
    " - $L$  is the length of a one dimensional box\n",
    " \n",
    " \n"
   ]
  },
  {
   "cell_type": "code",
   "execution_count": 3,
   "metadata": {},
   "outputs": [],
   "source": [
    "def energy_particle(quantum_number: int = None,mass:float = None,length:float = None) -> float:\n",
    "    \"\"\"\n",
    "    The function to compute the energy of a particle in a one dimensional box\n",
    "\n",
    "    Parameter Inputs:\n",
    "    quantum_number (n):   The energy level that the particle exist in (positive integer)\n",
    "    mass (m):             The mass of the Particle in (kg)\n",
    "    length (L):           The length of the one dimensional box in (meters)\n",
    "    Constant Parameters:\n",
    "    Planck constant (h):  h = 6.62607015e-34 (J/s)\n",
    "    Returns:\n",
    "    Energy (E):           The Enery for an electron (J)\n",
    "    \"\"\"\n",
    "    #expact, that all Inputs are positive and greater than zero. \n",
    "    assert (quantum_number > 0), 'The quantum number n= ({0}) must be a positive value > 0.'.format(quantum_number)\n",
    "    assert (length > 0),         'The length L= ({0}) must be positive value > 0.'.format(length)\n",
    "    assert (mass > 0),           'The mass   m= ({0}) must be positive value > 0 .'.format(mass)\n",
    "    \n",
    "    #if one value is missing, the function returns None\n",
    "    if(   (quantum_number is None) or (quantum_number < 0) or (not isinstance(quantum_number,int)) or (mass is  None) or (mass<=0) or (not isinstance(mass,float))\n",
    "                                                           or (length is None) or(length <0)or (not isinstance(length,float)) ):\n",
    "        print('Value Error') # raise ValueError(\"failure\")\n",
    "        return None \n",
    "    else:\n",
    "            return ((quantum_number**2)*((6.62607015e-34)**2))/(8*mass*(length**2))"
   ]
  },
  {
   "cell_type": "markdown",
   "metadata": {},
   "source": [
    "### Assignment 1, Task 2\n",
    "\n",
    "___\n",
    "\n",
    "\n",
    "2. Evaluate the energy for an electron (mass = 9.11E-31 kilograms) that resides in a box whose length is (1.0E-9 meters) -\n",
    "do this twice, for when the quantum number is 1 and then 2."
   ]
  },
  {
   "cell_type": "code",
   "execution_count": 6,
   "metadata": {},
   "outputs": [],
   "source": [
    "#Test the function with an given elecron-mass in kg and box-length in meters\n",
    "mass   = 9.11e-31\n",
    "length = 1.0e-9\n",
    "\n",
    "#The solutions are provide as tupels (energy level, Energy) in an Array\n",
    "solutions= [(n,energy_particle(n,mass,length))  for n in range(1,3)]"
   ]
  },
  {
   "cell_type": "code",
   "execution_count": 7,
   "metadata": {},
   "outputs": [
    {
     "name": "stdout",
     "output_type": "stream",
     "text": [
      "The energy for an electron with (box-length = 1.0E-9 m),(mass = 9.11E-31 kg),(n = 1) is 6.024259828858537e-20  J .\n",
      "The energy for an electron with (box-length = 1.0E-9 m),(mass = 9.11E-31 kg),(n = 2) is 2.4097039315434146e-19  J .\n"
     ]
    }
   ],
   "source": [
    "#Print the solutions \n",
    "for n,solution in enumerate(solutions):\n",
    "    print('The energy for an electron with (box-length = 1.0E-9 m),(mass = 9.11E-31 kg),(n = {0}) is {1}  J .'.format(solution[0],solution[1]))"
   ]
  },
  {
   "cell_type": "markdown",
   "metadata": {},
   "source": [
    "### Bonus section \n",
    "\n",
    ">  \n",
    "   1. Trying to display and print the solutions, by using as less lines of code as possible.\n",
    "   2. Trying to display the solutions more beautiful, using `IPython` and `Sympy`.\n",
    "\n",
    "<span style=\"color:red\"> ***This section is not part of the actuall solution for the assignment.***</span>\n",
    " "
   ]
  },
  {
   "cell_type": "code",
   "execution_count": 8,
   "metadata": {},
   "outputs": [
    {
     "name": "stdout",
     "output_type": "stream",
     "text": [
      "6.024259828858537e-20\n",
      "2.4097039315434146e-19\n",
      "5.421833845972683e-19\n",
      "9.638815726173658e-19\n",
      "1.5060649572146343e-18\n"
     ]
    }
   ],
   "source": [
    "#1.\n",
    "def e(mass=9.11e-31,length = 1.0e-9,n_max=5):\n",
    "        [print([lambda n=n,m=mass,l=length :((n**2)*((6.62607015e-34)**2))/(8*m*(l**2)) for n in range(1,n_max+1)][i]()) for i in range(0,n_max)]\n",
    "e()"
   ]
  },
  {
   "cell_type": "code",
   "execution_count": 12,
   "metadata": {},
   "outputs": [],
   "source": [
    "from IPython.display import display,Math\n",
    "import sympy as sym\n",
    "from scipy.constants import Planck,h,c\n",
    "sym.init_printing()\n",
    "\n",
    "#the Planck constant of scipy has a small deviation\n",
    "#print(6.62607015e-34-Planck)"
   ]
  },
  {
   "cell_type": "code",
   "execution_count": 15,
   "metadata": {},
   "outputs": [
    {
     "data": {
      "text/latex": [
       "$\\displaystyle \\text{ E(1) = } \\frac{h^{2} n^{2}}{8 L^{2} m} \\text{ with [m = 9.11e-31][L= 1e-09] } \\quad \\Rightarrow \\quad 6.02425982885854 \\cdot 10^{-20} J$"
      ],
      "text/plain": [
       "<IPython.core.display.Math object>"
      ]
     },
     "metadata": {},
     "output_type": "display_data"
    },
    {
     "data": {
      "text/latex": [
       "$\\displaystyle \\text{ E(2) = } \\frac{h^{2} n^{2}}{8 L^{2} m} \\text{ with [m = 9.11e-31][L= 1e-09] } \\quad \\Rightarrow \\quad 2.40970393154341 \\cdot 10^{-19} J$"
      ],
      "text/plain": [
       "<IPython.core.display.Math object>"
      ]
     },
     "metadata": {},
     "output_type": "display_data"
    }
   ],
   "source": [
    "#2.\n",
    "n,h,m,L=sym.symbols('n,h,m,L')\n",
    "\n",
    "\n",
    "expr =((n**2)*((h)**2))/(8*m*(L**2))\n",
    "\n",
    "planck=6.62607015e-34\n",
    "\n",
    "for i in range(1,3):\n",
    "    display(Math('\\\\text{ E(%g) = } %s \\\\text{ with [m = %g][L= %g] } \\\\quad \\\\Rightarrow \\\\quad %s J'%(i,sym.latex(expr),mass,length,(sym.latex(expr.subs({n:i, m: mass,h:planck,L:length}).evalf())))))"
   ]
  },
  {
   "cell_type": "code",
   "execution_count": 16,
   "metadata": {
    "pycharm": {
     "name": "#%%\n"
    }
   },
   "outputs": [
    {
     "data": {
      "image/png": "[encoded data removed]",
      "text/latex": [
       "$$8.187659678292408e-14$$"
      ],
      "text/plain": [
       "8.187659678292408e-14"
      ]
     },
     "execution_count": 16,
     "metadata": {},
     "output_type": "execute_result"
    }
   ],
   "source": [
    "def mass2energy(mass=None):\n",
    "    '''Requires: a mass in kg since 1 J = 1 kg m^2/s^2 \n",
    "       Returns: an energy in Joules\n",
    "    '''\n",
    "\n",
    "    if mass == None:\n",
    "        print('Error: problem with specifying the mass.')\n",
    "        return None\n",
    "    else:\n",
    "        energy = mass*(c**2)\n",
    "        return energy\n",
    "\n",
    "mass2energy(9.11e-31)"
   ]
  }
 ],
 "metadata": {
  "kernelspec": {
   "display_name": "Python 3",
   "language": "python",
   "name": "python3"
  },
  "language_info": {
   "codemirror_mode": {
    "name": "ipython",
    "version": 3
   },
   "file_extension": ".py",
   "mimetype": "text/x-python",
   "name": "python",
   "nbconvert_exporter": "python",
   "pygments_lexer": "ipython3",
   "version": "3.8.5"
  }
 },
 "nbformat": 4,
 "nbformat_minor": 2
}