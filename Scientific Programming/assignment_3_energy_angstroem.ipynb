{
 "cells": [
  {
   "cell_type": "markdown",
   "metadata": {},
   "source": [
    "## <center>  Scientific Programming with Python\n",
    "___\n",
    "\n",
    "### Assignment 3, Task 1\n",
    "\n",
    "&nbsp;\n",
    "\n",
    "**Author:** &nbsp;Erik Autenrieth &nbsp;(eauten2s, 9036029)\n",
    "\n",
    "**Date:** &nbsp;&nbsp;&nbsp;&nbsp;  2021-04-26 18:10:05\n",
    "\n",
    "___\n",
    "\n",
    "1. Encode the equation for the energy of a particle in a one dimensional box.\n",
    "\n",
    " &nbsp;\n",
    "\n",
    "$$E(n) =  \\frac{ n^2 h^2  }{8 m L^2}     $$\n",
    "\n",
    "  &nbsp;\n",
    "\n",
    " - $E$  is the energy, a real number in  $\\mathrm{J}$. \n",
    " - $n$  is the allowed energy level that the particle exist in $ n \\in \\mathbb{N}^+ $\n",
    " - $h$  is the Planck's constant (exact value in SI):  $6.62607015e-34  \\   J*s^{-1} $\n",
    " - $m$  is the particke's mass in  $\\mathrm{kg}$.\n",
    " - $L$  is the length of a one dimensional box in $ \\mathrm{m} $ or in $\\unicode{xC5}$.   &nbsp;  $1 \\unicode{xC5} = 1\\mathrm{E}{-10} \\mathrm{m} = 100   \\mathrm{pm}  $\n",
    "\n",
    "    \n"
   ]
  },
  {
   "cell_type": "code",
   "execution_count": 1,
   "metadata": {},
   "outputs": [],
   "source": [
    "import sys"
   ]
  },
  {
   "cell_type": "code",
   "execution_count": 2,
   "metadata": {},
   "outputs": [],
   "source": [
    "def angstoem_to_meter(angstroem=None)->float:\n",
    "    \"\"\"\n",
    "    The function convert Ångström to meter.\n",
    "    \n",
    "    Input value:\n",
    "    angstroem: The length of a one dimensional box in (Å)\n",
    "    Returns:\n",
    "    meters:    The length of a one dimensional box in  (meter)\n",
    "    \"\"\"\n",
    "    meters=0\n",
    "    if((angstroem is None)or(angstroem <0) or(not(isinstance(angstroem,int)or (isinstance(angstroem,float))))):\n",
    "        sys.exit('The length in (Å) L = ({0}) was not correct provided.'.format(angstroem))\n",
    "    elif(type(angstroem)==int):\n",
    "        meters = (angstroem * 1e-10)\n",
    "        return meters\n",
    "    else:\n",
    "        sum_decimals = len(str(round((angstroem %1),10)))-2\n",
    "        i=10-sum_decimals\n",
    "        meters = angstroem * pow(10,-i) \n",
    "\n",
    "    return meters"
   ]
  },
  {
   "cell_type": "code",
   "execution_count": 3,
   "metadata": {},
   "outputs": [],
   "source": [
    "def energy_particle(quantum_number: int = None,mass:float = None,length = None,length_meter:bool = True) -> float:\n",
    "    \"\"\"\n",
    "    The function to compute the energy of a particle in a one dimensional box\n",
    "\n",
    "    Parameter Inputs:\n",
    "    quantum_number (n):   The energy level that the particle exist in (positive integer)\n",
    "    mass (m):             The mass of the Particle in (kilogram)\n",
    "    length (L):           The length of the one dimensional box in (meter or Ångström). \n",
    "    length_meter:         Per default in meter.If the variable is False or an Integer the unit in Ångström.\n",
    "    \n",
    "    Constant Parameters:\n",
    "    Planck constant (h):  h = 6.62607015e-34 (Joule/second)\n",
    "    Returns:\n",
    "    Energy (E):           The Enery for an electron (Joule)\n",
    "    \"\"\"\n",
    "    \n",
    "    #expect the given values are greater than zero and have the right type.\n",
    "    if((quantum_number < 1)or(quantum_number is None)or(not isinstance(quantum_number,int))):\n",
    "        sys.exit('The quantum number n = ({0}) was not correct provided.'.format(quantum_number))\n",
    "    if((mass <= 0)or(mass is None)or(not isinstance(mass,float))):\n",
    "        sys.exit('The mass  m = ({0}) was not correct provided.'.format(mass))\n",
    "    if((length <= 0)or(length is None)or(not(isinstance(length,int)or (isinstance(length,float))))):\n",
    "        sys.exit('The length  L = ({0}) was not correct provided.'.format(length))\n",
    "    \n",
    "    #if the length is an integer the unit has to be Angström. Otherwise the box would be to large.\n",
    "    if((type(length)==int) ): \n",
    "        length_meter = False\n",
    "    if(length_meter == False):\n",
    "        length= angstoem_to_meter(length)\n",
    "    return ((quantum_number**2)*((6.62607015e-34)**2))/(8*mass*(length**2))"
   ]
  },
  {
   "cell_type": "markdown",
   "metadata": {},
   "source": [
    "### Assignment 3, Task 2\n",
    "\n",
    "___\n",
    "\n",
    "\n",
    "2. Evaluate the energy for an electron (mass = $9.11\\mathrm{E}{-31}$   kilograms) that resides in a box whose length is ( $1.0\\mathrm{E}{-9}$\n",
    "meters) \n",
    "(i.e. $10$  $\\unicode{xC5}$ngström )\n",
    "\n",
    "- do this for quantum numbers $1$ through $10$. \n"
   ]
  },
  {
   "cell_type": "code",
   "execution_count": 4,
   "metadata": {},
   "outputs": [],
   "source": [
    "#test the function with an given elecron-mass in kg and box-length in meters\n",
    "n_max = 10\n",
    "mass   = 9.11e-31\n",
    "length = 1.0e-9\n",
    "length_angstroem = 10\n",
    "\n",
    "#the solutions are provide as tupels (energy level, energy) in an array\n",
    "solutions= [(n,energy_particle(n,mass,length))  for n in range(1,n_max+1)]"
   ]
  },
  {
   "cell_type": "code",
   "execution_count": 5,
   "metadata": {},
   "outputs": [],
   "source": [
    "#sigfigs\n",
    "sigf_mass = 3\n",
    "sigf_length = 2\n",
    "\n",
    "#if (1 < n < 11) the sigfig of n is 1, if the 10th value is not (10.) \n",
    "sigf_n = 1\n",
    "#pleas enter point=True if you use ( n = 10. )\n",
    "point=False\n",
    "sigf_h = 9\n",
    "\n",
    "#by defalt the smallest number of SFs occurs for n so we round E to sigf_n\n",
    "sigf_e = min([sigf_mass,sigf_length,sigf_n,sigf_h])"
   ]
  },
  {
   "cell_type": "code",
   "execution_count": 6,
   "metadata": {},
   "outputs": [
    {
     "name": "stdout",
     "output_type": "stream",
     "text": [
      "The energy for an electron with (box-length = 1.0E-9 m),(mass = 9.11E-31 kg),(n = 1) is 6.0e-20 J.\n",
      "The energy for an electron with (box-length = 1.0E-9 m),(mass = 9.11E-31 kg),(n = 2) is 2.4e-19 J.\n",
      "The energy for an electron with (box-length = 1.0E-9 m),(mass = 9.11E-31 kg),(n = 3) is 5.4e-19 J.\n",
      "The energy for an electron with (box-length = 1.0E-9 m),(mass = 9.11E-31 kg),(n = 4) is 9.6e-19 J.\n",
      "The energy for an electron with (box-length = 1.0E-9 m),(mass = 9.11E-31 kg),(n = 5) is 1.5e-18 J.\n",
      "The energy for an electron with (box-length = 1.0E-9 m),(mass = 9.11E-31 kg),(n = 6) is 2.2e-18 J.\n",
      "The energy for an electron with (box-length = 1.0E-9 m),(mass = 9.11E-31 kg),(n = 7) is 3.0e-18 J.\n",
      "The energy for an electron with (box-length = 1.0E-9 m),(mass = 9.11E-31 kg),(n = 8) is 3.9e-18 J.\n",
      "The energy for an electron with (box-length = 1.0E-9 m),(mass = 9.11E-31 kg),(n = 9) is 4.9e-18 J.\n",
      "The energy for an electron with (box-length = 1.0E-9 m),(mass = 9.11E-31 kg),(n = 10) is 6.0e-18 J.\n"
     ]
    }
   ],
   "source": [
    "#print the solutions \n",
    "for solution in solutions:\n",
    "    if ((point)and solution[0]==10): sigf_e+=1\n",
    "    print('The energy for an electron with (box-length = 1.0E-9 m),(mass = 9.11E-31 kg),(n = {0}) is {1:.{2}e} J.'.format(solution[0],solution[1],sigf_e))"
   ]
  },
  {
   "cell_type": "markdown",
   "metadata": {},
   "source": [
    "### Bonus section \n",
    "\n",
    "> 1. Trying to display and print the solutions, by using as less lines of code as possible.\n",
    "> 2. Trying to display the solutions more beautiful, using `IPython` and `Sympy`.\n",
    "\n",
    "<span style=\"color:red\"> ***This section is not part of the actuall solution for the assignment.***</span>\n",
    " "
   ]
  },
  {
   "cell_type": "code",
   "execution_count": 7,
   "metadata": {},
   "outputs": [
    {
     "name": "stdout",
     "output_type": "stream",
     "text": [
      "E(1) =  6.024259828858537e-20\n",
      "E(2) =  2.4097039315434146e-19\n",
      "E(3) =  5.421833845972683e-19\n",
      "E(4) =  9.638815726173658e-19\n",
      "E(5) =  1.5060649572146343e-18\n",
      "E(6) =  2.1687335383890732e-18\n",
      "E(7) =  2.951887316140683e-18\n",
      "E(8) =  3.855526290469463e-18\n",
      "E(9) =  4.879650461375415e-18\n",
      "E(10) =  6.024259828858537e-18\n"
     ]
    }
   ],
   "source": [
    "#1.\n",
    "def e(mass=9.11e-31,length = 1.0e-9,n_max=10):\n",
    "        [print(f\"E(%s) = \"%(i+1) , [lambda n=n,m=mass,l=length :((n**2)*((6.62607015e-34)**2))/(8*m*(l**2)) for n in range(1,n_max+1)][i]()) for i in range(0,n_max)]    \n",
    "e()"
   ]
  },
  {
   "cell_type": "code",
   "execution_count": 8,
   "metadata": {
    "pycharm": {
     "name": "#%%\n"
    }
   },
   "outputs": [],
   "source": [
    "from IPython.display import display,Math\n",
    "import sympy as sym\n",
    "from scipy.constants import Planck,h,c\n",
    "sym.init_printing()"
   ]
  },
  {
   "cell_type": "code",
   "execution_count": 9,
   "outputs": [
    {
     "data": {
      "text/plain": "<IPython.core.display.Math object>",
      "text/latex": "$\\displaystyle \\text{ E(1) = } \\frac{h^{2} n^{2}}{8 L^{2} m} \\text{ with [m = 9.11e-31][L= 1e-09][n = 1] } \\quad \\Rightarrow \\quad 6.02425982885854 \\cdot 10^{-20} J$"
     },
     "metadata": {},
     "output_type": "display_data"
    },
    {
     "data": {
      "text/plain": "<IPython.core.display.Math object>",
      "text/latex": "$\\displaystyle \\text{ E(2) = } \\frac{h^{2} n^{2}}{8 L^{2} m} \\text{ with [m = 9.11e-31][L= 1e-09][n = 2] } \\quad \\Rightarrow \\quad 2.40970393154341 \\cdot 10^{-19} J$"
     },
     "metadata": {},
     "output_type": "display_data"
    },
    {
     "data": {
      "text/plain": "<IPython.core.display.Math object>",
      "text/latex": "$\\displaystyle \\text{ E(3) = } \\frac{h^{2} n^{2}}{8 L^{2} m} \\text{ with [m = 9.11e-31][L= 1e-09][n = 3] } \\quad \\Rightarrow \\quad 5.42183384597268 \\cdot 10^{-19} J$"
     },
     "metadata": {},
     "output_type": "display_data"
    },
    {
     "data": {
      "text/plain": "<IPython.core.display.Math object>",
      "text/latex": "$\\displaystyle \\text{ E(4) = } \\frac{h^{2} n^{2}}{8 L^{2} m} \\text{ with [m = 9.11e-31][L= 1e-09][n = 4] } \\quad \\Rightarrow \\quad 9.63881572617366 \\cdot 10^{-19} J$"
     },
     "metadata": {},
     "output_type": "display_data"
    },
    {
     "data": {
      "text/plain": "<IPython.core.display.Math object>",
      "text/latex": "$\\displaystyle \\text{ E(5) = } \\frac{h^{2} n^{2}}{8 L^{2} m} \\text{ with [m = 9.11e-31][L= 1e-09][n = 5] } \\quad \\Rightarrow \\quad 1.50606495721463 \\cdot 10^{-18} J$"
     },
     "metadata": {},
     "output_type": "display_data"
    },
    {
     "data": {
      "text/plain": "<IPython.core.display.Math object>",
      "text/latex": "$\\displaystyle \\text{ E(6) = } \\frac{h^{2} n^{2}}{8 L^{2} m} \\text{ with [m = 9.11e-31][L= 1e-09][n = 6] } \\quad \\Rightarrow \\quad 2.16873353838907 \\cdot 10^{-18} J$"
     },
     "metadata": {},
     "output_type": "display_data"
    },
    {
     "data": {
      "text/plain": "<IPython.core.display.Math object>",
      "text/latex": "$\\displaystyle \\text{ E(7) = } \\frac{h^{2} n^{2}}{8 L^{2} m} \\text{ with [m = 9.11e-31][L= 1e-09][n = 7] } \\quad \\Rightarrow \\quad 2.95188731614068 \\cdot 10^{-18} J$"
     },
     "metadata": {},
     "output_type": "display_data"
    },
    {
     "data": {
      "text/plain": "<IPython.core.display.Math object>",
      "text/latex": "$\\displaystyle \\text{ E(8) = } \\frac{h^{2} n^{2}}{8 L^{2} m} \\text{ with [m = 9.11e-31][L= 1e-09][n = 8] } \\quad \\Rightarrow \\quad 3.85552629046946 \\cdot 10^{-18} J$"
     },
     "metadata": {},
     "output_type": "display_data"
    },
    {
     "data": {
      "text/plain": "<IPython.core.display.Math object>",
      "text/latex": "$\\displaystyle \\text{ E(9) = } \\frac{h^{2} n^{2}}{8 L^{2} m} \\text{ with [m = 9.11e-31][L= 1e-09][n = 9] } \\quad \\Rightarrow \\quad 4.87965046137541 \\cdot 10^{-18} J$"
     },
     "metadata": {},
     "output_type": "display_data"
    },
    {
     "data": {
      "text/plain": "<IPython.core.display.Math object>",
      "text/latex": "$\\displaystyle \\text{ E(10) = } \\frac{h^{2} n^{2}}{8 L^{2} m} \\text{ with [m = 9.11e-31][L= 1e-09][n = 10] } \\quad \\Rightarrow \\quad 6.02425982885854 \\cdot 10^{-18} J$"
     },
     "metadata": {},
     "output_type": "display_data"
    }
   ],
   "source": [
    "#2.\n",
    "n,h,m,L=sym.symbols('n,h,m,L')\n",
    "\n",
    "expr =((n**2)*((h)**2))/(8*m*(L**2))\n",
    "\n",
    "planck=6.62607015e-34\n",
    "\n",
    "for i in range(1,11):\n",
    "    display(Math('\\\\text{ E(%g) = } %s \\\\text{ with [m = %g][L= %g][n = %g] } \\\\quad \\\\Rightarrow \\\\quad %s J'%(i,sym.latex(expr),mass,length,i,(sym.latex(expr.subs({n:i, m: mass,h:planck,L:length}).evalf())))))"
   ],
   "metadata": {
    "collapsed": false,
    "pycharm": {
     "name": "#%%\n"
    }
   }
  }
 ],
 "metadata": {
  "kernelspec": {
   "display_name": "Python 3",
   "language": "python",
   "name": "python3"
  },
  "language_info": {
   "codemirror_mode": {
    "name": "ipython",
    "version": 3
   },
   "file_extension": ".py",
   "mimetype": "text/x-python",
   "name": "python",
   "nbconvert_exporter": "python",
   "pygments_lexer": "ipython3",
   "version": "3.8.5"
  }
 },
 "nbformat": 4,
 "nbformat_minor": 2
}