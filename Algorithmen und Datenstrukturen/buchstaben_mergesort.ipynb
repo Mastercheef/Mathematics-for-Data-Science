{
 "cells": [
  {
   "cell_type": "code",
   "execution_count": 30,
   "metadata": {},
   "outputs": [],
   "source": [
    "import numpy as np\n",
    "import math"
   ]
  },
  {
   "cell_type": "markdown",
   "source": [
    "### Sortieren einer Buchstabenliste mit Mergesort"
   ],
   "metadata": {
    "collapsed": false,
    "pycharm": {
     "name": "#%% md\n"
    }
   }
  },
  {
   "cell_type": "code",
   "execution_count": 31,
   "metadata": {},
   "outputs": [],
   "source": [
    "alpha = ['a','b','c','d','e','f','g','h','i','j','k','l','m','n','o','p','q','r','s','t','u','v','w','x','y','z']\n",
    "n = len(alpha)\n",
    "num = [i for i in range(1,n+1)]"
   ]
  },
  {
   "cell_type": "code",
   "execution_count": 32,
   "metadata": {},
   "outputs": [],
   "source": [
    "alpha_num = list(zip(alpha,num))"
   ]
  },
  {
   "cell_type": "code",
   "execution_count": 33,
   "metadata": {},
   "outputs": [],
   "source": [
    "# Ausgabe Alphabet Nummer\n",
    "# alpha_num"
   ]
  },
  {
   "cell_type": "code",
   "execution_count": 34,
   "metadata": {},
   "outputs": [],
   "source": [
    "# Eintragen der Buchstaben\n",
    "b = ['v','y','i','w','k','g','p','l']"
   ]
  },
  {
   "cell_type": "code",
   "execution_count": 35,
   "metadata": {},
   "outputs": [],
   "source": [
    "def alpha_to_num(b):\n",
    "    nb = []\n",
    "    komplett = []\n",
    "    for buch in b:\n",
    "        for i in range(n):\n",
    "            if buch == alpha_num[i][0]:\n",
    "                nb.append(alpha_num[i][1])\n",
    "                komplett.append(alpha_num[i])\n",
    "    return nb, komplett"
   ]
  },
  {
   "cell_type": "code",
   "execution_count": 40,
   "metadata": {},
   "outputs": [
    {
     "name": "stdout",
     "output_type": "stream",
     "text": [
      "Zahlen\n",
      "[22, 25, 9, 23, 11, 7, 16, 12]\n",
      "Komplett \n",
      "[('v', 22), ('y', 25), ('i', 9), ('w', 23), ('k', 11), ('g', 7), ('p', 16), ('l', 12)]\n",
      "Komplett Sortiert\n",
      "[('g', 7), ('i', 9), ('k', 11), ('l', 12), ('p', 16), ('v', 22), ('w', 23), ('y', 25)]\n"
     ]
    }
   ],
   "source": [
    "nb, komplett = alpha_to_num(b)\n",
    "print('Zahlen:')\n",
    "print(nb)\n",
    "print('Komplett: ')\n",
    "print(komplett)\n",
    "print('Komplett Sortiert:')\n",
    "print(sorted(komplett))"
   ]
  },
  {
   "cell_type": "code",
   "execution_count": 23,
   "metadata": {},
   "outputs": [],
   "source": [
    "def num_to_alpha(nb:list):\n",
    "    al = []\n",
    "    for num in nb:\n",
    "        for i in range(n):\n",
    "            if num == alpha_num[i][1]:\n",
    "                al.append(alpha_num[i][0])\n",
    "    return al"
   ]
  },
  {
   "cell_type": "code",
   "execution_count": 28,
   "metadata": {},
   "outputs": [
    {
     "name": "stdout",
     "output_type": "stream",
     "text": [
      "Given array is:\n",
      "22 25 9 23 11 7 16 12 \n",
      "[22]\n",
      "[25]\n",
      "[22, 25]\n",
      "[9]\n",
      "[23]\n",
      "[9, 23]\n",
      "[9, 22, 23, 25]\n",
      "[11]\n",
      "[7]\n",
      "[7, 11]\n",
      "[16]\n",
      "[12]\n",
      "[12, 16]\n",
      "[7, 11, 12, 16]\n",
      "Sorted array is: \n",
      "7 9 11 12 16 22 23 25 \n"
     ]
    }
   ],
   "source": [
    "def mergeSort(arr):\n",
    "    if len(arr) > 1:\n",
    "          # Finding the mid of the array\n",
    "        mid =math.floor( len(arr)//2)\n",
    "        # Dividing the array elements\n",
    "        L = arr[:mid]\n",
    "        \n",
    "        # into 2 halves\n",
    "        R = arr[mid:]\n",
    "        \n",
    "        # Sorting the first half\n",
    "        mergeSort(L)\n",
    "        print(L)\n",
    "        # Sorting the second half\n",
    "        mergeSort(R)\n",
    "        print(R)\n",
    "        i = j = k = 0\n",
    "        # Copy data to temp arrays L[] and R[]\n",
    "        while i < len(L) and j < len(R):\n",
    "            if L[i] < R[j]:\n",
    "                arr[k] = L[i]\n",
    "                i += 1\n",
    "            else:\n",
    "                arr[k] = R[j]\n",
    "                j += 1\n",
    "            k += 1\n",
    "         # Checking if any element was left\n",
    "        while i < len(L):\n",
    "            arr[k] = L[i]\n",
    "            i += 1\n",
    "            k += 1\n",
    " \n",
    "        while j < len(R):\n",
    "            arr[k] = R[j]\n",
    "            j += 1\n",
    "            k += 1\n",
    " \n",
    "def printList(arr):\n",
    "    for i in range(len(arr)):\n",
    "        print(arr[i], end=\" \")\n",
    "    print()\n",
    " \n",
    " \n",
    "# Driver Code\n",
    "if __name__ == '__main__':\n",
    "    arr = nb.copy()\n",
    "    print(\"Given array is:\", end=\"\\n\")\n",
    "    printList(arr)\n",
    "    mergeSort(arr)\n",
    "    print(\"Sorted array is: \", end=\"\\n\")\n",
    "    printList(arr)"
   ]
  },
  {
   "cell_type": "code",
   "execution_count": 27,
   "metadata": {
    "pycharm": {
     "name": "#%%\n"
    }
   },
   "outputs": [
    {
     "name": "stdout",
     "output_type": "stream",
     "text": [
      "['g', 'i', 'k', 'l', 'p', 'v', 'w', 'y']\n"
     ]
    }
   ],
   "source": [
    "print('Sortierte Buchstabenliste')\n",
    "print(num_to_alpha(arr))"
   ]
  }
 ],
 "metadata": {
  "kernelspec": {
   "display_name": "Python 3",
   "language": "python",
   "name": "python3"
  },
  "language_info": {
   "codemirror_mode": {
    "name": "ipython",
    "version": 3
   },
   "file_extension": ".py",
   "mimetype": "text/x-python",
   "name": "python",
   "nbconvert_exporter": "python",
   "pygments_lexer": "ipython3",
   "version": "3.8.5"
  }
 },
 "nbformat": 4,
 "nbformat_minor": 4
}