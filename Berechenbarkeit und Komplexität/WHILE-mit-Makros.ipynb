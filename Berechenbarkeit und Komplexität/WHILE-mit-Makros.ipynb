{
 "cells": [
  {
   "cell_type": "markdown",
   "metadata": {},
   "source": [
    "## Definiere einen einfachen WHILE-Parser\n",
    "(als PEG (parsing expression grammar), die ist sehr ähnlich, aber etwas leistungsfähiger als LL/LR und steht über das `pyparsing` modul zur Verfügung)\n",
    "\n",
    "Erst einmal den Lexing-Teil:"
   ]
  },
  {
   "cell_type": "code",
   "execution_count": 1,
   "metadata": {},
   "outputs": [],
   "source": [
    "from pyparsing import Literal, Group, Forward, Word, alphas, nums, Combine, delimitedList\n",
    "\n",
    "ASSIGN         =  Literal(\":=\")\n",
    "LT             =  Literal(\"<\")\n",
    "INCREMENT      =  Literal(\"++\")\n",
    "SEMICOLON      =  Literal(\";\").suppress()\n",
    "WHILE          =  Literal(\"WHILE\")\n",
    "LOOP           =  Literal(\"LOOP\")\n",
    "DO             =  Literal(\"DO\").suppress()\n",
    "OD             =  Literal(\"OD\").suppress()\n",
    "IF             =  Literal(\"IF\")\n",
    "FI             =  Literal(\"FI\").suppress()\n",
    "THEN           =  Literal(\"THEN\").suppress()\n",
    "ELSE           =  Literal(\"ELSE\").suppress()\n",
    "ZERO           =  Literal(\"0\")\n",
    "VAR_PREFIX     =  Literal(\"x\")"
   ]
  },
  {
   "cell_type": "markdown",
   "metadata": {},
   "source": [
    "Die folgenden Definitionen werden rekursiv, daher ist folgendes vorher notwendig: "
   ]
  },
  {
   "cell_type": "code",
   "execution_count": 2,
   "metadata": {},
   "outputs": [],
   "source": [
    "program        =  Forward()\n",
    "statement      =  Forward()\n",
    "conditional    =  Forward()\n",
    "conditional2   =  Forward()\n",
    "while_loop     =  Forward()\n",
    "loop_loop      =  Forward()"
   ]
  },
  {
   "cell_type": "markdown",
   "metadata": {},
   "source": [
    "und nun können wir den eigentlichen Parser definieren:"
   ]
  },
  {
   "cell_type": "code",
   "execution_count": 3,
   "metadata": {},
   "outputs": [
    {
     "data": {
      "text/plain": [
       "Forward: Forward: {{{{{{Forward: Group:({{{{\"WHILE\" Group:({{Combine:({\"x\" W:(0123...)}) \"<\"} Combine:({\"x\" W:(0123...)})})} Suppress:(\"DO\")} Group:(Forward: None)} Suppress:(\"OD\")}) | Forward: Group:({{{{\"LOOP\" Combine:({\"x\" W:(0123...)})} Suppress:(\"DO\")} Group:(Forward: None)} Suppress:(\"OD\")})} | Group:({{Combine:({\"x\" W:(0123...)}) \":=\"} Combine:({\"x\" W:(0123...)})})} | Group:({Combine:({\"x\" W:(0123...)}) \"++\"})} | Group:({{Combine:({\"x\" W:(0123...)}) \":=\"} \"0\"})} | Forward: Group:({{{{\"IF\" Group:({{Combine:({\"x\" W:(0123...)}) \"<\"} Combine:({\"x\" W:(0123...)})})} Suppress:(\"THEN\")} Group:(Forward: None)} Suppress:(\"FI\")})} | Forward: Group:({{{{{{\"IF\" Group:({{Combine:({\"x\" W:(0123...)}) \"<\"} Combine:({\"x\" W:(0123...)})})} Suppress:(\"THEN\")} Group:(Forward: None)} Suppress:(\"ELSE\")} Group:(Forward: None)} Suppress:(\"FI\")})} [; Forward: {{{{{{Forward: Group:({{{{\"WHILE\" Group:({{Combine:({\"x\" W:(0123...)}) \"<\"} Combine:({\"x\" W:(0123...)})})} Suppress:(\"DO\")} Group:(Forward: None)} Suppress:("
      ]
     },
     "execution_count": 3,
     "metadata": {},
     "output_type": "execute_result"
    }
   ],
   "source": [
    "var            =  Combine(VAR_PREFIX+Word(nums))\n",
    "assignment     =  Group(var + ASSIGN + var)\n",
    "comparison     =  Group(var + LT + var)\n",
    "inkrement      =  Group(var + INCREMENT)\n",
    "zeroing        =  Group(var + ASSIGN + \"0\")\n",
    "conditional    << (Group(IF + comparison + THEN + Group(program) +ELSE +  Group(program)+ FI))\n",
    "conditional2    << (Group(IF + comparison + THEN + Group(program) + FI))\n",
    "while_loop     << (Group(WHILE + comparison + DO + Group(program) + OD))\n",
    "loop_loop      << (Group(LOOP + var + DO + Group(program) + OD))\n",
    "statement      << (while_loop | loop_loop |  assignment | inkrement | zeroing | conditional2 | conditional)\n",
    "program        << delimitedList(statement,delim=\";\")"
   ]
  },
  {
   "cell_type": "markdown",
   "metadata": {},
   "source": [
    "## ... nun können wir den Parser mit ein paar einfachen Programmen testen"
   ]
  },
  {
   "cell_type": "code",
   "execution_count": 4,
   "metadata": {},
   "outputs": [
    {
     "name": "stdout",
     "output_type": "stream",
     "text": [
      "[['x1', ':=', 'x0']]\n",
      "[['x1', '++']]\n",
      "[['x1', ':=', '0']]\n",
      "[['x1', ':=', 'x0'], ['x0', '++']]\n",
      "[['WHILE', ['x0', '<', 'x1'], [['x0', ':=', 'x0']]]]\n",
      "[['IF', ['x0', '<', 'x1'], [['x0', ':=', 'x0']]]]\n",
      "[['IF', ['x0', '<', 'x1'], [['x0', ':=', 'x0']], [['x1', ':=', 'x1']]]]\n",
      "[['LOOP', 'x0', [['x0', ':=', 'x0']]]]\n",
      "[['x1', ':=', 'x123'], ['WHILE', ['x0', '<', 'x1'], [['x0', ':=', 'x0'], ['x1', ':=', 'x1']]], ['x0', '++']]\n",
      "[['x1', ':=', 'x123'], ['LOOP', 'x0', [['x0', ':=', 'x0'], ['x1', ':=', 'x1']]], ['x0', '++']]\n",
      "[['x0', ':=', 'x1'], ['LOOP', 'x2', [['x0', ':=', 'x0'], ['x1', ':=', 'x1'], ['WHILE', ['x1', '<', 'x2'], [['x1', ':=', 'x1']]]]]]\n"
     ]
    }
   ],
   "source": [
    "for prg_str in (\"x1:=x0\",\n",
    "                   \"x1++\",\n",
    "                   \"x1:=0\",\n",
    "                   \"x1:=x0;x0++\",\n",
    "                   \"WHILE x0<x1 DO x0:=x0 OD\",\n",
    "                   \"IF x0<x1 THEN x0:=x0 FI\",\n",
    "                   \"IF x0<x1 THEN x0:=x0 ELSE x1:=x1 FI\",\n",
    "                   \"LOOP x0 DO x0:=x0 OD\",\n",
    "                   \"x1:=x123; WHILE x0<x1 DO x0:=x0; x1:=x1 OD; x0++\",\n",
    "                   \"x1:=x123; LOOP x0 DO x0:=x0; x1:=x1 OD; x0++\",\n",
    "                   \"x0:=x1; LOOP x2 DO x0:=x0; x1:=x1; WHILE x1<x2 DO x1:=x1 OD OD\"\n",
    "                  ) :\n",
    "    prg = program.parseString(prg_str, parseAll=True)\n",
    "    print(prg)"
   ]
  },
  {
   "cell_type": "markdown",
   "metadata": {},
   "source": [
    "### Für jede Art von (top-level) Programmstruktur definieren wir ein Prädikat:"
   ]
  },
  {
   "cell_type": "code",
   "execution_count": 5,
   "metadata": {},
   "outputs": [],
   "source": [
    "def isSeq(p)        : return type(p[0]) is list\n",
    "def isEmptySeq(p)   : return len(p)==0\n",
    "def isZeroing(p)    : return p[1]==\":=\" and p[2]==\"0\"\n",
    "def isAssignment(p) : return p[1]==\":=\"\n",
    "def isIncrement(p)  : return p[1]==\"++\"\n",
    "def isWhile(p)      : return p[0]=='WHILE'\n",
    "def isLoop(p)       : return p[0]=='LOOP'\n",
    "def isConditional(p): return p[0]=='IF'\n",
    "def hasElse(p)      : return isConditional(p) and len(p)==4"
   ]
  },
  {
   "cell_type": "markdown",
   "metadata": {},
   "source": [
    "### Nun können wir einen WHILE-Interpreter implementieren (auf Basis der Semantik)"
   ]
  },
  {
   "cell_type": "code",
   "execution_count": 18,
   "metadata": {},
   "outputs": [],
   "source": [
    "def interpret(p,b):\n",
    "    if   isEmptySeq(p)  : return b\n",
    "    elif isSeq(p)       : b=interpret(p[1:],interpret(p[0],b))\n",
    "    elif isZeroing(p)   : b[p[0]]=0;\n",
    "    elif isAssignment(p): b[p[0]]=b[p[2]]\n",
    "    elif isIncrement(p) : b[p[0]]=b[p[0]]+1\n",
    "    elif isConditional(p):\n",
    "        if b[p[1][0]]<b[p[1][2]] :  b=interpret(p[2],b)\n",
    "        elif hasElse(p)          :  b=interpret(p[3],b)\n",
    "    elif isLoop(p)      :  \n",
    "        for _ in range(b[p[1]])  :  b = interpret(p[2],b) \n",
    "    elif isWhile(p) :\n",
    "        if b[p[1][0]]<b[p[1][2]] : \n",
    "            b=interpret(p,interpret(p[2],b))\n",
    "    else               : print(f'sollte nicht vorkommen P={p}')\n",
    "    return b"
   ]
  },
  {
   "cell_type": "markdown",
   "metadata": {},
   "source": [
    "... und auch Funktionen, um die Semantik eines Programms sowie die berechnete Funktion zu definieren"
   ]
  },
  {
   "cell_type": "code",
   "execution_count": 19,
   "metadata": {},
   "outputs": [],
   "source": [
    "def semanticsWhile(p):\n",
    "    def sem(b): return interpret(p,b)\n",
    "    return sem\n",
    "\n",
    "def f(P):\n",
    "    tree=program.parseString(P, parseAll=True).asList()\n",
    "    sem =semanticsWhile(tree)\n",
    "\n",
    "    def fP(*args):\n",
    "        args = [0]+list(args)\n",
    "        beta={'x'+str(i): args[i] for i in range(len(args))}\n",
    "        return sem(beta)['x0']\n",
    "    \n",
    "    return fP"
   ]
  },
  {
   "cell_type": "code",
   "execution_count": 20,
   "metadata": {},
   "outputs": [],
   "source": [
    "prog_a_hoch_b = \"\"\"x0++;\n",
    "LOOP x2 DO \n",
    "    x101:=x0;\n",
    "    x102:=x1;\n",
    "    x0:=0;\n",
    "    LOOP x102 DO \n",
    "        LOOP x101 DO\n",
    "            x0++\n",
    "        OD\n",
    "    OD\n",
    "OD\"\"\"\n",
    "parse_tree = program.parseString(prog_a_hoch_b, parseAll=True).asList()\n",
    "sem        = semanticsWhile(parse_tree)"
   ]
  },
  {
   "cell_type": "markdown",
   "metadata": {},
   "source": [
    "und nun werten wir das Programm aus, drei mal, auf unterschiedlichen Wegen:"
   ]
  },
  {
   "cell_type": "code",
   "execution_count": 21,
   "metadata": {},
   "outputs": [
    {
     "name": "stdout",
     "output_type": "stream",
     "text": [
      "Input: x1=3, x2=11\n",
      "Result: 177147\n",
      "Expected result:177147 equal? True\n",
      "Result: 177147\n",
      "Expected result:177147 equal? True\n",
      "Result: 177147\n",
      "Expected result:177147 equal? True\n"
     ]
    }
   ],
   "source": [
    "base=3\n",
    "exponent=11\n",
    "\n",
    "# ein mal über die interpret-Funktion\n",
    "beta = {'x0':0,'x1':base,'x2':exponent}\n",
    "print(f'Input: x1={beta[\"x1\"]}, x2={beta[\"x2\"]}')\n",
    "beta=interpret(parse_tree, beta)\n",
    "print(\"Result: \"+str(beta['x0']))\n",
    "print(\"Expected result:\"+str(base**exponent)+ \" equal? \"+str(beta['x0']==(base**exponent)))\n",
    "\n",
    "# ein mal über die Semantik\n",
    "beta = {'x0':0,'x1':base,'x2':exponent}\n",
    "beta=sem(beta)\n",
    "print(\"Result: \"+str(beta['x0']))\n",
    "print(\"Expected result:\"+str(base**exponent)+ \" equal? \"+str(beta['x0']==(base**exponent)))\n",
    "\n",
    "# und schließlich über die berechnete Funktion:\n",
    "pot=f(prog_a_hoch_b)\n",
    "print(\"Result: \"+str(pot(base,exponent)))\n",
    "print(\"Expected result:\"+str(base**exponent)+ \" equal? \"+str(beta['x0']==(base**exponent)))"
   ]
  },
  {
   "cell_type": "markdown",
   "metadata": {},
   "source": [
    "## Makros!\n",
    "... gibt es in vielen Programmiersprachen für sich wiederholende Programmstücke.\n",
    "\n",
    "So könnte man beispielsweise, wenn man öfter zu einer Variable 4 addieren muss:\n",
    "\n",
    "`x2++;\n",
    "x2++;\n",
    "x2++;\n",
    "x2++`\n",
    "\n",
    "statt dessen `add4(x2)` schreiben. \n",
    "\n",
    "Wir erweitern dazu unseren WHILE-Interpreter um ein einfaches Makro-Konstrukt. Makros sind dabei nichts anderes als die Anwendung regulärer Ersetzungen auf das Programm. Falls Sie den folgenden Code nicht verstehen ist das nicht weiter schlimm. Wichtig ist, dass Sie weiter unten verstehen, wie man Makros definiert und in einem Programm verwendet."
   ]
  },
  {
   "cell_type": "code",
   "execution_count": 53,
   "metadata": {},
   "outputs": [],
   "source": [
    "import re\n",
    "\n",
    "def apply_macro(m,p):\n",
    "    if m[1]>0 :\n",
    "        pattern = m[0] + \"\\\\(\" + \"(x\\\\d*),\"*(m[1]-1) + \"(x\\\\d*)\\\\)\"\n",
    "    else :\n",
    "        pattern = m[0] + \"\\\\(\\\\)\"\n",
    "    return re.sub(pattern,m[2],p)\n",
    "\n",
    "def apply_macros(ml, p) :\n",
    "    q=p\n",
    "    for m in ml:\n",
    "        q=apply_macro(m,q)\n",
    "    return q"
   ]
  },
  {
   "cell_type": "markdown",
   "metadata": {},
   "source": [
    "Die Makros selbst sind (so wie wir sie definieren) Listen mit drei Elementen\n",
    "\n",
    "`[\"Name\", anzahl_argumente, \"macro_code\"]`\n",
    "\n",
    "Das in der folgenden Zelle (s.u.) definierte Makro hat z.B. den Namen `add` und drei Argumente. Man kann es in einem Programm z.B. durch\n",
    "\n",
    "`add(x1,x1,x5)`\n",
    "\n",
    "aufrufen. Die Funktion `apply_macro(m,p)` ersetzt im Programm `p` dann jeden Makro-Aufruf von `m` durch den Code des Macros, wobei im Macro-Code die Platzhalter `\\1, \\2, ...` durch die betreffenden  Argumente ersetzt werden. Im Beipiel also hier z.B. `\\1` durch `x1`, `\\2` durch `x1` und `\\3` durch `x5`. Beachten Sie, dass der String des `macro_code` undbedingt ein *raw*-String sein muss, also ein \"r\" vor dem String stehen muss."
   ]
  },
  {
   "cell_type": "code",
   "execution_count": 54,
   "metadata": {},
   "outputs": [],
   "source": [
    "m_add=[\"add\",3, r\"\"\"\\1:=\\2;\n",
    "LOOP \\3 DO\n",
    "\\1++\n",
    "OD\"\"\"]"
   ]
  },
  {
   "cell_type": "markdown",
   "metadata": {},
   "source": [
    "Das folgende Programm veranschaulicht dies:"
   ]
  },
  {
   "cell_type": "code",
   "execution_count": 55,
   "metadata": {},
   "outputs": [
    {
     "name": "stdout",
     "output_type": "stream",
     "text": [
      "Programm vor der Ersetzung:\n",
      "x0:=0;\n",
      "LOOP x2 DO \n",
      "add(x0,x0,x1)\n",
      "OD\n",
      "\n",
      "Programm nach der Makro-Ersetzung:\n",
      "x0:=0;\n",
      "LOOP x2 DO \n",
      "x0:=x0;\n",
      "LOOP x1 DO\n",
      "x0++\n",
      "OD\n",
      "OD\n"
     ]
    }
   ],
   "source": [
    "pmul=\"\"\"x0:=0;\n",
    "LOOP x2 DO \n",
    "add(x0,x0,x1)\n",
    "OD\"\"\"\n",
    "\n",
    "P=apply_macro(m_add,pmul)\n",
    "print(f'Programm vor der Ersetzung:\\n{pmul}\\n\\nProgramm nach der Makro-Ersetzung:\\n{P}')"
   ]
  },
  {
   "cell_type": "markdown",
   "metadata": {},
   "source": [
    "Nun können wir zu etwas interessanteren Makros weiter schreiten und zunächst ein Multiplikationsmakro definieren. Damit dies auch für beliebige Wahl von `\\1,\\2 und \\3` funktioniert benötigen wir zwei Hilfsvariablen, die wir im Bereich jenseits von `x100` ansiedeln."
   ]
  },
  {
   "cell_type": "code",
   "execution_count": 56,
   "metadata": {},
   "outputs": [],
   "source": [
    "m_mul=[\"mul\",3,\n",
    "       r\"\"\"x101:=\\2;\n",
    "        x102:=\\3;\n",
    "        \\1:=0;\n",
    "        LOOP x102 DO \n",
    "        add(\\1,\\1,x101)\n",
    "        OD\"\"\"]\n",
    "\n",
    "macros=[m_mul, m_add] # hier ist die Reihenfolge wichtig (m_mul verwendet m_add)"
   ]
  },
  {
   "cell_type": "markdown",
   "metadata": {},
   "source": [
    "Nun definieren wir die Potenzfunktion auf Basis des Multiplikations:"
   ]
  },
  {
   "cell_type": "code",
   "execution_count": 57,
   "metadata": {},
   "outputs": [],
   "source": [
    "ppot=\"\"\"x0:=0;\n",
    "x0++;\n",
    "LOOP x2 DO \n",
    "    mul(x0,x0,x1)\n",
    "OD\"\"\"\n",
    "Q=apply_macros(macros, ppot)"
   ]
  },
  {
   "cell_type": "markdown",
   "metadata": {},
   "source": [
    "Bestimmen die berechnete Funktion und werten sie an einem Beispiel aus."
   ]
  },
  {
   "cell_type": "code",
   "execution_count": 58,
   "metadata": {},
   "outputs": [
    {
     "name": "stdout",
     "output_type": "stream",
     "text": [
      "1024\n"
     ]
    }
   ],
   "source": [
    "pot=f(Q)\n",
    "result = pot(2,10)\n",
    "print(result)"
   ]
  },
  {
   "cell_type": "markdown",
   "metadata": {},
   "source": [
    "### Erweiterung von WHILE um andere Schleifen-Köpfe\n",
    "In der folgenden Zelle definieren wir ein Makro, um in WHILE-Programme eine WHILE-Schleife mit einem Vergleich $x_i \\leq x_j$ zu ermöglichen."
   ]
  },
  {
   "cell_type": "code",
   "execution_count": 64,
   "metadata": {},
   "outputs": [
    {
     "name": "stdout",
     "output_type": "stream",
     "text": [
      "\n",
      "x0:=0;\n",
      "\n",
      "x101:=x2;\n",
      "x101++;\n",
      "WHILE x1 < x101 \n",
      " DO\n",
      "   x1++;\n",
      "   x0++\n",
      "OD\n",
      "\n"
     ]
    },
    {
     "data": {
      "text/plain": [
       "5"
      ]
     },
     "execution_count": 64,
     "metadata": {},
     "output_type": "execute_result"
    }
   ],
   "source": [
    "# Makro für WHILE xi <= xj\n",
    "m = [\"while_kg\",2,r\"\"\"\n",
    "x101:=\\2;\n",
    "x101++;\n",
    "WHILE \\1 < x101 \n",
    "\"\"\"]\n",
    "\n",
    "# Ein kleines Testprogramm (gibt x2-x1+1 aus)\n",
    "prog=\"\"\"\n",
    "x0:=0;\n",
    "while_kg(x1,x2) DO\n",
    "   x1++;\n",
    "   x0++\n",
    "OD\n",
    "\"\"\"\n",
    "\n",
    "# Makro anwenden und Ergebnis ausgeben\n",
    "prog=apply_macro(m,prog)\n",
    "print(prog)\n",
    "\n",
    "# Programm testen\n",
    "fP=f(prog)\n",
    "fP(3,7)"
   ]
  },
  {
   "cell_type": "code",
   "execution_count": null,
   "metadata": {},
   "outputs": [],
   "source": []
  }
 ],
 "metadata": {
  "kernelspec": {
   "display_name": "Python 3",
   "language": "python",
   "name": "python3"
  },
  "language_info": {
   "codemirror_mode": {
    "name": "ipython",
    "version": 3
   },
   "file_extension": ".py",
   "mimetype": "text/x-python",
   "name": "python",
   "nbconvert_exporter": "python",
   "pygments_lexer": "ipython3",
   "version": "3.9.2"
  }
 },
 "nbformat": 4,
 "nbformat_minor": 4
}