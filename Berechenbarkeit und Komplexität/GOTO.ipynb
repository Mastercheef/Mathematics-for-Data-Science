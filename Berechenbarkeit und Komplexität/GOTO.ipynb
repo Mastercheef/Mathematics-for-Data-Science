{
 "cells": [
  {
   "cell_type": "markdown",
   "metadata": {},
   "source": [
    "# $\\mbox{GOTO-Programme}$"
   ]
  },
  {
   "cell_type": "markdown",
   "metadata": {},
   "source": [
    "Ein $\\mbox{GOTO}$-Programm $P$ besteht aus einer geordneten Folge von\n",
    "Anweisungen, ist also ein Vektor von Anweisungen. $P[i]$ bezeichnet\n",
    "die $i$-te dieser Anweisungen. Dies ermöglicht bedingte und unbedingte\n",
    "Sprünge zu den Anweisungen. Bei einem $\\mbox{GOTO}$-Programm\n",
    "$P=<A_1,A_2,\\ldots,A_n>$ mit den Variablen $x_0,\\ldots,x_m$ kann jede\n",
    "Zeile eine der folgenden Anweisungen sein:\n",
    "* $x_i:=x_j\\pm c$ (Zuweisung, $0\\leq i,j\\leq m, c\\in\\mathbb{N}$)\n",
    "* $\\mbox{GOTO}\\ k$ (unbedingter Sprung zu Anweisung $1\\leq k\\leq n$)\n",
    "* $\\mbox{IF}\\ x_i=c\\ \\mbox{THEN}\\ \\mbox{GOTO}\\ k$ (bedingter Sprung zu Anweisung)              $1\\leq k\\leq n$)\n",
    "* $\\mbox{HALT}$ (Programm-Ende)        "
   ]
  },
  {
   "cell_type": "code",
   "execution_count": 4,
   "metadata": {},
   "outputs": [],
   "source": [
    "from pyparsing import Literal, Group, Forward, Word, alphas, nums, Combine, delimitedList, ZeroOrMore\n",
    "ASSIGN         =  Literal(\":=\")\n",
    "EQ             =  Literal(\"=\")\n",
    "ADD            =  Literal(\"+\")\n",
    "SUB            =  Literal(\"-\")\n",
    "IF             =  Literal(\"IF\")\n",
    "THEN           =  Literal(\"THEN\")\n",
    "GOTO           =  Literal(\"GOTO\")\n",
    "HALT           =  Literal(\"HALT\")\n",
    "VAR_PREFIX     =  Literal(\"x\")\n",
    "\n",
    "var            =  Combine(VAR_PREFIX+Word(nums))\n",
    "number         =  Combine(Word(nums)|Word(nums))\n",
    "add_assignment =  Group(var + ASSIGN + var + ADD + number)\n",
    "sub_assignment =  Group(var + ASSIGN + var + SUB + number)\n",
    "assignment     =  add_assignment | sub_assignment\n",
    "goto_statement =  Group(GOTO + number)\n",
    "if_statement   =  Group(IF + var + EQ + number + THEN + GOTO + number)\n",
    "halt_statement =  Group(HALT)\n",
    "statement      =  assignment | goto_statement | if_statement | halt_statement \n",
    "program        =  delimitedList(statement,delim=\";\")"
   ]
  },
  {
   "cell_type": "markdown",
   "metadata": {},
   "source": [
    "## Tests für die Grammatik"
   ]
  },
  {
   "cell_type": "code",
   "execution_count": 5,
   "metadata": {},
   "outputs": [
    {
     "name": "stdout",
     "output_type": "stream",
     "text": [
      "[['x0', ':=', 'x1', '+', '0']]\n",
      "[['x0', ':=', 'x1', '+', '0'], ['IF', 'x2', '=', '0', 'THEN', 'GOTO', '6'], ['x2', ':=', 'x2', '-', '1'], ['x0', ':=', 'x0', '+', '2'], ['GOTO', '2'], ['HALT']]\n"
     ]
    }
   ],
   "source": [
    "for prog_str in (\"x0:= x1 + 0\",\n",
    "                 \"x0:= x1 + 0;IF x2=0 THEN GOTO 6;x2:=x2-1;x0:=x0+2;GOTO 2;HALT\",\n",
    "                ) :\n",
    "    prog = program.parseString(prog_str, parseAll=True)\n",
    "    print(prog)"
   ]
  },
  {
   "cell_type": "code",
   "execution_count": 6,
   "metadata": {},
   "outputs": [],
   "source": [
    "def isAddAssignment(statement) : return len(statement)>1 and statement[1]==\":=\" and statement[3]==\"+\"\n",
    "def isSubAssignment(statement) : return len(statement)>1 and statement[1]==\":=\" and statement[3]==\"-\"\n",
    "def isGoto(statement) : return len(statement)>0 and statement[0]==\"GOTO\"\n",
    "def isConditionalGoto(statement) : return len(statement)>0 and statement[0]==\"IF\"\n",
    "def isHalt(statement) : return len(statement)>0 and statement[0]==\"HALT\""
   ]
  },
  {
   "cell_type": "code",
   "execution_count": 8,
   "metadata": {},
   "outputs": [],
   "source": [
    "def interpretGoto(p, b) :\n",
    "    pc        = b['pc']\n",
    "    while True :\n",
    "        s = p[pc]\n",
    "        if isHalt(s) : break\n",
    "        elif isAddAssignment(s) :\n",
    "            b[s[0]] = b[s[2]] + int(s[4])\n",
    "            b['pc']=pc+1\n",
    "        elif isSubAssignment(s) :\n",
    "            x = b[s[2]] - int(s[4])\n",
    "            b[s[0]] = x if x>0 else 0\n",
    "            b['pc']=pc+1\n",
    "        elif isGoto(s) :\n",
    "            b['pc']=int(s[1])\n",
    "        elif isConditionalGoto(s) :\n",
    "            if b[s[1]]==int(s[3]) : b['pc']=int(s[6])\n",
    "            else :          b['pc']=pc+1\n",
    "        else : \n",
    "            print(\"Error in Program! Statement: \"+str(s)+\"(maybe macro still present?)\")\n",
    "            break\n",
    "        pc=b['pc']\n",
    "    return b\n",
    "\n",
    "def semanticsGoto(p) :\n",
    "    def semantics(b) : return interpretGoto(p,b)\n",
    "    return semantics\n",
    "\n",
    "\n"
   ]
  },
  {
   "cell_type": "code",
   "execution_count": 9,
   "metadata": {},
   "outputs": [
    {
     "name": "stdout",
     "output_type": "stream",
     "text": [
      "[['x0', ':=', 'x1', '+', '0'], ['IF', 'x2', '=', '0', 'THEN', 'GOTO', '5'], ['x2', ':=', 'x2', '-', '1'], ['x0', ':=', 'x0', '+', '2'], ['GOTO', '1'], ['HALT']]\n",
      "{'pc': 5, 'x0': 63, 'x1': 3, 'x2': 0}\n"
     ]
    }
   ],
   "source": [
    "prog_str = \"x0:= x1 + 0;IF x2=0 THEN GOTO 5;x2:=x2-1;x0:=x0+2;GOTO 1;HALT\"\n",
    "prog = program.parseString(prog_str, parseAll=True)\n",
    "print(prog)\n",
    "sem=semanticsGoto(prog)\n",
    "\n",
    "args = {'pc': 0, 'x0':0,'x1':3,'x2':30}\n",
    "res=sem(args)\n",
    "print(res)"
   ]
  },
  {
   "cell_type": "markdown",
   "metadata": {},
   "source": [
    "## Macro call syntax"
   ]
  },
  {
   "cell_type": "code",
   "execution_count": 11,
   "metadata": {},
   "outputs": [],
   "source": [
    "LBRACKET       =  Literal(\"(\")\n",
    "RBRACKET       =  Literal(\")\").suppress()\n",
    "macro_name     =  Combine(Word(alphas))\n",
    "macro_statement=  Group(macro_name + LBRACKET + delimitedList(var,delim=\",\")+RBRACKET)\n",
    "statement      =  assignment | goto_statement | if_statement | halt_statement | macro_statement\n",
    "program        =  delimitedList(statement,delim=\";\")\n",
    "\n",
    "def isMacro(statement) : return len(statement)>0 and statement[1]==\"(\""
   ]
  },
  {
   "cell_type": "code",
   "execution_count": 12,
   "metadata": {},
   "outputs": [
    {
     "name": "stdout",
     "output_type": "stream",
     "text": [
      "[['x0', ':=', 'x1', '+', '0'], ['IF', 'x2', '=', '0', 'THEN', 'GOTO', '6'], ['x2', ':=', 'x2', '-', '1'], ['add', '(', 'x0', 'x1', 'x2'], ['GOTO', '2'], ['HALT']]\n"
     ]
    }
   ],
   "source": [
    "for prog_str in (\n",
    "                 \"x0:= x1 + 0;IF x2=0 THEN GOTO 6;x2:=x2-1;add(x0,x1,x2);GOTO 2;HALT\",\n",
    "                ) :\n",
    "    prog = program.parseString(prog_str, parseAll=True)\n",
    "    print(prog)"
   ]
  },
  {
   "cell_type": "markdown",
   "metadata": {},
   "source": [
    "## Macros definition\n",
    "We define macros as triples consisting of\n",
    "* name\n",
    "* number of arguments\n",
    "* code\n",
    "\n",
    "argument values can be used in code by \\n notation (e.g. \\2 is the second argument)</br>\n",
    "The following example shows a macro that implements addition of two variables. x100 is used as a local/helper variable."
   ]
  },
  {
   "cell_type": "code",
   "execution_count": 13,
   "metadata": {},
   "outputs": [],
   "source": [
    "add_macro = (\"add\",3,r\"x100:=\\3+0; \\1:= \\2 + 0;IF x100=0 THEN GOTO 6;x100:=x100-1;\\1:=\\1+1;GOTO 1;HALT\")"
   ]
  },
  {
   "cell_type": "markdown",
   "metadata": {},
   "source": [
    "### Application of macros\n",
    "Applying macros to a program is a multi-step process\n",
    "\n",
    "1. find occurence of macro in code, store line $l$ and call $c$ and replace call by $GOTO\\ N$ where N is the number of lines in the program (macro will be appended to the program)\n",
    "2. replace arguments in macro according to $c$\n",
    "4. add $N$ to all $GOTO$ and conditional Goto statements in macro\n",
    "3. replace $HALT$ statements with $GOTO\\ l$\n",
    "5. append macro to program"
   ]
  },
  {
   "cell_type": "code",
   "execution_count": 14,
   "metadata": {},
   "outputs": [],
   "source": [
    "import re\n",
    "\n",
    "def apply_macro(m,p) :\n",
    "    def macro_call_to_str(m) : return m[0] +\"(\"+\",\".join(m[2:])+\")\"\n",
    "    def string_to_parse_cell(s) : return program.parseString(s)[0]\n",
    "    name = m[0]\n",
    "    pattern = m[0] + \"\\\\(\" + \"(x\\\\d*),\"*(m[1]-1) + \"(x\\\\d*)\\\\)\"\n",
    "    code = m[2]\n",
    "    N = len(p)\n",
    "    for i in range(N) :\n",
    "        s = p[i]\n",
    "        last = len(p) # might not be N any more because of macro appended\n",
    "        if s[0]==name :\n",
    "            p[i] = string_to_parse_cell(\"GOTO \"+str(last))  # create a *statement* to jump to macro\n",
    "            newcode=re.sub(pattern,code,macro_call_to_str(s)) # replace arg-placeholders\n",
    "            macro_instance=program.parseString(newcode,parseAll=True)\n",
    "            for s in macro_instance :\n",
    "                if   isGoto(s) : s[1] = str(int(s[1])+last)\n",
    "                elif isConditionalGoto(s) : s[6] = str(int(s[6])+last)\n",
    "                elif isHalt(s) : \n",
    "                    s[0]=\"GOTO\" \n",
    "                    s.append(str(i+1))\n",
    "            p=p+macro_instance\n",
    "    return p\n"
   ]
  },
  {
   "cell_type": "code",
   "execution_count": 15,
   "metadata": {},
   "outputs": [
    {
     "name": "stdout",
     "output_type": "stream",
     "text": [
      "[['x0', ':=', 'x1', '+', '0'], ['IF', 'x2', '=', '0', 'THEN', 'GOTO', '5'], ['x2', ':=', 'x2', '-', '1'], ['GOTO', '6'], ['GOTO', '1'], ['HALT'], ['x100', ':=', 'x2', '+', '0'], ['x0', ':=', 'x0', '+', '0'], ['IF', 'x100', '=', '0', 'THEN', 'GOTO', '12'], ['x100', ':=', 'x100', '-', '1'], ['x0', ':=', 'x0', '+', '1'], ['GOTO', '7'], ['GOTO', '4']]\n",
      "{'pc': 5, 'x0': 48, 'x1': 3, 'x2': 0, 'x100': 0}\n"
     ]
    }
   ],
   "source": [
    "#prog_str = \"x0:= x1 + 0;IF x2=0 THEN GOTO 6;x2:=x2-1;add(x0,x0,x2);add(x0,x0,x2);GOTO 1;HALT\"\n",
    "prog_str = \"x0:= x1 + 0;IF x2=0 THEN GOTO 5;x2:=x2-1;add(x0,x0,x2);GOTO 1;HALT\"\n",
    "prog=program.parseString(prog_str, parseAll=True)\n",
    "prog=apply_macro(add_macro,prog)\n",
    "sem=semanticsGoto(prog)\n",
    "print(prog)\n",
    "\n",
    "args = {'pc': 0, 'x0':0,'x1':3,'x2':10}\n",
    "res=sem(args)\n",
    "print(res)"
   ]
  },
  {
   "cell_type": "code",
   "execution_count": 29,
   "metadata": {},
   "outputs": [],
   "source": [
    "def f(*prog_and_macros):\n",
    "    P=prog_and_macros[0]\n",
    "    tree=program.parseString(P, parseAll=True)\n",
    "    for m in prog_and_macros[1:]:\n",
    "        tree=apply_macro(m,tree)\n",
    "    sem =semanticsGoto(tree)\n",
    "\n",
    "    def fP(*args):\n",
    "        args = [0]+list(args)\n",
    "        beta={'x'+str(i): args[i] for i in range(len(args))}\n",
    "        beta['pc']=0\n",
    "        return sem(beta)['x0']\n",
    "    \n",
    "    return fP"
   ]
  },
  {
   "cell_type": "code",
   "execution_count": 32,
   "metadata": {},
   "outputs": [
    {
     "data": {
      "text/plain": [
       "48"
      ]
     },
     "execution_count": 32,
     "metadata": {},
     "output_type": "execute_result"
    }
   ],
   "source": [
    "fP = f(prog_str, add_macro)\n",
    "fP(3,10)"
   ]
  },
  {
   "cell_type": "code",
   "execution_count": null,
   "metadata": {},
   "outputs": [],
   "source": []
  }
 ],
 "metadata": {
  "kernelspec": {
   "display_name": "Python 3",
   "language": "python",
   "name": "python3"
  },
  "language_info": {
   "codemirror_mode": {
    "name": "ipython",
    "version": 3
   },
   "file_extension": ".py",
   "mimetype": "text/x-python",
   "name": "python",
   "nbconvert_exporter": "python",
   "pygments_lexer": "ipython3",
   "version": "3.9.2"
  }
 },
 "nbformat": 4,
 "nbformat_minor": 4
}