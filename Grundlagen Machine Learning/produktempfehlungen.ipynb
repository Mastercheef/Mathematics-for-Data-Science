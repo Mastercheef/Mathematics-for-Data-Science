{
 "cells": [
  {
   "cell_type": "code",
   "execution_count": 1,
   "metadata": {},
   "outputs": [],
   "source": [
    "from math import sqrt\n",
    "import operator"
   ]
  },
  {
   "cell_type": "markdown",
   "metadata": {},
   "source": [
    "## Aufgabe\n",
    "\n",
    "Ermitteln Sie unter allen Kritiker/-innen (Hans, Herta, Willi, Beate, Horst, Uschi) die drei Paarungen, welche sich am Ähnlichsten sind. Erstellen Sie die Berechnung für den Euklidischen Abstand sowie den Pearson-Koeffizient. Hinweis: Erstellen Sie sich zur Berechnung ein kleines Script/Programm. Im System finden Sie eine Java Klasse Data.java, welche die Daten als geschachtelte Map enthält, und in Data.py das entsprechende Dictionary in Python format.\n",
    "    "
   ]
  },
  {
   "cell_type": "code",
   "execution_count": 2,
   "metadata": {},
   "outputs": [],
   "source": [
    "personen = {'Hans': {'A': 2.5, 'B': 3.5, 'C': 3.0, 'D': 3.5, 'E': 2.5, 'F': 3.0},\n",
    "            'Herta': {'A': 3.0, 'B': 3.5, 'C': 1.5, 'D': 5.0, 'E': 3.5, 'F': 3.0},\n",
    "            'Willi':{'A': 2.5, 'B': 3.0, 'D': 3.5, 'E': 4.0},\n",
    "            'Beate' : {'B': 3.5, 'C': 3.0, 'D': 3.5, 'E': 2.5},\n",
    "            'Horst': {'A': 3.0, 'B': 4.0, 'C': 2.0, 'D': 3.0, 'E': 3.0, 'F': 2.0},\n",
    "            'Uschi' : {'A': 3.0, 'B': 4.0, 'D': 5.0, 'E': 3.5, 'F': 3.0}\n",
    "            }"
   ]
  },
  {
   "cell_type": "code",
   "execution_count": 4,
   "metadata": {},
   "outputs": [],
   "source": [
    "#returns the euclidean distance of two people\n",
    "def eucl_distance(personA,personB):\n",
    "    gleiche = {}\n",
    "    # Get list of mutually related\n",
    "    for item in personen[personA]:\n",
    "        if item in personen[personB]: gleiche[item] = 1\n",
    "    #If no matches return 0\n",
    "    if len(gleiche)==0: return 0\n",
    "\n",
    "    powsum = 0\n",
    "    for item in gleiche:\n",
    "        powsum += pow(personen[personA][item] - personen[personB][item],2)\n",
    "    return round(1/(1+sqrt(powsum)),3)\n",
    "\n",
    "#returns the pearson correlation of two people\n",
    "def pearson_correlation(personA, personB):\n",
    "    gleiche = {}\n",
    "    # Get list of mutually related\n",
    "    for item in personen[personA]:\n",
    "        if item in personen[personB]: gleiche[item] = 1\n",
    "    # If no matches return 0\n",
    "    n = len(gleiche)\n",
    "    if n == 0: return 0\n",
    "\n",
    "    sumA, sumB, sumASqr, sumBSqr, pSum= 0,0,0,0,0\n",
    "\n",
    "    for item in gleiche:\n",
    "        sumA += personen[personA][item]\n",
    "        sumB += personen[personB][item]\n",
    "        sumASqr += pow(personen[personA][item],2)\n",
    "        sumBSqr += pow(personen[personB][item],2)\n",
    "        pSum += personen[personA][item]*personen[personB][item]\n",
    "\n",
    "    num = pSum - (sumA*sumB/n)\n",
    "    den = sqrt((sumASqr-pow(sumA,2)/n)*(sumBSqr-pow(sumB,2)/n))\n",
    "    if den==0: return 0\n",
    "    return num/den"
   ]
  },
  {
   "cell_type": "code",
   "execution_count": 5,
   "metadata": {},
   "outputs": [],
   "source": [
    "# returns the similarity for n given combinations using a certain algorithm\n",
    "def similarity_combinations(algorithm, combinations, top_n = -1):\n",
    "    if top_n <= 0: top_n = len(combinations)\n",
    "    res = []\n",
    "    if algorithm == 'euclidean distance':\n",
    "        for comb in combinations:\n",
    "            res.append((eucl_distance(comb[0], comb[1]), comb[0], comb[1]))\n",
    "    elif algorithm == 'pearson correlation':\n",
    "        for comb in combinations:\n",
    "            res.append((pearson_correlation(comb[0], comb[1]), comb[0], comb[1]))\n",
    "    else: return 'wrong algorithm'\n",
    "    res.sort()\n",
    "    res.reverse()\n",
    "    return res[0:top_n]"
   ]
  },
  {
   "cell_type": "code",
   "execution_count": 12,
   "metadata": {},
   "outputs": [
    {
     "name": "stdout",
     "output_type": "stream",
     "text": [
      "Pearson Correlation: \n",
      "[(1.0, 'Hans', 'Beate'), (0.963795681875635, 'Herta', 'Uschi'), (0.7559289460184518, 'Beate', 'Uschi')]\n",
      "Euclidean Distance: \n",
      "[(1.0, 'Hans', 'Beate'), (0.667, 'Herta', 'Uschi'), (0.431, 'Beate', 'Horst')]\n"
     ]
    }
   ],
   "source": [
    "if __name__ == '__main__':\n",
    "    combs = []\n",
    "    for perA in personen:\n",
    "        for perB in personen:\n",
    "            if perA != perB and (combs.count((perB, perA))==0):\n",
    "                combs.append((perA,perB))\n",
    "\n",
    "    print(\"Pearson Correlation: \\n\" + str(similarity_combinations('pearson correlation',combs, 3)))\n",
    "    print(\"Euclidean Distance: \\n\" + str(similarity_combinations('euclidean distance',combs, 3)))"
   ]
  },
  {
   "cell_type": "code",
   "execution_count": null,
   "metadata": {},
   "outputs": [],
   "source": []
  }
 ],
 "metadata": {
  "kernelspec": {
   "display_name": "Python 3",
   "language": "python",
   "name": "python3"
  },
  "language_info": {
   "codemirror_mode": {
    "name": "ipython",
    "version": 3
   },
   "file_extension": ".py",
   "mimetype": "text/x-python",
   "name": "python",
   "nbconvert_exporter": "python",
   "pygments_lexer": "ipython3",
   "version": "3.8.5"
  }
 },
 "nbformat": 4,
 "nbformat_minor": 4
}
