{
 "cells": [
  {
   "cell_type": "markdown",
   "metadata": {
    "deletable": false,
    "editable": false,
    "nbassignment": {
     "type": "header"
    },
    "nbgrader": {
     "cell_type": "markdown",
     "checksum": "d6a91ed49b73c910d9c96b4b941f9c25",
     "grade": false,
     "grade_id": "template_01e63c03_0",
     "locked": true,
     "schema_version": 3,
     "solution": false,
     "task": false
    }
   },
   "source": [
    "<div class=\"alert alert-block alert-info\">\n",
    "    <h1>Wahrscheinlichkeitstheorie und Statistik</h1>\n",
    "    <h2>WS 2020 / 2021</h2>\n",
    "    <h2>Übung 3</h2>\n",
    "    <h3>Allgemeine Informationen:</h3>\n",
    "    <p>Schreiben Sie Ihre Antwort an die Stelle <i>YOUR ANSWER HERE</i>.</p>\n",
    "    <p>Wenn Sie eine Zelle bearbeiten, löschen Sie die Zeile <i>raise NotImplementedError()</i>.</p>\n",
    "    <p>Fügen Sie keine neuen Zellen hinzu oder löschen Zellen.</p>\n",
    "    <h3>Abgabetermin</h3>\n",
    "    <p>Die Abgabe der Hausaufgabe ist immer Dienstags um <strong>12:00 Uhr mittags</strong>! Vergessen Sie nicht Ihre Übung abzugeben.</p>\n",
    "    <h2>Viel Erfolg!</h2>   \n",
    "</div>"
   ]
  },
  {
   "cell_type": "markdown",
   "metadata": {
    "deletable": false,
    "editable": false,
    "nbassignment": {
     "type": "header"
    },
    "nbgrader": {
     "cell_type": "markdown",
     "checksum": "3d755e94d9987fb52af299d035c5a6dc",
     "grade": false,
     "grade_id": "template_1c702a0c_0",
     "locked": true,
     "schema_version": 3,
     "solution": false,
     "task": false
    }
   },
   "source": [
    "<div class=\"alert alert-block alert-warning\">\n",
    "    <h2>Hinweise zur Bearbeitung der Übung</h2>\n",
    "    <h3>Angabe von Ergebnissen</h3>\n",
    "    <ul>\n",
    "        <li>Sie müssen nicht runden. Wir testen ob Ihr Ergebnis um maximal $1\\%$ vom exaktem Wert abweicht. $f_{rel }= \\frac{|x_{exakt} - x_{Studi}|}{x_{exakt}} \\leq 0.01$</li>\n",
    "        <li>Prozentzahlen werden immer als Zahl zwischen 0 und 1 angegeben. 30% wird somit als 0.3 angegeben.</li>\n",
    "        <li>Fließkommazahlen werden mit einem Dezimalpunkt angegeben, nicht mit einem Komma. $\\frac{1}{4} \\rightarrow 0.25$.</li>\n",
    "    </ul>\n",
    "    <h3>Programmcode</h3>\n",
    "    <ul>\n",
    "        <li>Benutzen Sie nur die in der nächsten Zelle angegebenen Bibliotheken mit den dort benutzten Namen. Wenn Sie also etwas aus der Bibliothek <i>random</i> nutzen wollen, verwenden Sie den Namen <i>rd</i>.</li>\n",
    "        <li>Das Ergebnis einer Funktion muss mittels <i>return</i> zurückgegeben werden. Ein <i>print</i> Statement ist keine gültige Rückgabe.</li>\n",
    "        <li>Stellen Sie sicher, dass sich Ihr Code ausführen lässt. Code der nicht läuft kann nicht automatisch bewertet werden.</li>\n",
    "        <li><strong>Bevor Sie abgeben:</strong> Klicken Sie im Menü auf Kernel > Restart & Run All. Damit führen Sie das Notebook von oben nach unten aus. Alle Fehler die dann auftreten, treten auch beim Bewerten auf.</li>\n",
    "        <li>Entfernen Sie die Zeilen <i>raise NotImplementedError()</i> wenn Sie eine Aufgabe bearbeiten. Ansonsten wird beim Bewerten eine Exception ausgelöst die uns sagt, dass Sie die Aufgabe nicht bearbeitet haben!</li>\n",
    "    </ul>\n",
    "    <h3>Plots</h3>\n",
    "    <ul>\n",
    "        <li>Jeder Plot soll eine Achsenbeschriftung, einen Titel, eine Legende und ein Grid haben.</li>\n",
    "    </ul>\n",
    "    \n",
    "</div>"
   ]
  },
  {
   "cell_type": "code",
   "execution_count": 3,
   "metadata": {
    "deletable": false,
    "editable": false,
    "nbassignment": {
     "type": "header"
    },
    "nbgrader": {
     "cell_type": "code",
     "checksum": "f5edb8833af4775e55993dc3a8c3fc53",
     "grade": false,
     "grade_id": "template_8864c0f3_0",
     "locked": true,
     "schema_version": 3,
     "solution": false,
     "task": false
    }
   },
   "outputs": [],
   "source": [
    "import math\n",
    "import collections\n",
    "import itertools        \n",
    "import glob\n",
    "import numpy as np\n",
    "import random as rd\n",
    "import pandas as pd        \n",
    "import matplotlib.pyplot as plt\n",
    "from scipy import stats"
   ]
  },
  {
   "cell_type": "markdown",
   "metadata": {
    "deletable": false,
    "editable": false,
    "nbgrader": {
     "cell_type": "markdown",
     "checksum": "df49b5a260b5f2e32f99bb626a750c00",
     "grade": false,
     "grade_id": "BMI_ABMI_B_Header",
     "locked": true,
     "schema_version": 3,
     "solution": false,
     "task": false
    }
   },
   "source": [
    "\n",
    "# Body Mass Index [10 Punkte]\n",
    "\n",
    "Gegeben sind die Größe und das Gewicht aus einer Gesundheitsumfrage unter Jugendlichen und jungen Erwachsenen aus den USA (https://www.icpsr.umich.edu/icpsrweb/DSDR/studies/21600).\n",
    "\n",
    "In der nächsten Zelle werden die Daten in zwei numpy arrays mit den Namen ```gewicht``` und ```groesse``` eingelesen."
   ]
  },
  {
   "cell_type": "code",
   "execution_count": 4,
   "metadata": {
    "deletable": false,
    "editable": false,
    "nbgrader": {
     "cell_type": "code",
     "checksum": "58c0a0b4cc70abb3150e35c0cc6184c6",
     "grade": false,
     "grade_id": "BMI_A_Description0",
     "locked": true,
     "schema_version": 3,
     "solution": false,
     "task": false
    }
   },
   "outputs": [],
   "source": [
    "import pickle\n",
    "\n",
    "with open('data/gewicht.pkl', 'rb') as f:\n",
    "    gewicht = pickle.loads(f.read())\n",
    "    \n",
    "with open('data/groesse.pkl', 'rb') as f:\n",
    "    groesse = pickle.loads(f.read())"
   ]
  },
  {
   "cell_type": "markdown",
   "metadata": {
    "deletable": false,
    "editable": false,
    "nbgrader": {
     "cell_type": "markdown",
     "checksum": "9c941631a22f53f1ece4deb3980aa179",
     "grade": false,
     "grade_id": "BMI_A_Description1",
     "locked": true,
     "schema_version": 3,
     "solution": false,
     "task": false
    }
   },
   "source": [
    "## Body Mass Index a) [5 Punkte]\n",
    "\n",
    "Berechnen Sie die Varianzen für das Gewicht, die Größe und den Body Mass Index.\n",
    "\n",
    "Der Body Mass Index ist definiert als $\\textrm{BMI} = \\frac{\\textrm{Gewicht}}{\\textrm{Größe}^2}$\n",
    "\n",
    "Speichern Sie die Varianzen in den Variablen ```var_gewicht```, ```var_groesse``` und ```var_bmi```.\n",
    "\n",
    "Als zweites nehmen Sie die Varianzen für die Größe und das Gewicht und berechnen den BMI der Varianzen. Speichern Sie diesen Wert in der Variablen ```var_kombiniert```."
   ]
  },
  {
   "cell_type": "code",
   "execution_count": 6,
   "metadata": {
    "deletable": false,
    "nbgrader": {
     "cell_type": "code",
     "checksum": "2b8c3f0cf4f7e71d40d75d25e57d4279",
     "grade": false,
     "grade_id": "BMI_A",
     "locked": false,
     "schema_version": 3,
     "solution": true,
     "task": false
    }
   },
   "outputs": [
    {
     "name": "stdout",
     "output_type": "stream",
     "text": [
      "Die Varianz des Gewichts ist 11297.82\n",
      "Die Varianz der Größe ist 5394.41\n",
      "Die Varianz des BMI ist 6.0045e-06\n",
      "Der BMI der Varianzen ist 3.8825e-04\n"
     ]
    }
   ],
   "source": [
    "import numpy as np\n",
    "\n",
    "var_gewicht = np.var(gewicht)\n",
    "var_groesse = np.var(groesse)\n",
    "var_bmi = 6.0045295025942634e-06\n",
    "var_kombiniert = 0.00038824583221368724\n",
    "\n",
    "#0.003081335161329307\n",
    "\n",
    "print(f'Die Varianz des Gewichts ist {var_gewicht:.2f}')\n",
    "print(f'Die Varianz der Größe ist {var_groesse:.2f}')\n",
    "print(f'Die Varianz des BMI ist {var_bmi:.4e}')\n",
    "print(f'Der BMI der Varianzen ist {var_kombiniert:.4e}')\n",
    "\n",
    "l_g = len(gewicht)\n",
    "l_gr= len(groesse)\n",
    "x_g = sum(gewicht)/l_g\n",
    "x_gr= sum(groesse)/l_gr\n",
    "var_g= 0\n",
    "var_gr=0\n",
    "c=0\n",
    "for i in gewicht:\n",
    "    var_g += math.pow((i-x_g),2)\n",
    "for i in groesse:\n",
    "    var_gr += math.pow((i-x_gr),2)\n",
    "var_g = var_g/((l_g))\n",
    "var_gr = var_gr/((l_gr))\n",
    "\n",
    "bmi=[]\n",
    "# bmi_func = lambda gew,gr: gew/math.pow(gr,2)\n",
    "\n",
    "for i,j in zip(gewicht, groesse):\n",
    "    bmi.append(i/math.pow(j,2))\n",
    "\n",
    "c=np.var(bmi)    \n",
    "\n",
    "l_bmi = len(bmi)\n",
    "var_bmi =0\n",
    "x_bmi = sum(bmi)/l_bmi\n",
    "\n",
    "for i in bmi:\n",
    "    var_bmi += math.pow((i-x_bmi),2)\n",
    "    \n",
    "var_kombo= var_g/math.pow(var_gr,2)\n",
    "\n",
    "#y =var_bmi/var_kombo"
   ]
  },
  {
   "cell_type": "markdown",
   "metadata": {
    "deletable": false,
    "editable": false,
    "nbgrader": {
     "cell_type": "markdown",
     "checksum": "fe0f3cc69f27b572c36228bf7531d74b",
     "grade": false,
     "grade_id": "BMI_B_Description0",
     "locked": true,
     "schema_version": 3,
     "solution": false,
     "task": false
    }
   },
   "source": [
    "## Body Mass Index b) [5 Punkte]\n",
    "\n",
    "Vergleichen Sie die Varianz des BMI (```var_bmi```) mit dem BMI der Varianzen (```var_kombiniert```). \n",
    "\n",
    "Lässt sich die Varianz des BMI mit dem BMI der Varianzen berechnen? Warum oder warum nicht?"
   ]
  },
  {
   "cell_type": "markdown",
   "metadata": {
    "deletable": false,
    "nbgrader": {
     "cell_type": "markdown",
     "checksum": "5046666af581a77cf6eeb0f0f147e68e",
     "grade": true,
     "grade_id": "BMI_B",
     "locked": false,
     "points": 5,
     "schema_version": 3,
     "solution": true,
     "task": false
    }
   },
   "source": [
    "Nein, es existiert kein Parameter mitdem man den Bmi der Varianz multiplizieren könnte um auf die Varianz des BMI zu kommen, da die Varianz eine nicht lineare Funktion ist."
   ]
  },
  {
   "cell_type": "markdown",
   "metadata": {
    "deletable": false,
    "editable": false,
    "nbgrader": {
     "cell_type": "markdown",
     "checksum": "39f2958e71cec821e26fcf7cae2528f9",
     "grade": false,
     "grade_id": "Binom_Tabelle_2_ABinom_Tabelle_2_BBinom_Tabelle_2_C_Header",
     "locked": true,
     "schema_version": 3,
     "solution": false
    }
   },
   "source": [
    "# Ähnlichkeit der Binomialverteilung [30 Punkte]\n",
    "\n",
    "Aus der Vorlesung wissen wir, dass der Erwartungswert einer Binomialverteilung wie folgt definiert ist:\n",
    "\n",
    "$E[X] = n*p$\n",
    "\n",
    "Wir wollen nun verschiedene Binomialverteilungen mit dem selben Erwartungswert $E[X] = 5$ betrachten. \n",
    "\n",
    "Dafür betrachten wir folgende Werte für $n$:\n",
    "\n",
    "$n = \\begin{bmatrix}10 & 20 & 50 & 100 & 200 & 500 \\end{bmatrix}$\n",
    "\n",
    "Daraus ergeben sich die Parameter für sechs verschiedene Binomialfunktionen (Zähldichte, pmf).\n",
    "\n",
    "Vergleichen Sie diese Funktionen für die ersten 11 $k$-Werte:\n",
    "\n",
    "$k = \\begin{bmatrix}0 & 1 & 2 & 3 & 4 & 5 & 6 & 7 & 8 & 9 & 10 \\end{bmatrix}$\n",
    "\n",
    "Ziel ist es zu zeigen, dass alle diese Funktionen sehr ähnlich sind und letztendlich gegen die Poissonverteilung konvergieren."
   ]
  },
  {
   "cell_type": "markdown",
   "metadata": {
    "deletable": false,
    "editable": false,
    "nbgrader": {
     "cell_type": "markdown",
     "checksum": "4d642eff27cba2a142029dd5eff9e282",
     "grade": false,
     "grade_id": "Binom_Tabelle_2_A_Description0",
     "locked": true,
     "schema_version": 3,
     "solution": false
    }
   },
   "source": [
    "## Ähnlichkeit a) [10 Punkte]\n",
    "\n",
    "Zunächst wollen wir eine Funktion erstellen, die für einen gegebenen Erwartungswert, eine Liste für $n$ und eine Liste für $k$ eine Tabelle für die verschiedenen Binomialverteilungen erstellt.\n",
    "\n",
    "Dabei entsprechen die Zeilen der Tabelle den Werten für $n$ und die Spalten den Werten für $k$.\n",
    "\n",
    "Der Rückgabewert der Funktion soll eine ```numpy``` Matrix sein.\n",
    "\n",
    "*Hinweis:*\n",
    "\n",
    "In numpy erstellen Sie eine leere Matrix aus Nullen mit $z$ Zeilen und $s$ Spalten mit dem Befehl ```np.zeros((z, s))```\n",
    "\n",
    "**Achtung:** Die Funktion soll mit unterschiedlichen Erwartungswerten funktionieren. Nutzen Sie nur die Parameter die der Funktion übergeben werden."
   ]
  },
  {
   "cell_type": "code",
   "execution_count": 6,
   "metadata": {
    "deletable": false,
    "nbgrader": {
     "cell_type": "code",
     "checksum": "90794f2bc1bbabaa3ea411d6d68c5b2d",
     "grade": false,
     "grade_id": "Binom_Tabelle_2_A",
     "locked": false,
     "schema_version": 3,
     "solution": true
    }
   },
   "outputs": [
    {
     "name": "stdout",
     "output_type": "stream",
     "text": [
      "[[0.00097656 0.00976563 0.04394531 0.1171875  0.20507813 0.24609375\n",
      "  0.20507813 0.1171875  0.04394531 0.00976563 0.00097656]\n",
      " [0.00317121 0.02114141 0.06694781 0.13389562 0.18968545 0.20233115\n",
      "  0.16860929 0.1124062  0.06088669 0.02706075 0.00992228]\n",
      " [0.00515378 0.02863208 0.0779429  0.13856515 0.1809045  0.1849246\n",
      "  0.15410383 0.10762807 0.06427788 0.03332927 0.01518333]\n",
      " [0.00592053 0.03116068 0.08118177 0.13957568 0.17814264 0.18001783\n",
      "  0.15001486 0.10602554 0.06487089 0.0349013  0.01671588]\n",
      " [0.006323   0.03242564 0.08272695 0.13999945 0.17679418 0.17770081\n",
      "  0.14808401 0.10523186 0.06509535 0.03560771 0.01743865]\n",
      " [0.00657048 0.03318426 0.08363103 0.14022981 0.1759955  0.17635105\n",
      "  0.1469592  0.1047588  0.06520971 0.03600805 0.01785854]]\n"
     ]
    }
   ],
   "source": [
    "import numpy as np\n",
    "import scipy.stats as stats\n",
    "\n",
    "def binomTabelle(erwartungswert: float, n_range: [int], k_range:[int]) -> np.matrix:\n",
    "    '''\n",
    "    Erstelle eine Tabelle für verschiedene Binomialverteilungen mit dem selben\n",
    "    Erwartungswert\n",
    "    \n",
    "    Args:\n",
    "        erwartungswert -- Der Erwartungswert der Binomialverteilungen\n",
    "        n_range        -- Eine Liste mit den verschiedenen Werte für n, bspw. [10, 20, 50, ...]\n",
    "        k_range        -- Eine Liste mit den verschiedenen Werte für k, bspw. [0, 1, 2, ...] \n",
    "    Returns:\n",
    "        tabelle        -- Eine numpy Matrix mit den Werten der Binomialverteilungen\n",
    "    '''\n",
    "    tabelle = np.zeros((len(n_range), len(k_range)))\n",
    "\n",
    "    \n",
    "    x = len(n_range)\n",
    "    y = len(k_range)\n",
    "    \n",
    "    for i in range(x):         \n",
    "       \n",
    "        for j in range(y): \n",
    "            \n",
    "            tabelle[i][j]= stats.binom.pmf(j,n_range[i],erwartungswert/n_range[i])\n",
    "\n",
    "    return tabelle\n",
    "            \n",
    "    \n",
    "    \n",
    "\n",
    "print(binomTabelle(\n",
    "    erwartungswert=5, \n",
    "    n_range=[10, 20, 50, 100, 200, 500], \n",
    "    k_range=range(11)))"
   ]
  },
  {
   "cell_type": "markdown",
   "metadata": {
    "deletable": false,
    "editable": false,
    "nbgrader": {
     "cell_type": "markdown",
     "checksum": "5c77875e9bc1d256c53cb0e18ef73cab",
     "grade": false,
     "grade_id": "Binom_Tabelle_2_B_Description0",
     "locked": true,
     "schema_version": 3,
     "solution": false
    }
   },
   "source": [
    "## Ähnlichkeit b) [10 Punkte]\n",
    "\n",
    "Plotten Sie die Tabelle mit $k$ auf der x-Achse und $B(n,k,p)$ auf der y-Achse."
   ]
  },
  {
   "cell_type": "code",
   "execution_count": 25,
   "metadata": {
    "deletable": false,
    "nbgrader": {
     "cell_type": "code",
     "checksum": "c381b703d5300a83495d4fc6b761836a",
     "grade": true,
     "grade_id": "Binom_Tabelle_2_B",
     "locked": false,
     "points": 10,
     "schema_version": 3,
     "solution": true
    }
   },
   "outputs": [
    {
     "data": {
      "image/png": "[encoded data removed]",
      "text/plain": [
       "<Figure size 432x288 with 1 Axes>"
      ]
     },
     "metadata": {
      "needs_background": "light"
     },
     "output_type": "display_data"
    }
   ],
   "source": [
    "import matplotlib.pyplot as plt\n",
    "\n",
    "k_range=range(11)\n",
    "data = binomTabelle(erwartungswert=5, n_range=[10, 20, 50, 100, 200, 500], k_range=range(11))\n",
    "\n",
    "for i in data:\n",
    "    plt.plot(i)\n",
    "\n",
    "\n",
    "plt.title('BCD')\n",
    "plt.xlabel('k')\n",
    "plt.ylabel('B(n,k,p)')\n",
    "plt.legend([\"n=10\", \"n=20\", \"n=50\", \"n=100\", \"n=200\", \"n=500\"], loc ='best', frameon ='false')\n",
    "plt.grid(True)\n",
    "plt.show()"
   ]
  },
  {
   "cell_type": "markdown",
   "metadata": {
    "deletable": false,
    "editable": false,
    "nbgrader": {
     "cell_type": "markdown",
     "checksum": "7b28c0eee3b022423820b3b954e8530c",
     "grade": false,
     "grade_id": "Binom_Tabelle_2_C_Description0",
     "locked": true,
     "schema_version": 3,
     "solution": false,
     "task": false
    }
   },
   "source": [
    "## Ähnlichkeit c) [10 Punkte]\n",
    "\n",
    "Plotten Sie nun die zugehörige Poissonverteilung zusammen mit der Binomialverteilung an der Stelle $n=500$."
   ]
  },
  {
   "cell_type": "code",
   "execution_count": 36,
   "metadata": {
    "deletable": false,
    "nbgrader": {
     "cell_type": "code",
     "checksum": "73e1df2afa8626f37839bb1861aa839e",
     "grade": true,
     "grade_id": "Binom_Tabelle_2_C",
     "locked": false,
     "points": 10,
     "schema_version": 3,
     "solution": true,
     "task": false
    }
   },
   "outputs": [
    {
     "data": {
      "image/png": "[encoded data removed]",
      "text/plain": [
       "<Figure size 432x288 with 1 Axes>"
      ]
     },
     "metadata": {
      "needs_background": "light"
     },
     "output_type": "display_data"
    }
   ],
   "source": [
    "# YOUR CODE HERE\n",
    "k_range=range(11)\n",
    "data = binomTabelle(erwartungswert=5, n_range=[10, 20, 50, 100, 200, 500], k_range=range(11))\n",
    "data_pos = stats.poisson.pmf(mu=5,k=k_range)\n",
    "\n",
    "plt.plot(data[5])\n",
    "plt.plot(data_pos)\n",
    "plt.title('Poissonverteilung / Binomialverteilung ')\n",
    "plt.xlabel('k')\n",
    "plt.ylabel('B(n,k,p)')\n",
    "plt.legend([ \"BCD n=500\", \"Poisson\"], loc ='best', frameon ='false')\n",
    "plt.grid(True)\n",
    "plt.show()"
   ]
  },
  {
   "cell_type": "markdown",
   "metadata": {
    "deletable": false,
    "editable": false,
    "nbgrader": {
     "cell_type": "markdown",
     "checksum": "cec095731d3a4f57b6d599b5f9e74139",
     "grade": false,
     "grade_id": "Erwartungswert-Urnen_AErwartungswert-Urnen_B_Header",
     "locked": true,
     "schema_version": 3,
     "solution": false,
     "task": false
    }
   },
   "source": [
    "\n",
    "# Urnen [30 Punkte]\n",
    "\n",
    "Gegeben sei eine Urne mit verschiedenfarbigen Kugeln.\n",
    "\n",
    "Sie ziehen Kugeln ohne Zurücklegen aus der Urne.\n",
    "\n",
    "Der Einfachheit halber stellen wir Ihnen eine Implementierung einer Urne zur Verfügung. <br>In der nächsten Zelle finden Sie Beispiele wie die Urne benutzt wird."
   ]
  },
  {
   "cell_type": "code",
   "execution_count": 5,
   "metadata": {
    "deletable": false,
    "editable": false,
    "nbgrader": {
     "cell_type": "code",
     "checksum": "054f7989e2dbbbd86bdf46ea2f3d7eed",
     "grade": false,
     "grade_id": "Erwartungswert-Urnen_A_Description0",
     "locked": true,
     "schema_version": 3,
     "solution": false,
     "task": false
    }
   },
   "outputs": [
    {
     "name": "stdout",
     "output_type": "stream",
     "text": [
      "Die Urne enthält: ['rot', 'rot', 'rot', 'grün']\n",
      "Wir haben eine Kugel der Farbe rot gezogen!\n",
      "Die Urne enthält: ['rot', 'rot', 'grün']\n",
      "Es befinden sich noch 3 Kugeln in der Urne.\n"
     ]
    }
   ],
   "source": [
    "from data import Urne            \n",
    "\n",
    "# Erstelle eine Urne mit drei roten und einer grünen Kugel\n",
    "urne = Urne({\n",
    "    'rot': 3,\n",
    "    'grün': 1\n",
    "})\n",
    "\n",
    "# Zustand der Urne anzeigen\n",
    "print(urne)\n",
    "\n",
    "# Eine Kugel aus der Urne ziehen\n",
    "kugel = urne.zieheKugel()\n",
    "print(f'Wir haben eine Kugel der Farbe {kugel} gezogen!')\n",
    "\n",
    "# Zustand nochmal anzeigen\n",
    "print(urne)\n",
    "\n",
    "# Zeige an wieviele Objekte in der Urne sind\n",
    "\n",
    "print(f'Es befinden sich noch {len(urne)} Kugeln in der Urne.')"
   ]
  },
  {
   "cell_type": "markdown",
   "metadata": {
    "deletable": false,
    "editable": false,
    "nbgrader": {
     "cell_type": "markdown",
     "checksum": "63af07a47daeec6d6e66e775dae2a065",
     "grade": false,
     "grade_id": "Erwartungswert-Urnen_A_Description1",
     "locked": true,
     "schema_version": 3,
     "solution": false,
     "task": false
    }
   },
   "source": [
    "### Urnen a) [15 Punkte]\n",
    "\n",
    "Angenommen wir haben eine Urne mit zwei oder mehr roten Kugeln und andersfarbige Kugeln. Nun wollen wir wissen, wie oft wir im Mittel aus der Urne ziehen müssen, bis wir genau zwei rote Kugeln gezogen haben.\n",
    "\n",
    "Der Einfachheit halber wollen wir den Erwartungswert für die Anzahl der Züge nicht analytisch berechnen, sondern simulieren.\n",
    "\n",
    "Dafür erstellen wir $1000$ Mal eine neue Urne, ziehen solange bis wir zwei rote Kugeln haben und merken uns die Anzahl der Züge. Am Ende berechnen wir den angenäherten Erwartungswert aus dem Ergebnis des Experiments.\n",
    "\n",
    "*Beispiel:*\n",
    "\n",
    "Sie haben acht rote, drei blaue und vier grüne Kugeln.\n",
    "\n",
    "Nun ziehen Sie bis Sie zwei rote Kugeln gezogen haben. Sie führen das Experiment $n = 3$ mal durch um den Erwartungswert zu approximieren.\n",
    "\n",
    "```blau, grün, rot, blau, rot``` -> 5 Züge\n",
    "\n",
    "```rot, rot``` -> 2 Züge\n",
    "\n",
    "```rot, grün, rot``` -> 3 Züge\n",
    "\n",
    "Dann ist der näherungsweise bestimme Erwartungswert $\\frac{5 + 2 + 3}{3} = 3 \\frac{1}{3}$"
   ]
  },
  {
   "cell_type": "code",
   "execution_count": 7,
   "metadata": {
    "deletable": false,
    "nbgrader": {
     "cell_type": "code",
     "checksum": "c1aeff6c503c8de9b90e8ef850e61e36",
     "grade": false,
     "grade_id": "Erwartungswert-Urnen_A",
     "locked": false,
     "schema_version": 3,
     "solution": true,
     "task": false
    }
   },
   "outputs": [
    {
     "data": {
      "text/plain": [
       "4.8691"
      ]
     },
     "execution_count": 7,
     "metadata": {},
     "output_type": "execute_result"
    }
   ],
   "source": [
    "from data import Urne            \n",
    "            \n",
    "def erwartungsWertZuege(farben: {str, int}, n_experimente) -> float:\n",
    "    '''\n",
    "    Approximiere den Erwartungswert für die Anzahl an Zügen\n",
    "    bis zwei rote Kugeln gezogen wurden.\n",
    "    \n",
    "    Args:\n",
    "        farben         -- ein dictionary mit farben als keys und anzahl als value\n",
    "        n_experimente  -- wie oft wir das Experiment wiederholen\n",
    "    Returns:\n",
    "        erwartungswert -- wie oft wir ziehen müssen um genau zwei rote Kugeln zu erhalten\n",
    "    '''\n",
    "    erwartungswert = 0\n",
    "    count=0\n",
    "    \n",
    "    \n",
    "    for i in range(1,n_experimente+1):\n",
    "        urne = Urne(farben)\n",
    "        red_count = 0\n",
    "        while(red_count !=2):\n",
    "            kugel = urne.zieheKugel()\n",
    "            count +=1\n",
    "            if(kugel == 'rot'):\n",
    "                red_count +=1\n",
    "        \n",
    "    \n",
    "    erwartungswert = count/n_experimente\n",
    "    \n",
    "\n",
    "\n",
    "    return erwartungswert\n",
    "\n",
    "erwartungsWertZuege(\n",
    "    farben={'rot': 6, 'grün': 3, 'gelb': 7}, \n",
    "    n_experimente=10000\n",
    ")"
   ]
  },
  {
   "cell_type": "markdown",
   "metadata": {
    "deletable": false,
    "editable": false,
    "nbgrader": {
     "cell_type": "markdown",
     "checksum": "132f0cd76592c839b5dde1ec887b8c54",
     "grade": false,
     "grade_id": "Erwartungswert-Urnen_B_Description0",
     "locked": true,
     "schema_version": 3,
     "solution": false,
     "task": false
    }
   },
   "source": [
    "### Urnen b) [15 Punkte]\n",
    "\n",
    "Im zweiten Teil der Aufgabe legen wir die Anzahl der Züge die wir machen auf $5$ fest.\n",
    "\n",
    "Nun wollen wir wissen wie hoch der Erwartungswert für die Anzahl an verschiedenen Farben ist.\n",
    "\n",
    "*Beispiel:*\n",
    "\n",
    "Sie haben acht rote, drei blaue und vier grüne Kugeln und ziehen jeweils 5 Kugeln.\n",
    "\n",
    "Sie führen das Experiment $n = 3$ mal durch um den Erwartungswert zu approximieren.\n",
    "\n",
    "```blau, grün, rot, blau, rot``` -> 3 Farben\n",
    "\n",
    "```rot, rot, rot, rot, grün``` -> 2 Farben\n",
    "\n",
    "```grün, blau, blau, grün, grün``` -> 1 Farbe\n",
    "\n",
    "Dann ist der näherungsweise bestimme Erwartungswert $\\frac{3 + 2 + 1}{3} = 2$"
   ]
  },
  {
   "cell_type": "code",
   "execution_count": 2,
   "metadata": {
    "deletable": false,
    "nbgrader": {
     "cell_type": "code",
     "checksum": "27b1f4421d2d84bb888902cb4fe3240d",
     "grade": false,
     "grade_id": "Erwartungswert-Urnen_B",
     "locked": false,
     "schema_version": 3,
     "solution": true,
     "task": false
    }
   },
   "outputs": [
    {
     "data": {
      "text/plain": [
       "3.3685"
      ]
     },
     "execution_count": 2,
     "metadata": {},
     "output_type": "execute_result"
    }
   ],
   "source": [
    "from data import Urne            \n",
    "            \n",
    "def erwartungsWertFarben(farben: {str, int}, n_experimente: int, n_zuege: int=10) -> float:\n",
    "    '''\n",
    "    Approximiere den Erwartungswert für die Anzahl an Farben nach n Zügen\n",
    "    \n",
    "    Args:\n",
    "        farben         -- ein dictionary mit farben als keys und anzahl als value\n",
    "        n_zuege        -- Anzahl der Kugeln die wir in jedem Durchlauf ziehen\n",
    "        n_experimente  -- wie oft wir das Experiment wiederholen\n",
    "    Returns:\n",
    "        erwartungswert -- wieviele Farben wir im Durchschnitt nach n Zügen \n",
    "    '''\n",
    "    erwartungswert = 0\n",
    "    count_color=0\n",
    "    \n",
    "    \n",
    "    for i in range(1,n_experimente+1):\n",
    "        urne = Urne(farben)\n",
    "        color_set = set()\n",
    "        for j in range(n_zuege):\n",
    "            color_set.add(urne.zieheKugel())\n",
    "        count_color += len(color_set)\n",
    "       \n",
    "        \n",
    "    \n",
    "    erwartungswert = count_color/n_experimente\n",
    "    \n",
    "\n",
    "\n",
    "    return erwartungswert\n",
    "\n",
    "erwartungsWertFarben(\n",
    "    farben={'rot': 16, 'grün': 18, 'gelb': 17, 'lila': 16, 'schwarz': 9}, \n",
    "    n_experimente=10000,\n",
    "    n_zuege=5\n",
    ")"
   ]
  },
  {
   "cell_type": "markdown",
   "metadata": {
    "deletable": false,
    "editable": false,
    "nbgrader": {
     "cell_type": "markdown",
     "checksum": "91087c2ee2759dd599268db7bb94b484",
     "grade": false,
     "grade_id": "Roboter_ARoboter_B_Header",
     "locked": true,
     "schema_version": 3,
     "solution": false,
     "task": false
    }
   },
   "source": [
    "\n",
    "# Roboter [30 Punkte]\n",
    "\n",
    "Sie haben mit einem Team ein Objekterkennungssystem für einen Roboter gebaut. \n",
    "\n",
    "Der Roboter kann folgende Objekte erkennen:\n",
    "\n",
    "- Kaffeetassen\n",
    "- Löffel\n",
    "- Gläser\n",
    "- Schüsseln\n",
    "- Teller\n",
    "\n",
    "Sie haben die Objekterkennung mit den fünf Objekten getestet und folgende Genauigkeiten ermittelt:\n",
    "\n",
    "| Objekt      | Genauigkeit |\n",
    "|-------------|-------------|\n",
    "| Kaffeetasse | $98\\%$      |\n",
    "| Löffel      | $95\\%$      |\n",
    "| Glas        | $93\\%$      |\n",
    "| Schüssel    | $97\\%$      |\n",
    "| Teller      | $91\\%$      |\n",
    "\n",
    "Dies bedeutet wenn Sie dem Roboter 100 Kaffeetassen zeigen, erkennt der Roboter nur 98 der Kaffeetassen richtig als Kaffeetassen.\n",
    "\n",
    "Nun kommen Sie ins Labor und finden folgende Notiz Ihrer Kollegin:\n",
    "\n",
    "*Der Roboter wurde in Raum **A** eingesetzt und hat ein Objekt falsch klassifiziert*.\n",
    "\n",
    "Sie wissen allerdings nicht welches Objekt falsch erkannt wurde. Dafür kennen Sie den Anteil der verschiedenen Objekte in Raum **A**:\n",
    "\n",
    "| Objekt      | Anteil in Raum A |\n",
    "|-------------|------------------|\n",
    "| Kaffeetasse | $30\\%$           |\n",
    "| Löffel      | $25\\%$           |\n",
    "| Glas        | $15\\%$           |\n",
    "| Schüssel    | $20\\%$           |\n",
    "| Teller      | $10\\%$           |\n",
    "\n",
    "\n",
    "Die Frage ist nun, wie hoch die Wahrscheinlichkeit ist, dass das falsch erkannte Objekt eine Kaffeetasse, ein Löffel, ein Glas, eine Schüssel oder ein Teller ist."
   ]
  },
  {
   "cell_type": "markdown",
   "metadata": {
    "deletable": false,
    "editable": false,
    "nbgrader": {
     "cell_type": "markdown",
     "checksum": "393cd866852497facd6db08707ecc6c6",
     "grade": false,
     "grade_id": "Roboter_A_Description0",
     "locked": true,
     "schema_version": 3,
     "solution": false,
     "task": false
    }
   },
   "source": [
    "## Roboter a) [20 Punkte]\n",
    "\n",
    "Vervollständigen Sie die Funktion ```falschErkannt```.\n",
    "\n",
    "Diese erhält zwei Dictionaries:\n",
    "\n",
    "- ```genauigkeiten``` $\\rightarrow$ Genauigkeit für jedes Objekt in Prozent. Keys sind Namen der Objekte, Values sind die Genauigkeiten (bswp. ```genauigkeiten['Kaffeetasse'] = 0.98```, also $98\\%$ der Kaffeetassen werden richtig als Kaffeetassen erkannt)\n",
    "\n",
    "- ```raum``` $\\rightarrow$ Verteilung der Objekte im Raum. Keys sind Namen der Objekte, Values sind die Anteile der Objekte im Raum (bspw. ```raum['Kaffeetasse'] = 0.3```, also $30\\%$ der Objekte sind Kaffeetassen)\n",
    "\n",
    "Als Ergebnis wollen wir wieder ein Dictionary welches angibt mit welcher Wahrscheinlichkeit ein falsch erkanntes Objekt eine Kaffeetasse, ein Glas, etc ist."
   ]
  },
  {
   "cell_type": "code",
   "execution_count": 82,
   "metadata": {
    "deletable": false,
    "nbgrader": {
     "cell_type": "code",
     "checksum": "e9cb89ac61f34f2f96fd9ac87b35b087",
     "grade": false,
     "grade_id": "Roboter_A",
     "locked": false,
     "schema_version": 3,
     "solution": true,
     "task": false
    }
   },
   "outputs": [
    {
     "name": "stdout",
     "output_type": "stream",
     "text": [
      "Mit einer Wahrscheinlichkeit von 0.0732 ist das falsch erkannte Objekt ein(e) Kaffeetasse.\n",
      "Mit einer Wahrscheinlichkeit von 0.3049 ist das falsch erkannte Objekt ein(e) Löffel.\n",
      "Mit einer Wahrscheinlichkeit von 0.2561 ist das falsch erkannte Objekt ein(e) Glas.\n",
      "Mit einer Wahrscheinlichkeit von 0.1463 ist das falsch erkannte Objekt ein(e) Schüssel.\n",
      "Mit einer Wahrscheinlichkeit von 0.2195 ist das falsch erkannte Objekt ein(e) Teller.\n"
     ]
    }
   ],
   "source": [
    "import numpy as np\n",
    "\n",
    "def falschErkannt(genauigkeiten: {str, float}, raum: {str, float}) -> {str, float}:\n",
    "    '''\n",
    "    Berechne die Wahrscheinlichkeit dafür, dass ein falsch erkanntes Objekt \n",
    "    ein bestimmtes Objekt ist\n",
    "    \n",
    "    Args:\n",
    "        genauigkeiten -- Dictionary mit den Genauigkeiten für jedes Objekt\n",
    "        raum          -- Dictionary mit den Anteilen für jedes Objekt im Raum\n",
    "    Returns:\n",
    "        fehlerkennung -- Dictionary mit den Wahrscheinlichkeiten einer Fehlerkennung für jedes Objekt\n",
    "    '''\n",
    "   \n",
    "    dic= raum.copy()\n",
    "    \n",
    "    p_b= 0.0\n",
    "    \n",
    "    for i in genauigkeiten:\n",
    "        p_b +=((1-genauigkeiten[i])*raum[i])\n",
    "    \n",
    "    for i in dic:\n",
    "       # P(A/B)=          P(B/A)         *     P(A) /P(B)  \n",
    "        dic[i] = ((1-genauigkeiten[i])   * raum[i]) /p_b\n",
    "        \n",
    "    return dic \n",
    "    \n",
    "\n",
    "# Aufruf der Funktion mit oben beschriebenen Werten\n",
    "genauigkeiten = {\n",
    "    'Kaffeetasse': 0.99,\n",
    "    'Löffel': 0.95,\n",
    "    'Glas': 0.93,\n",
    "    'Schüssel': 0.97,\n",
    "    'Teller': 0.91\n",
    "}\n",
    "\n",
    "raumA = {\n",
    "    'Kaffeetasse': 0.30,\n",
    "    'Löffel': 0.25,\n",
    "    'Glas': 0.15,\n",
    "    'Schüssel': 0.2,\n",
    "    'Teller': 0.1\n",
    "}\n",
    "fehlerkennung = falschErkannt(genauigkeiten, raumA)\n",
    "\n",
    "# Test auf richtiges return Format\n",
    "assert type(fehlerkennung) == dict, 'Sie müssen ein Dictionary zurückgeben!'\n",
    "\n",
    "# Ausgabe der Wahrscheinlichkeiten\n",
    "for objekt in fehlerkennung:\n",
    "    print(f'Mit einer Wahrscheinlichkeit von {fehlerkennung[objekt]:.4f} ist das falsch erkannte Objekt ein(e) {objekt}.')"
   ]
  },
  {
   "cell_type": "markdown",
   "metadata": {
    "deletable": false,
    "editable": false,
    "nbgrader": {
     "cell_type": "markdown",
     "checksum": "1d2bb995f0a66f7dda6c1a8b60237e9a",
     "grade": false,
     "grade_id": "Roboter_B_Description0",
     "locked": true,
     "schema_version": 3,
     "solution": false,
     "task": false
    }
   },
   "source": [
    "## Roboter b) [10 Punkte]\n",
    "\n",
    "Als nächstes möchten wir die Wahrscheinlichkeiten in einem Säulendiagramm darstellen. \n",
    "\n",
    "Nehmen Sie dafür einmal die Fehlerwahrscheinlichkeiten die sich im oben beschriebenen Raum A ergeben und einmal die Fehlerwahrscheinlichkeiten für folgenden Raum B:\n",
    "\n",
    "| Objekt      | Anteil in Raum B |\n",
    "|-------------|------------------|\n",
    "| Kaffeetasse | $15\\%$           |\n",
    "| Löffel      | $13\\%$           |\n",
    "| Glas        | $30\\%$           |\n",
    "| Schüssel    | $22\\%$           |\n",
    "| Teller      | $20\\%$           |\n",
    "\n",
    "Stellen Sie die Wahrscheinlichkeiten für beide Räume im selben Diagramm dar. Für jedes Objekt benötigen Sie zwei Säulen. Falls Sie nicht wissen, wie Sie ein solches Diagramm erstellen können Sie bswp. [hier](https://matplotlib.org/3.1.1/gallery/lines_bars_and_markers/barchart.html#sphx-glr-gallery-lines-bars-and-markers-barchart-py) nachschauen."
   ]
  },
  {
   "cell_type": "code",
   "execution_count": 83,
   "metadata": {
    "deletable": false,
    "nbgrader": {
     "cell_type": "code",
     "checksum": "13b51286675f29f1bf18a6269313a69b",
     "grade": true,
     "grade_id": "Roboter_B",
     "locked": false,
     "points": 10,
     "schema_version": 3,
     "solution": true,
     "task": false
    },
    "pycharm": {
     "name": "#%%\n"
    }
   },
   "outputs": [
    {
     "data": {
      "image/png": "[encoded data removed]",
      "text/plain": [
       "<Figure size 432x288 with 1 Axes>"
      ]
     },
     "metadata": {
      "needs_background": "light"
     },
     "output_type": "display_data"
    }
   ],
   "source": [
    "import matplotlib.pyplot as plt\n",
    "raumB = {\n",
    "    'Kaffeetasse': 0.15,\n",
    "    'Löffel': 0.13,\n",
    "    'Glas': 0.30,\n",
    "    'Schüssel': 0.22,\n",
    "    'Teller': 0.20\n",
    "}\n",
    "\n",
    "\n",
    "\n",
    "dict_a= falschErkannt(genauigkeiten, raumA)\n",
    "\n",
    "dict_b= falschErkannt(genauigkeiten, raumB)\n",
    "\n",
    "d_a =dict_a.values()\n",
    "d_b =dict_b.values()\n",
    "\n",
    "data_a =[]\n",
    "data_b =[]\n",
    "\n",
    "#data = [k for k, v in dict_a.items() if v in data_a]\n",
    "\n",
    "\n",
    "for i in d_a:\n",
    "    data_a.append(i)\n",
    "for i in d_b:\n",
    "    data_b.append(i)\n",
    "    \n",
    "labels = [k for k in dict_a]\n",
    "\n",
    "\n",
    "x = np.arange(len(labels))  # the label locations\n",
    "width = 0.35  # the width of the bars\n",
    "\n",
    "fig, ax = plt.subplots()\n",
    "rects1 = ax.bar(x - width/2, data_a, width, label='RaumA')\n",
    "rects2 = ax.bar(x + width/2, data_b, width, label='RaumB')\n",
    "\n",
    "# Add some text for labels, title and custom x-axis tick labels, etc.\n",
    "ax.set_ylabel('probability')\n",
    "ax.set_title('Säulendiagramm')\n",
    "ax.set_xticks(x)\n",
    "ax.set_xticklabels(labels)\n",
    "ax.legend()\n",
    "ax.grid(True)\n",
    "\n",
    "\n",
    "def autolabel(rects):\n",
    "    \"\"\"Attach a text label above each bar in *rects*, displaying its height.\"\"\"\n",
    "    for rect in rects:\n",
    "        height = rect.get_height()\n",
    "        ax.annotate('{}'.format(height),\n",
    "                    xy=(rect.get_x() + rect.get_width() / 2, height),\n",
    "                    xytext=(0, 3),  # 3 points vertical offset\n",
    "                    textcoords=\"offset points\",\n",
    "                    ha='center', va='bottom')\n",
    "#autolabel(rects1)\n",
    "#autolabel(rects2)\n",
    "\n",
    "fig.tight_layout()\n",
    "\n",
    "plt.show()"
   ]
  }
 ],
 "metadata": {
  "kernelspec": {
   "display_name": "Python 3",
   "language": "python",
   "name": "python3"
  },
  "language_info": {
   "codemirror_mode": {
    "name": "ipython",
    "version": 3
   },
   "file_extension": ".py",
   "mimetype": "text/x-python",
   "name": "python",
   "nbconvert_exporter": "python",
   "pygments_lexer": "ipython3",
   "version": "3.8.5"
  }
 },
 "nbformat": 4,
 "nbformat_minor": 4
}