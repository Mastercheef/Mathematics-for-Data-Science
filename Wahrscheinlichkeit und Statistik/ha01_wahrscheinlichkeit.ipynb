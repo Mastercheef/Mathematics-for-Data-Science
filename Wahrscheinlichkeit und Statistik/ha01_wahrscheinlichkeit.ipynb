{
 "cells": [
  {
   "cell_type": "markdown",
   "metadata": {
    "deletable": false,
    "editable": false,
    "nbassignment": {
     "type": "header"
    },
    "nbgrader": {
     "cell_type": "markdown",
     "checksum": "80c8610ba535d3be4000ca29c9202baf",
     "grade": false,
     "grade_id": "template_01e63c03_0",
     "locked": true,
     "schema_version": 3,
     "solution": false,
     "task": false
    }
   },
   "source": [
    "<div class=\"alert alert-block alert-info\">\n",
    "    <h1>Wahrscheinlichkeitstheorie und Statistik</h1>\n",
    "    <h2>WS 2020 / 2021</h2>\n",
    "    <h2>Übe einfache Funktionen mit Python</h2>\n",
    "    <h3>Allgemeine Informationen:</h3>\n",
    "    <p>Schreiben Sie Ihre Antwort an die Stelle <i>YOUR ANSWER HERE</i>.</p>\n",
    "    <p>Wenn Sie eine Zelle bearbeiten, löschen Sie die Zeile <i>raise NotImplementedError()</i>.</p>\n",
    "    <p>Fügen Sie keine neuen Zellen hinzu oder löschen Zellen.</p>\n",
    "    <h2>Viel Erfolg!</h2>   \n",
    "</div>"
   ]
  },
  {
   "cell_type": "code",
   "execution_count": 1,
   "metadata": {
    "deletable": false,
    "editable": false,
    "nbassignment": {
     "type": "header"
    },
    "nbgrader": {
     "cell_type": "code",
     "checksum": "7183ec3be9e57509132edb3775ec4fea",
     "grade": false,
     "grade_id": "template_8864c0f3_0",
     "locked": true,
     "schema_version": 3,
     "solution": false,
     "task": false
    }
   },
   "outputs": [],
   "source": [
    "import math\n",
    "import collections\n",
    "import itertools        \n",
    "import glob\n",
    "import numpy as np\n",
    "import random as rd\n",
    "import matplotlib.pyplot as plt"
   ]
  },
  {
   "cell_type": "markdown",
   "metadata": {
    "deletable": false,
    "editable": false,
    "nbgrader": {
     "cell_type": "markdown",
     "checksum": "176bc59b607fcea702942125ebd985b7",
     "grade": false,
     "grade_id": "Summe_mehrerer_Wuerfel_ASumme_mehrerer_Wuerfel_BSumme_mehrerer_Wuerfel_CSumme_mehrerer_Wuerfel_D_Header",
     "locked": true,
     "schema_version": 3,
     "solution": false,
     "task": false
    }
   },
   "source": [
    "### Summe mehrerer Würfel [20 Punkte]\n"
   ]
  },
  {
   "cell_type": "markdown",
   "metadata": {
    "deletable": false,
    "editable": false,
    "nbgrader": {
     "cell_type": "markdown",
     "checksum": "3bd5e59425ff1f3fb70548ec0eb3f73f",
     "grade": false,
     "grade_id": "Summe_mehrerer_Wuerfel_A_Description0",
     "locked": true,
     "schema_version": 3,
     "solution": false,
     "task": false
    }
   },
   "source": [
    "### Summe mehrerer Würfel a) - Implementierung [10 Punkte]\n",
    "Schreiben Sie eine Funktion die mehrere Würfel gleichzeitig wirft und die Summe der Augenzahl zurückgibt.\n",
    "\n",
    "Die Funktion ```myDiceSum(numSeiten, anzahlWuerfel, anzahlWuerfe)``` soll ```anzahlWuerfel``` mit ```numSeiten``` gleichzeitig werfen, die Summe berechnen und dieses Experiment ```anzahlWuerfe``` oft wiederholen. \n",
    "\n",
    "*Beispiel:*\n",
    "\n",
    "```myDiceSum(6, 2, 5) --> (4, 7, 12, 10, 8)```"
   ]
  },
  {
   "cell_type": "code",
   "execution_count": 2,
   "metadata": {
    "deletable": false,
    "nbgrader": {
     "cell_type": "code",
     "checksum": "2f75e21381b94f45165b211e27309152",
     "grade": false,
     "grade_id": "Summe_mehrerer_Wuerfel_A",
     "locked": false,
     "schema_version": 3,
     "solution": true,
     "task": false
    }
   },
   "outputs": [
    {
     "data": {
      "text/plain": [
       "[15, 13]"
      ]
     },
     "execution_count": 2,
     "metadata": {},
     "output_type": "execute_result"
    }
   ],
   "source": [
    "from random import randint\n",
    "def myDiceSum(numSeiten: int, anzahlWuerfel: int, anzahlWuerfe: int) -> [int]:\n",
    "    s1=[]\n",
    "    s2=[]\n",
    "   \n",
    "    for i in range (1,anzahlWuerfe+1):\n",
    "        s1=[]\n",
    "        \n",
    "        for j in range(1,anzahlWuerfel+1):\n",
    "            \n",
    "            s1.append(randint(1,numSeiten))   \n",
    "        s2.append(sum(s1))    \n",
    "\n",
    "    \n",
    "    return s2\n",
    "    \n",
    "\n",
    "myDiceSum(6, 4, 2)"
   ]
  },
  {
   "cell_type": "markdown",
   "metadata": {
    "deletable": false,
    "editable": false,
    "nbgrader": {
     "cell_type": "markdown",
     "checksum": "cbf48b8091e8adc2f6754d30dcde72e7",
     "grade": false,
     "grade_id": "Summe_mehrerer_Wuerfel_B_Description0",
     "locked": true,
     "schema_version": 3,
     "solution": false,
     "task": false
    }
   },
   "source": [
    "### Summe mehrerer Würfel b) - Histogramm [7 Punkte]\n",
    "\n",
    "Erstellen Sie ein Histogramm für die Summe mehrerer Würfel.\n",
    "\n",
    "Nehmen Sie dafür zwei Würfel mit je ```6``` Seiten und insgesamt ```1000``` Würfen.\n",
    "\n",
    "*Hinweis:*\n",
    "\n",
    "Die Funktion ```plt.hist``` hat den Parameter ```bins``` zum Steuern der Klassen. Stellen Sie sicher, dass für jedes Würfelergebnis genau eine Klasse existiert."
   ]
  },
  {
   "cell_type": "code",
   "execution_count": 3,
   "metadata": {
    "deletable": false,
    "nbgrader": {
     "cell_type": "code",
     "checksum": "6614f5f3cf034aeeb9a8e430d5812905",
     "grade": true,
     "grade_id": "Summe_mehrerer_Wuerfel_B",
     "locked": false,
     "points": 7,
     "schema_version": 3,
     "solution": true,
     "task": false
    }
   },
   "outputs": [
    {
     "data": {
      "image/png": "[encoded data removed]",
      "text/plain": [
       "<Figure size 432x288 with 1 Axes>"
      ]
     },
     "metadata": {
      "needs_background": "light"
     },
     "output_type": "display_data"
    }
   ],
   "source": [
    "import matplotlib.pyplot as plt\n",
    "\n",
    "\n",
    "data = myDiceSum(6,2,1000)\n",
    "plt.hist(data,11,edgecolor = 'k',range=(2,13),align='left',label='sum dice ')\n",
    "plt.xticks(range(2,13))\n",
    "plt.title('2 dices - 6 dice faces - 1000 throws')\n",
    "plt.xlabel('sum dice')\n",
    "plt.ylabel('relative frequency')\n",
    "plt.legend()\n",
    "plt.grid(True)\n",
    "plt.show()"
   ]
  },
  {
   "cell_type": "markdown",
   "metadata": {
    "deletable": false,
    "editable": false,
    "nbgrader": {
     "cell_type": "markdown",
     "checksum": "0972320188a436566ef966442d653404",
     "grade": false,
     "grade_id": "Summe_mehrerer_Wuerfel_C_Description0",
     "locked": true,
     "schema_version": 3,
     "solution": false,
     "task": false
    }
   },
   "source": [
    "### Summe mehrerer Würfel c) - Histogramm [7 Punkte]\n",
    "\n",
    "Wiederholen Sie das Experiment aus b) mit zehn Würfeln mit je ```4``` Seiten und insgesamt ```10000``` Würfen."
   ]
  },
  {
   "cell_type": "code",
   "execution_count": 4,
   "metadata": {
    "deletable": false,
    "nbgrader": {
     "cell_type": "code",
     "checksum": "915a5ed6e38cf5f8b97d09bdeea73d7f",
     "grade": true,
     "grade_id": "Summe_mehrerer_Wuerfel_C",
     "locked": false,
     "points": 7,
     "schema_version": 3,
     "solution": true,
     "task": false
    }
   },
   "outputs": [
    {
     "data": {
      "image/png": "[encoded data removed]",
      "text/plain": [
       "<Figure size 432x288 with 1 Axes>"
      ]
     },
     "metadata": {
      "needs_background": "light"
     },
     "output_type": "display_data"
    }
   ],
   "source": [
    "import matplotlib.pyplot as plt\n",
    "\n",
    "data = myDiceSum(4,10,10000)\n",
    "plt.hist(data,bins=range(4,42,1),ec='black',label='sum dice', width=0.5)\n",
    "plt.title('4 dices - 10 dice faces - 10000 throws')\n",
    "plt.xlabel('sum dice')\n",
    "plt.ylabel('relative frequency')\n",
    "plt.legend()\n",
    "plt.grid(True)\n",
    "\n",
    "plt.show()"
   ]
  },
  {
   "cell_type": "markdown",
   "metadata": {
    "deletable": false,
    "editable": false,
    "nbgrader": {
     "cell_type": "markdown",
     "checksum": "87cbed3c9561327a790a585fc5a42d75",
     "grade": false,
     "grade_id": "Summe_mehrerer_Wuerfel_D_Description0",
     "locked": true,
     "schema_version": 3,
     "solution": false,
     "task": false
    }
   },
   "source": [
    "### Summe mehrerer Würfel d) - Verteilung [6 Punkte]\n",
    "\n",
    "Je mehr Würfe und Würfel genutzt werden, desto mehr nähert sich die Verteilung einer bekannten Verteilung an. Welche ist dies?\n",
    "\n",
    "Bitte speichern Sie Ihre Antwort als String in der Variable ```verteilung``` (bspw. ```verteilung = 'Poissonverteilung'```) ."
   ]
  },
  {
   "cell_type": "code",
   "execution_count": 5,
   "metadata": {
    "deletable": false,
    "nbgrader": {
     "cell_type": "code",
     "checksum": "9eb7dec460d175afb74610fac5f78024",
     "grade": false,
     "grade_id": "Summe_mehrerer_Wuerfel_D",
     "locked": false,
     "schema_version": 3,
     "solution": true,
     "task": false
    }
   },
   "outputs": [],
   "source": [
    "verteilung = 'Normalverteilung'"
   ]
  },
  {
   "cell_type": "markdown",
   "metadata": {
    "deletable": false,
    "editable": false,
    "nbgrader": {
     "cell_type": "markdown",
     "checksum": "b0519a18d26d6cee0410a0e4902bca60",
     "grade": false,
     "grade_id": "Unfairer_Wuerfel_AUnfairer_Wuerfel_B_Header",
     "locked": true,
     "schema_version": 3,
     "solution": false,
     "task": false
    }
   },
   "source": [
    "### Unfairer Würfel [20 Punkte]\n",
    "\n",
    "Gegeben Sei ein unfairer Würfel mit sechs Seiten bei dem die Wahrscheinlichkeit eine gerade Zahl zu würfeln doppelt so hoch ist, wie eine ungerade Zahl zu würfeln. Alle geraden Zahlen sind gleichwahrscheinlich. Alle ungeraden Zahlen sind gleichwahrscheinlich und die Summe aller Wahrscheinlichkeiten ist 1.\n",
    "\n",
    "Lies $P(X=1)$ als: die Wahrscheinlichkeit eine \"1\" zu würfeln und $P(X<4)$ als die Wahrscheinlichkeit eine Zahl kleiner 4 zu würfeln. "
   ]
  },
  {
   "cell_type": "markdown",
   "metadata": {
    "deletable": false,
    "editable": false,
    "nbgrader": {
     "cell_type": "markdown",
     "checksum": "465570fb2e8e8252a704b1d536c4673b",
     "grade": false,
     "grade_id": "Unfairer_Wuerfel_A_Description0",
     "locked": true,
     "schema_version": 3,
     "solution": false,
     "task": false
    }
   },
   "source": [
    "### Unfairer Würfel a) - Wahrscheinlichkeiten [10 Punkte]\n",
    "\n",
    "Geben Sie folgende Wahrscheinlichkeiten an:\n",
    "\n",
    "$P(X = 1), P(X = 2), P(X = 3), P(X = 4), P(X = 5), P(X = 6)$, sowie $P(X < 4)$\n",
    "\n",
    "Nutzen Sie zur Eingabe die Variablen in der nächsten Zelle"
   ]
  },
  {
   "cell_type": "code",
   "execution_count": 6,
   "metadata": {
    "deletable": false,
    "nbgrader": {
     "cell_type": "code",
     "checksum": "04992512aced796d4cc7a8f2b47b56e7",
     "grade": false,
     "grade_id": "Unfairer_Wuerfel_A",
     "locked": false,
     "schema_version": 3,
     "solution": true,
     "task": false
    }
   },
   "outputs": [],
   "source": [
    "P_gleich_1 = 1/9\n",
    "P_gleich_2 = 2/9\n",
    "P_gleich_3 = 1/9\n",
    "P_gleich_4 = 2/9\n",
    "P_gleich_5 = 1/9\n",
    "P_gleich_6 = 2/9\n",
    "P_kleiner_4 = 4/9\n"
   ]
  },
  {
   "cell_type": "markdown",
   "metadata": {
    "deletable": false,
    "editable": false,
    "nbgrader": {
     "cell_type": "markdown",
     "checksum": "6babf0f1ed6483fa6563a66a15ff63da",
     "grade": false,
     "grade_id": "Unfairer_Wuerfel_B_Description0",
     "locked": true,
     "schema_version": 3,
     "solution": false,
     "task": false
    }
   },
   "source": [
    "### Unfairer Würfel b) - Implementierung [10 Punkte]\n",
    "\n",
    "Erstellen Sie ein Modell für einen einzelnen Wurf dieses Würfels. \n",
    "\n",
    "Vervollständigen Sie die Funktion ```myUnfairDice()```, welche **genau einen** Wurf dieses Würfels simuliert und die Augenzahl zurückgibt.\n",
    "\n",
    "*Beispiel:*\n",
    "\n",
    "```myUnfairDice() --> 4```\n",
    "\n",
    "```myUnfairDice() --> 1```\n",
    "\n",
    "```myUnfairDice() --> 2```\n",
    "\n",
    "```myUnfairDice() --> 6```"
   ]
  },
  {
   "cell_type": "code",
   "execution_count": 3,
   "metadata": {
    "deletable": false,
    "nbgrader": {
     "cell_type": "code",
     "checksum": "ef084529bc435c864c015ae534196108",
     "grade": false,
     "grade_id": "Unfairer_Wuerfel_B",
     "locked": false,
     "schema_version": 3,
     "solution": true,
     "task": false
    }
   },
   "outputs": [
    {
     "data": {
      "text/plain": [
       "4"
      ]
     },
     "execution_count": 3,
     "metadata": {},
     "output_type": "execute_result"
    }
   ],
   "source": [
    "import numpy as np\n",
    "import random as rd\n",
    "\n",
    "def myUnfairDice() -> int:\n",
    "  \n",
    "    unfair_wuerfel = [1,2,2,3,4,4,5,6,6]    \n",
    "    len_wuerfel = len(unfair_wuerfel) \n",
    "    \n",
    "    return unfair_wuerfel[randint(0,8)] \n",
    "    \n",
    "myUnfairDice()"
   ]
  },
  {
   "cell_type": "markdown",
   "metadata": {
    "deletable": false,
    "editable": false,
    "nbgrader": {
     "cell_type": "markdown",
     "checksum": "a47dbbeb9624b3d4679e40d5bdd9276b",
     "grade": false,
     "grade_id": "Muenzwurf_AMuenzwurf_BMuenzwurf_C_Header",
     "locked": true,
     "schema_version": 3,
     "solution": false
    }
   },
   "source": [
    "## Münzwurf [35 Punkte]\n",
    "\n",
    "Münzen eignen sich um eine faire Entscheidung zu treffen. Dazu wählt eine Person Kopf und die andere Zahl. Jedes der beiden Ereignisse ist gleich wahrscheinlich.\n",
    "\n",
    "Anstatt nur einen Münzwurf zu betrachten kann man auch eine Folge von Münzwürfen betrachten. Ein Freund schlägt Ihnen folgendes Spiel vor:\n",
    "\n",
    "Jeder der zwei Spieler wählt das Ergebnis zwei aufeinander folgender Münzwürfe. Beispielsweise wählt der erste Spieler die Folge Kopf-Kopf ($KK$), der zweite Spieler die Folge Zahl-Zahl ($ZZ$).\n",
    "\n",
    "Nun wird eine Münze solange geworfen bis eines der beiden Ereignisse auftritt.\n",
    "Beispielweise kann sich die Folge $ZKZKZKZZ$ ergeben, bei der Spieler 2 gewinnt (da die letzten beiden Würfe Zahl-Zahl sind)."
   ]
  },
  {
   "cell_type": "markdown",
   "metadata": {
    "deletable": false,
    "editable": false,
    "nbgrader": {
     "cell_type": "markdown",
     "checksum": "fd9419d3c8d0ffbdc9fe2485ea4e2582",
     "grade": false,
     "grade_id": "Muenzwurf_A_Description0",
     "locked": true,
     "schema_version": 3,
     "solution": false
    }
   },
   "source": [
    "### Münzwurf a) [15 Punkte]\n",
    "\n",
    "Um ein Gefühl für die Wahrscheinlichkeiten zu bekommen, bietet es sich an ein Spiel zu simulieren.\n",
    "\n",
    "Schreiben Sie hierzu eine Funktion ```muenzSpiel(folge1, folge2)``` welche genau ein Spiel simuliert und den Gewinner zurückgibt (entweder den String 'Spieler 1' falls ```folge1``` zuerst auftritt oder den String 'Spieler 2' falls ```folge2``` zuerst auftritt).\n",
    "\n",
    "Benutzen Sie in Ihrer Funktion die Funktion ```muenze()``` die das Ergebnis genau eines zufälligen Münzwurfs zurückgibt.\n",
    "\n",
    "*Beispiel:*\n",
    "\n",
    "```muenzSpiel('KK', 'ZZ') --> 'Spieler 1'```\n",
    "\n",
    "```muenzSpiel('KK', 'ZZ') --> 'Spieler 2'```\n",
    "\n",
    "..."
   ]
  },
  {
   "cell_type": "code",
   "execution_count": 4,
   "metadata": {
    "deletable": false,
    "nbgrader": {
     "cell_type": "code",
     "checksum": "e50727f651b3973c66fa00cc9aa6be6a",
     "grade": false,
     "grade_id": "Muenzwurf_A",
     "locked": false,
     "schema_version": 3,
     "solution": true
    }
   },
   "outputs": [
    {
     "data": {
      "text/plain": [
       "'Spieler 2'"
      ]
     },
     "execution_count": 4,
     "metadata": {},
     "output_type": "execute_result"
    }
   ],
   "source": [
    "import numpy as np\n",
    "\n",
    "def muenze() -> str:\n",
    "    \"\"\"\n",
    "    Werfe eine Muenze einmal\n",
    "    \n",
    "    Returns:\n",
    "        seite -- Seite die oben liegt (entweder Z oder K)\n",
    "    \"\"\"\n",
    "    seiten = ['K', 'Z']\n",
    "    return seiten[np.random.randint(0, 2)]\n",
    "\n",
    "def muenzSpiel(folge1: str, folge2: str) -> str:\n",
    "\n",
    "    sp1 ='Spieler 1'\n",
    "    sp2 ='Spieler 2'\n",
    "    list=''\n",
    "    while(True):\n",
    "        list +=muenze()\n",
    "        if(folge1 in list):\n",
    "            return sp1\n",
    "        if(folge2 in list):\n",
    "            return sp2\n",
    "    return 'kein Gewinner'\n",
    "    \n",
    "    \n",
    "muenzSpiel(\"KK\",\"ZK\")"
   ]
  },
  {
   "cell_type": "code",
   "execution_count": 9,
   "metadata": {
    "deletable": false,
    "editable": false,
    "nbgrader": {
     "cell_type": "code",
     "checksum": "7e805aef3aaa483ffd55a4873ee128f4",
     "grade": true,
     "grade_id": "test_Muenzwurf_A0",
     "locked": true,
     "points": 15,
     "schema_version": 3,
     "solution": false
    }
   },
   "outputs": [],
   "source": [
    "# Dies ist eine Testzelle, bitte ignorieren Sie diese!"
   ]
  },
  {
   "cell_type": "markdown",
   "metadata": {
    "deletable": false,
    "editable": false,
    "nbgrader": {
     "cell_type": "markdown",
     "checksum": "0faba8fe228d5f2b53f35926f1b48be4",
     "grade": false,
     "grade_id": "Muenzwurf_B_Description0",
     "locked": true,
     "schema_version": 3,
     "solution": false
    }
   },
   "source": [
    "### Münzwurf b) [5 Punkte]\n",
    "\n",
    "Benutzen Sie Ihre Funktion aus Teil a) um ```1000``` Spiele zu simulieren. Füllen Sie dafür eine Liste mit den Ergebnissen der Funktion ```muenzSpiel('KK', 'ZZ')```.\n",
    "\n",
    "Erzeugen Sie ein Histogramm für die Ergebnisse der ```1000``` Spiele."
   ]
  },
  {
   "cell_type": "code",
   "execution_count": 10,
   "metadata": {
    "deletable": false,
    "nbgrader": {
     "cell_type": "code",
     "checksum": "61e5ef452fb9a68c98c47c0363d94b26",
     "grade": true,
     "grade_id": "Muenzwurf_B",
     "locked": false,
     "points": 5,
     "schema_version": 3,
     "solution": true
    }
   },
   "outputs": [
    {
     "data": {
      "image/png": "[encoded data removed]",
      "text/plain": [
       "<Figure size 432x288 with 1 Axes>"
      ]
     },
     "metadata": {
      "needs_background": "light"
     },
     "output_type": "display_data"
    }
   ],
   "source": [
    "import matplotlib.pyplot as plt\n",
    "\n",
    "s =[]\n",
    "p1 = []\n",
    "p2 =[]\n",
    "\n",
    "for i in range(1,1001):\n",
    "    s.append(muenzSpiel('KK','ZZ'))\n",
    "\n",
    "for i in s:\n",
    "    if(i=='Spieler 1'):\n",
    "        p1.append(i)\n",
    "    if(i=='Spieler 2'):\n",
    "        p2.append(i)\n",
    "\n",
    "\n",
    "\n",
    "plt.hist(p1,color='red',alpha=0.9,bins=3,ec='black',label='Spieler 1', width=0.3)\n",
    "plt.hist(p2,color='blue',alpha=0.9,bins=3,ec='black',label='Spieler 2', width=0.3)\n",
    "plt.title('Gewinne pro Spieler für 1000 Spiele')\n",
    "plt.xlabel('Spieler')\n",
    "plt.ylabel('Gewinne')\n",
    "plt.legend()\n",
    "plt.grid(True)\n",
    "\n",
    "plt.show()"
   ]
  },
  {
   "cell_type": "markdown",
   "metadata": {
    "deletable": false,
    "editable": false,
    "nbgrader": {
     "cell_type": "markdown",
     "checksum": "6ed6de3d538b5d0a86ef22202a5ec0fd",
     "grade": false,
     "grade_id": "Muenzwurf_C_Description0",
     "locked": true,
     "schema_version": 3,
     "solution": false
    }
   },
   "source": [
    "### Münzwurf c) [15 Punkte]\n",
    "\n",
    "Nehmen Sie an Sie wissen, dass der andere Spieler immer die Folge KK wählt. \n",
    "\n",
    "Welche Folge sollten Sie wählen um Ihre Gewinnchance zu maximieren? Wie hoch ist die Wahrscheinlichkeit zu gewinnen?\n",
    "\n",
    "Speichern Sie die Folge als String in der Variablen ```Folge```. Speichern Sie die Wahrscheinlichkeit in der Variablen ```Gewinnwahrscheinlichkeit```."
   ]
  },
  {
   "cell_type": "code",
   "execution_count": 20,
   "metadata": {
    "deletable": false,
    "nbgrader": {
     "cell_type": "code",
     "checksum": "a41f67cbc6d595d6b9fd7664f696b5d1",
     "grade": false,
     "grade_id": "Muenzwurf_C",
     "locked": false,
     "schema_version": 3,
     "solution": true
    },
    "scrolled": true,
    "pycharm": {
     "name": "#%%\n"
    }
   },
   "outputs": [
    {
     "name": "stdout",
     "output_type": "stream",
     "text": [
      "0.74848\n"
     ]
    }
   ],
   "source": [
    "Folge = 'ZK'\n",
    "Gewinnwahrscheinlichkeit = 3/4\n",
    "\n",
    "\n",
    "def fun():\n",
    "    s =[]\n",
    "    count=[]\n",
    "    c=0\n",
    "    for i in range(1000):\n",
    "        c=0\n",
    "        s=[] \n",
    "        for j in range(100):\n",
    "            s.append(muenzSpiel('KK','ZK'))\n",
    "        for k in s:\n",
    "            if(k == 'Spieler 2'):\n",
    "                c+=1\n",
    "        count.append(c)\n",
    "   \n",
    "    len_count= len(count)\n",
    "\n",
    "    avg = sum(count)/len_count\n",
    "    print(avg/100) # Ausgabe der Wahrscheinlichkeit eines Gewinnes von Spieler 2 in % bei n Spielen n -> inf\n",
    "#fun()"
   ]
  }
 ],
 "metadata": {
  "kernelspec": {
   "display_name": "Python 3",
   "language": "python",
   "name": "python3"
  },
  "language_info": {
   "codemirror_mode": {
    "name": "ipython",
    "version": 3
   },
   "file_extension": ".py",
   "mimetype": "text/x-python",
   "name": "python",
   "nbconvert_exporter": "python",
   "pygments_lexer": "ipython3",
   "version": "3.8.6"
  }
 },
 "nbformat": 4,
 "nbformat_minor": 4
}