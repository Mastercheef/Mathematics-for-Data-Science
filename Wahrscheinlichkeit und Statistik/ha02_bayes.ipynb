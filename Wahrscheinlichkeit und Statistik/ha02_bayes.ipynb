{
 "cells": [
  {
   "cell_type": "markdown",
   "metadata": {
    "deletable": false,
    "editable": false,
    "nbassignment": {
     "type": "header"
    },
    "nbgrader": {
     "cell_type": "markdown",
     "checksum": "7abffcb1786070a97ccebbfde03f7de1",
     "grade": false,
     "grade_id": "template_01e63c03_0",
     "locked": true,
     "schema_version": 3,
     "solution": false,
     "task": false
    }
   },
   "source": [
    "<div class=\"alert alert-block alert-info\">\n",
    "    <h1>Wahrscheinlichkeitstheorie und Statistik</h1>\n",
    "    <h2>WS 2020 / 2021</h2>\n",
    "    <h2>Satz von Bayes</h2>\n",
    "    <h3>Allgemeine Informationen:</h3>\n",
    "    <p>Schreiben Sie Ihre Antwort an die Stelle <i>YOUR ANSWER HERE</i>.</p>\n",
    "    <p>Wenn Sie eine Zelle bearbeiten, löschen Sie die Zeile <i>raise NotImplementedError()</i>.</p>\n",
    "    <p>Fügen Sie keine neuen Zellen hinzu oder löschen Zellen.</p>\n",
    "    <h3>Abgabetermin</h3>\n",
    "    <p>Die Abgabe der Hausaufgabe ist immer Dienstags um <strong>12:00 Uhr mittags</strong>!</p>\n",
    "    <h2>Viel Erfolg!</h2>   \n",
    "</div>"
   ]
  },
  {
   "cell_type": "code",
   "execution_count": 3,
   "metadata": {
    "deletable": false,
    "editable": false,
    "nbassignment": {
     "type": "header"
    },
    "nbgrader": {
     "cell_type": "code",
     "checksum": "7183ec3be9e57509132edb3775ec4fea",
     "grade": false,
     "grade_id": "template_8864c0f3_0",
     "locked": true,
     "schema_version": 3,
     "solution": false,
     "task": false
    }
   },
   "outputs": [],
   "source": [
    "import math\n",
    "import collections\n",
    "import itertools        \n",
    "import glob\n",
    "import numpy as np\n",
    "import random as rd\n",
    "import pandas as pd        \n",
    "import matplotlib.pyplot as plt\n",
    "from scipy import stats        "
   ]
  },
  {
   "cell_type": "markdown",
   "metadata": {
    "deletable": false,
    "editable": false,
    "nbgrader": {
     "cell_type": "markdown",
     "checksum": "fbd39c45b92484a34ac2618a9c1fcf68",
     "grade": false,
     "grade_id": "Kolmogorov_-_Genies_und_Schokolade_AKolmogorov_-_Genies_und_Schokolade_B_Header",
     "locked": true,
     "schema_version": 3,
     "solution": false,
     "task": false
    }
   },
   "source": [
    "## Genies und Schokolade [10 Punkte]\n",
    "\n",
    "Angenommen die folgenden Wahrscheinlichkeiten gelten für die Studierenden dieses Kurses:\n",
    "\n",
    "- 60 % sind Genies\n",
    "- 70 % essen gerne Schokolade\n",
    "- 40 % gehören beiden Kategorien an (Genies, Schokolade)"
   ]
  },
  {
   "cell_type": "markdown",
   "metadata": {
    "deletable": false,
    "editable": false,
    "nbgrader": {
     "cell_type": "markdown",
     "checksum": "900b457c2c1131ca4da6d3a35ca37c48",
     "grade": false,
     "grade_id": "Kolmogorov_-_Genies_und_Schokolade_A_Description0",
     "locked": true,
     "schema_version": 3,
     "solution": false,
     "task": false
    }
   },
   "source": [
    "### Genies und Schokolade a) [4 Punkte]\n",
    "\n",
    "Berechnen Sie die Wahrscheinlichkeit dafür, dass ein Studierender weder gerne Schokolade ist, noch ein Genie ist.\n",
    "Weisen Sie der Variable ```wederGenieNochSchokolade``` den entsprechenden Wert zu."
   ]
  },
  {
   "cell_type": "code",
   "execution_count": 4,
   "metadata": {
    "deletable": false,
    "nbgrader": {
     "cell_type": "code",
     "checksum": "a6bc37511848cf437f4a5933f88efb70",
     "grade": false,
     "grade_id": "Kolmogorov_-_Genies_und_Schokolade_A",
     "locked": false,
     "schema_version": 3,
     "solution": true,
     "task": false
    }
   },
   "outputs": [],
   "source": [
    "wederGenieNochSchokolade = 0.1"
   ]
  },
  {
   "cell_type": "markdown",
   "metadata": {
    "deletable": false,
    "editable": false,
    "nbgrader": {
     "cell_type": "markdown",
     "checksum": "f9c3d06435a792b24457428f352053f9",
     "grade": false,
     "grade_id": "Kolmogorov_-_Genies_und_Schokolade_B_Description0",
     "locked": true,
     "schema_version": 3,
     "solution": false,
     "task": false
    }
   },
   "source": [
    "### Genies und Schokolade b) [6 Punkte]\n",
    "\n",
    "Vervollständigen Sie die Funktion ```wederNoch(P_genie, P_schoko, P_beides)``` in der nächsten Zelle. Die Funktion soll die Wahrscheinlichkeit aus Aufgabe 2.1) allgemein berechnen.\n",
    "\n",
    "Bei dem Aufruf ```wederNoch(0.6, 0.7, 0.4)``` sollte daher das in 2.1 berechnete Ergebis herauskommen."
   ]
  },
  {
   "cell_type": "code",
   "execution_count": 12,
   "metadata": {
    "deletable": false,
    "nbgrader": {
     "cell_type": "code",
     "checksum": "23e143f46fc5b49e4a91a9cf16d29df6",
     "grade": false,
     "grade_id": "Kolmogorov_-_Genies_und_Schokolade_B",
     "locked": false,
     "schema_version": 3,
     "solution": true,
     "task": false
    }
   },
   "outputs": [
    {
     "data": {
      "text/plain": [
       "0.1000000000000002"
      ]
     },
     "execution_count": 12,
     "metadata": {},
     "output_type": "execute_result"
    }
   ],
   "source": [
    "def wederNoch(P_genie: float, P_schoko: float, P_beides: float) -> float:\n",
    "    \n",
    "    P_sUg = (P_genie + P_schoko) - P_beides\n",
    "    P_nicht_sUg = 1-P_sUg\n",
    "    \n",
    "    return P_nicht_sUg\n",
    "    \n",
    "wederNoch(0.6,0.7,0.4)"
   ]
  },
  {
   "cell_type": "markdown",
   "metadata": {
    "deletable": false,
    "editable": false,
    "nbgrader": {
     "cell_type": "markdown",
     "checksum": "6651b2a576a9aa92b45667efdd017e22",
     "grade": false,
     "grade_id": "Rauchmelder_A_Header",
     "locked": true,
     "schema_version": 3,
     "solution": false,
     "task": false
    }
   },
   "source": [
    "### Rauchmelder [14 Punkte]\n",
    "\n",
    "Sie möchten neue Rauchmelder für Ihr Schlafzimmer kaufen.\n",
    "\n",
    "Im Internet finden Sie folgende Angebote:\n",
    "\n",
    "Rauchmelder $A$ für EUR 25 und Rauchmelder $B$ für EUR 4,50. \n",
    "\n",
    "Zu beiden Rauchmeldern finden Sie einen unabhängigen Test der angibt mit welcher Wahrscheinlichkeit ein Rauchmelder bei einem Feuer anschlägt.\n",
    "\n",
    "| Rauchmelder | Kosten    | Wahrscheinlichkeit ein Feuer zu erkennen |\n",
    "|-------------|-----------|------------------------------------------|\n",
    "| Typ A       | EUR 25    | 95 %                                     |\n",
    "| Typ B       | EUR 4,50  | 50 %                                     |\n",
    "\n",
    "\n"
   ]
  },
  {
   "cell_type": "markdown",
   "metadata": {
    "deletable": false,
    "editable": false,
    "nbgrader": {
     "cell_type": "markdown",
     "checksum": "e8a9a56be0530043fd4237d9bcef3459",
     "grade": false,
     "grade_id": "Rauchmelder_A_Description0",
     "locked": true,
     "schema_version": 3,
     "solution": false,
     "task": false
    }
   },
   "source": [
    "Sie wollen ein Feuer mit 99 prozentiger Wahrscheinlichkeit erkennen. Wieviele Rauchmelder welchen Typs kaufen Sie um die Kosten zu minimieren? Wie hoch ist die Wahrscheinlichkeit ein Feuer zu erkennen?\n",
    "\n",
    "Speichern Sie Ihre Antwort in den Variablen ```anzahlTypA``` und ```anzahlTypB``` in der nächsten Zelle. Geben Sie die Wahrscheinlichkeit ein Feuer zu erkennen in der Variable ```wahrscheinlichkeitFeuer``` an.\n",
    "\n",
    "*Hinweis:*\n",
    "\n",
    "Vernachlässigen Sie alle Folgekosten."
   ]
  },
  {
   "cell_type": "code",
   "execution_count": 6,
   "metadata": {
    "deletable": false,
    "nbgrader": {
     "cell_type": "code",
     "checksum": "b5dbe3a916963a375a94fd2eadab2549",
     "grade": false,
     "grade_id": "Rauchmelder_A",
     "locked": false,
     "schema_version": 3,
     "solution": true,
     "task": false
    }
   },
   "outputs": [],
   "source": [
    "anzahlTypA = 0\n",
    "anzahlTypB = 7\n",
    "wahrscheinlichkeitFeuer = 0.9921875\n",
    "#Kosten:31.50"
   ]
  },
  {
   "cell_type": "markdown",
   "metadata": {
    "deletable": false,
    "editable": false,
    "nbgrader": {
     "cell_type": "markdown",
     "checksum": "54879a2ca3cd53c24c2b10c2d5597e82",
     "grade": false,
     "grade_id": "Bayesian_Networks_Konzertkarten_ABayesian_Networks_Konzertkarten_BBayesian_Networks_Konzertkarten_C_Header",
     "locked": true,
     "schema_version": 3,
     "solution": false,
     "task": false
    }
   },
   "source": [
    "### Konzertkarten [26 Punkte]\n",
    "\n",
    "Ihre Lieblingsband kommt in die Stadt und Sie wollen unbedingt eine Karte kaufen.\n",
    "\n",
    "Zum Erwerb der Karten haben Sie folgenden Möglichkeiten:\n",
    "\n",
    "- per Telefon\n",
    "- über das Internet\n",
    "- über einen Freund der in der Nähe eines Ticketshops wohnt\n",
    "\n",
    "Es gibt folgende Ereignisse:\n",
    "\n",
    "- $T \\rightarrow$ Telefon funktioniert\n",
    "- $KT \\rightarrow$ Es sind noch Karten über das Telefon verfügbar\n",
    "- $I \\rightarrow$ Ihr Internet funktioniert\n",
    "- $KI \\rightarrow$ Es sind noch Karten über das Internet verfügbar\n",
    "- $F \\rightarrow$ Ihr Freund verschläft nicht\n",
    "- $KF \\rightarrow$ Es sind noch Karten über den Ticketshop verfügbar\n",
    "\n",
    "Es gelten folgende Wahrscheinlichkeiten:\n",
    "\n",
    "<style type=\"text/css\">\n",
    ".tg  {border-collapse:collapse;border-spacing:0;}\n",
    ".tg td{font-family:Arial, sans-serif;font-size:14px;padding:10px 5px;border-style:solid;border-width:1px;overflow:hidden;word-break:normal;border-color:black;}\n",
    ".tg th{font-family:Arial, sans-serif;font-size:14px;font-weight:normal;padding:10px 5px;border-style:solid;border-width:1px;overflow:hidden;word-break:normal;border-color:black;}\n",
    ".tg .tg-lboi{border-color:inherit;text-align:left;vertical-align:middle}\n",
    ".tg .tg-0pky{border-color:inherit;text-align:left;vertical-align:top}\n",
    "</style>\n",
    "<table class=\"tg\">\n",
    "  <tr>\n",
    "    <th class=\"tg-lboi\">P(T)</th>\n",
    "    <th class=\"tg-lboi\">P(KT)</th>\n",
    "    <th class=\"tg-0pky\">P(I)</th>\n",
    "    <th class=\"tg-0pky\">P(KI)</th>\n",
    "    <th class=\"tg-0pky\">P(F)</th>\n",
    "    <th class=\"tg-0pky\">P(KF)<br></th>\n",
    "  </tr>\n",
    "  <tr>\n",
    "    <td class=\"tg-lboi\">0.95</td>\n",
    "    <td class=\"tg-lboi\">0.75</td>\n",
    "    <td class=\"tg-0pky\">0.9</td>\n",
    "    <td class=\"tg-0pky\">0.85</td>\n",
    "    <td class=\"tg-0pky\">0.6</td>\n",
    "    <td class=\"tg-0pky\">0.95</td>\n",
    "  </tr>\n",
    "</table>\n",
    "\n",
    "Der Weg an Karten zu kommen ist in der folgenden Abbildung schematisch dargestellt\n",
    "![konzertkarten.png](Hausaufgabe02_files/img/konzertkarten.png)"
   ]
  },
  {
   "cell_type": "markdown",
   "metadata": {
    "deletable": false,
    "editable": false,
    "nbgrader": {
     "cell_type": "markdown",
     "checksum": "cda0ab6c7b41f554eb6c6d6dfa20787b",
     "grade": false,
     "grade_id": "Bayesian_Networks_Konzertkarten_A_Description0",
     "locked": true,
     "schema_version": 3,
     "solution": false,
     "task": false
    }
   },
   "source": [
    "### Konzertkarten a) [8 Punkte]\n",
    "\n",
    "Wenn Sie alle drei Möglichkeiten probieren um Karten zu bekommen, wie hoch ist die Wahrscheinlichkeit dafür das mindestens eine Möglichkeit funktioniert?"
   ]
  },
  {
   "cell_type": "code",
   "execution_count": 7,
   "metadata": {
    "deletable": false,
    "nbgrader": {
     "cell_type": "code",
     "checksum": "8c04f9467333b3467fd3c4d40c40a4ab",
     "grade": false,
     "grade_id": "Bayesian_Networks_Konzertkarten_A",
     "locked": false,
     "schema_version": 3,
     "solution": true,
     "task": false
    }
   },
   "outputs": [],
   "source": [
    "P_mindestens_eine_Karte = 0.970948125\n",
    "                          0.9709481249999999\n"
   ]
  },
  {
   "cell_type": "markdown",
   "metadata": {
    "deletable": false,
    "editable": false,
    "nbgrader": {
     "cell_type": "markdown",
     "checksum": "e131df21113b4ba8cdf993176fcd3335",
     "grade": false,
     "grade_id": "Bayesian_Networks_Konzertkarten_B_Description0",
     "locked": true,
     "schema_version": 3,
     "solution": false,
     "task": false
    }
   },
   "source": [
    "### Konzertkarten b) [8 Punkte]\n",
    "\n",
    "Wie hoch ist die Wahrscheinlichkeit dafür das Sie Karten über das Internet **und** das Telefon erhalten aber nicht über Ihren Freund?"
   ]
  },
  {
   "cell_type": "code",
   "execution_count": 9,
   "metadata": {
    "deletable": false,
    "nbgrader": {
     "cell_type": "code",
     "checksum": "7b65124e955b739c936537ac7f10c506",
     "grade": false,
     "grade_id": "Bayesian_Networks_Konzertkarten_B",
     "locked": false,
     "schema_version": 3,
     "solution": true,
     "task": false
    }
   },
   "outputs": [],
   "source": [
    "P_Telefon_und_Internet = 0.234376875"
   ]
  },
  {
   "cell_type": "markdown",
   "metadata": {
    "deletable": false,
    "editable": false,
    "nbgrader": {
     "cell_type": "markdown",
     "checksum": "bd6abb13cfe9468f22d715513c93f128",
     "grade": false,
     "grade_id": "Bayesian_Networks_Konzertkarten_C_Description0",
     "locked": true,
     "schema_version": 3,
     "solution": false,
     "task": false
    }
   },
   "source": [
    "### Konzertkarten c) [10 Punkte]\n",
    "\n",
    "Wie hoch ist die Wahrscheinlichkeit dafür über alle drei Kanäle Karten zu erhalten?"
   ]
  },
  {
   "cell_type": "code",
   "execution_count": null,
   "metadata": {
    "deletable": false,
    "nbgrader": {
     "cell_type": "code",
     "checksum": "1294fef131982c7237faae03cfdf3b93",
     "grade": false,
     "grade_id": "Bayesian_Networks_Konzertkarten_C",
     "locked": false,
     "schema_version": 3,
     "solution": true,
     "task": false
    }
   },
   "outputs": [],
   "source": [
    "P_alle_drei = 0.310685625"
   ]
  },
  {
   "cell_type": "markdown",
   "metadata": {
    "deletable": false,
    "editable": false,
    "nbgrader": {
     "cell_type": "markdown",
     "checksum": "9768cd687c69f32bf27f8876f63bdece",
     "grade": false,
     "grade_id": "Bayes_Wuerfelwelten_ABayes_Wuerfelwelten_BBayes_Wuerfelwelten_C_Header",
     "locked": true,
     "schema_version": 3,
     "solution": false,
     "task": false
    }
   },
   "source": [
    "\n",
    "# Bayes - Würfelwelten [50 Punkte]\n",
    "\n",
    "Sie haben einen fairen Würfel $A$ und einen unfairen Würfel $B$ und eine lange Sequenz $S$ von Beobachtungen.\n",
    "\n",
    "Wie können Sie unter der Anwendung des Satzes von Bayes herausfinden, ob die Sequenz von Würfel $A$ oder von Würfel $B$ generiert wurde?"
   ]
  },
  {
   "cell_type": "markdown",
   "metadata": {
    "deletable": false,
    "editable": false,
    "nbgrader": {
     "cell_type": "markdown",
     "checksum": "1b7e4b4254526747d05f094b588b017a",
     "grade": false,
     "grade_id": "Bayes_Wuerfelwelten_A_Description0",
     "locked": true,
     "schema_version": 3,
     "solution": false,
     "task": false
    }
   },
   "source": [
    "### Bayes - Würfelwelten a) [10 Punkte]\n",
    "#### Würfel und Würfelresultate\n",
    "\n",
    "Gegeben seien folgende Würfel:\n",
    "\n",
    "Würfel A:\n",
    "\n",
    "$P_A(\\{w_i\\}) = \\frac{1}{6}, \\forall i \\in \\{1, 2, 3, 4, 5, 6\\}$\n",
    "\n",
    "Würfel B:\n",
    "\n",
    "$P_B(\\{w_i\\}) = \\frac{1}{6} + \\frac{1}{12}, \\forall i \\in \\{2, 4, 6\\}$\n",
    "\n",
    "$P_B(\\{w_i\\}) = \\frac{1}{6} - \\frac{1}{12}, \\forall i \\in \\{1, 3, 5\\}$\n",
    "\n",
    "Vervollständigen Sie die Funktionen ```fairerWuerfel``` und ```unfairerWuerfel```."
   ]
  },
  {
   "cell_type": "code",
   "execution_count": 11,
   "metadata": {
    "deletable": false,
    "nbgrader": {
     "cell_type": "code",
     "checksum": "95a17cb1c1c2fa7f39e4358a3d025ecf",
     "grade": false,
     "grade_id": "Bayes_Wuerfelwelten_A",
     "locked": false,
     "schema_version": 3,
     "solution": true,
     "task": false
    }
   },
   "outputs": [
    {
     "name": "stdout",
     "output_type": "stream",
     "text": [
      "[5, 5, 5, 5]\n",
      "[6, 6, 5, 2]\n"
     ]
    }
   ],
   "source": [
    "import random as rd\n",
    "\n",
    "\n",
    "def fairerWuerfel(wuerfe):\n",
    "    wuerfel=[1,2,3,4,5,6]\n",
    "    list = []\n",
    "    \n",
    "    for i in range (1,wuerfe+1):\n",
    "        list.append(rd.choice(wuerfel))\n",
    "    \n",
    "    return list\n",
    "\n",
    "def unfairerWuerfel(wuerfe):\n",
    "    wuerfel=[2,4,6,2,4,6,2,4,6,1,3,5]\n",
    "    list=[]\n",
    "\n",
    "    for i in range (1,wuerfe+1):\n",
    "        list.append(rd.choice(wuerfel))      \n",
    "\n",
    "    return list"
   ]
  },
  {
   "cell_type": "markdown",
   "metadata": {
    "deletable": false,
    "editable": false,
    "nbgrader": {
     "cell_type": "markdown",
     "checksum": "b915f42057d4a3657d02fbaf41917048",
     "grade": false,
     "grade_id": "Bayes_Wuerfelwelten_B_Description0",
     "locked": true,
     "schema_version": 3,
     "solution": false,
     "task": false
    }
   },
   "source": [
    "### Bayes - Würfelwelten b) [25 Punkte]\n",
    "#### Testen auf $A$ oder $B$ mit dem Satz von Bayes\n",
    "\n",
    "Implementieren Sie die Funktion ```bayesSchritt``` (siehe Vorlesung), die für einen Würfelwurf, die Wahrscheinlichkeitsverteilungen der beiden Würfel und die vorige Wahrscheinlichkeit für Würfel $A$ bzw $B$ die neuen Wahrscheinlichkeiten für Würfel $A$ und $B$ berechnet.\n",
    "\n"
   ]
  },
  {
   "cell_type": "code",
   "execution_count": 3,
   "metadata": {
    "deletable": false,
    "nbgrader": {
     "cell_type": "code",
     "checksum": "5abbcf344a286dac0d2209ebefc87f6f",
     "grade": false,
     "grade_id": "Bayes_Wuerfelwelten_B",
     "locked": false,
     "schema_version": 3,
     "solution": true,
     "task": false
    }
   },
   "outputs": [
    {
     "name": "stdout",
     "output_type": "stream",
     "text": [
      "(0.3571428571428571, 0.6428571428571428)\n"
     ]
    }
   ],
   "source": [
    "def bayesSchritt(\n",
    "        wurf: int, \n",
    "        wahrscheinlichkeitenA: [float],\n",
    "        wahrscheinlichkeitenB: [float],\n",
    "        prior: (float, float)\n",
    "    ) -> (float, float):\n",
    "    '''\n",
    "    Berechne die Wahrscheinlichkeit dafür, dass ein Wurf aus der Sequenz\n",
    "    von Würfel A oder Würfel B kommt\n",
    "    \n",
    "    Args:\n",
    "        wurf                  -- der aktuelle Wert des Würfels in der Sequenz\n",
    "        wahrscheinlichkeitenA -- die Wahrscheinlichkeiten für die Seiten des Würfels A\n",
    "        wahrscheinlichkeitenB -- die Wahrscheinlichkeiten für die Seiten des Würfels A\n",
    "        prior                 -- die vorige Wahrscheinlichkeit für Würfel A und Würfel B \n",
    "                                 als Tupel: (pA, pB)\n",
    "    Returns:\n",
    "        posterior             -- die Wahrscheinlichkeit für Würfel A und Würfel B\n",
    "                                 als Tupel nach Beobachtung des aktuellen Wurfs: (pA, pB)\n",
    "    '''\n",
    "    posterior=()\n",
    "    p_wurf_a = wahrscheinlichkeitenA[wurf-1]* prior[0]\n",
    "    p_wurf_b = wahrscheinlichkeitenB[wurf-1]* prior[1]  \n",
    "    p_wurf_ges= p_wurf_a+p_wurf_b\n",
    "    \n",
    "    posterior_a=p_wurf_a/p_wurf_ges\n",
    "    posterior_b=p_wurf_b/p_wurf_ges\n",
    "    \n",
    "    posterior =(posterior_a,posterior_b)\n",
    "\n",
    "    return posterior\n",
    "\n",
    "#Test mit Beispiel aus der Vorlesung\n",
    "poster= bayesSchritt(wurf =3,wahrscheinlichkeitenA=[1/6,1/6,1/6,1/6,1/6,1/6] ,wahrscheinlichkeitenB=[0.15,0.05,0.3,0.3,0.05,0.15],prior=(0.5,0.5))\n",
    "print(poster)"
   ]
  },
  {
   "cell_type": "markdown",
   "metadata": {
    "deletable": false,
    "editable": false,
    "nbgrader": {
     "cell_type": "markdown",
     "checksum": "c95bab99cb06f581c64e3054c5de0541",
     "grade": false,
     "grade_id": "Bayes_Wuerfelwelten_C_Description0",
     "locked": true,
     "schema_version": 3,
     "solution": false,
     "task": false
    }
   },
   "source": [
    "### Bayes - Würfelwelten c) [15 Punkte]\n",
    "#### Visualisierung\n",
    "\n",
    "Gegeben sei folgende Sequenz von Würfelwürfen des fairen Würfels:\n",
    "\n",
    "$S_{\\mathrm{unfair}} = [1, 1, \\dots, 2, 2, \\dots, 3, 3, \\dots, 4, 4, \\dots, 5, 5, \\dots, 6, 6 ]$ \n",
    "\n",
    "Die Sequenz besteht aus der Folge $10$ mal eine $1$, $10$ mal eine $2$, $10$ mal eine $3$, $10$ mal eine $4$, $10$ mal eine $5$ und $10$ mal eine $6$.\n",
    "\n",
    "Iterieren Sie diese Sequenz mit der Funktion ```bayesSchritt``` aus Teilaufgabe b) für die Würfel $A$ und $B$ und bestimmen Sie die Wahrscheinlichkeit dafür, dass $A$ oder $B$ vorliegt.\n",
    "\n",
    "Plotten Sie das Ergebnis nach jedem Wurf für Würfel $A$ und $B$ in einem Plot. Der Plot soll zwei Kurven enthalten, jeweils eine für die Wahrscheinlichkeit dafür, dass die bisherige Sequenz durch Würfel $A$ erzeugt wurde und eine für die Wahrscheinlichkeit dafür, dass die bisherige Sequenz durch Würfel $B$ erzeugt wurde."
   ]
  },
  {
   "cell_type": "code",
   "execution_count": 43,
   "metadata": {
    "deletable": false,
    "nbgrader": {
     "cell_type": "code",
     "checksum": "e5f8be752013d945aaa73ae180ee9500",
     "grade": true,
     "grade_id": "Bayes_Wuerfelwelten_C",
     "locked": false,
     "points": 15,
     "schema_version": 3,
     "solution": true,
     "task": false
    },
    "pycharm": {
     "name": "#%%\n"
    }
   },
   "outputs": [
    {
     "name": "stdout",
     "output_type": "stream",
     "text": [
      "61\n"
     ]
    },
    {
     "data": {
      "image/png": "[encoded data removed]",
      "text/plain": [
       "<Figure size 432x288 with 1 Axes>"
      ]
     },
     "metadata": {
      "needs_background": "light"
     },
     "output_type": "display_data"
    }
   ],
   "source": [
    "# Am Anfang gehen wir davon aus, dass beide Würfel gleichwahrscheinlich sind\n",
    "prior = (0.5, 0.5)\n",
    "# Sequenz der Würfelergebnisse\n",
    "sequenz = [1, 1, 1, 1, 1, 1, 1, 1, 1, 1, \n",
    "           2, 2, 2, 2, 2, 2, 2, 2, 2, 2, \n",
    "           3, 3, 3, 3, 3, 3, 3, 3, 3, 3, \n",
    "           4, 4, 4, 4, 4, 4, 4, 4, 4, 4, \n",
    "           5, 5, 5, 5, 5, 5, 5, 5, 5, 5, \n",
    "           6, 6, 6, 6, 6, 6, 6, 6, 6, 6]\n",
    "# Wahrscheinlichkeiten für die Würfelergebnisse\n",
    "wahrscheinlichkeitenA=[] \n",
    "wahrscheinlichkeitenB=[]\n",
    "\n",
    "w_a=[1/6,1/6,1/6,1/6,1/6,1/6]\n",
    "w_b=[1/12,1/4,1/12,1/4,1/12,1/4]\n",
    "\n",
    "wahrscheinlichkeitenA.append(0.5)\n",
    "wahrscheinlichkeitenB.append(0.5)\n",
    "\n",
    "tmp=prior\n",
    "\n",
    "for i in sequenz:\n",
    "    \n",
    "    tmp = (bayesSchritt(i,w_a,w_b,tmp))\n",
    "\n",
    "    wahrscheinlichkeitenA.append(tmp[0])\n",
    "    wahrscheinlichkeitenB.append(tmp[1])\n",
    "    \n",
    "\n",
    "\n",
    "data_a = wahrscheinlichkeitenA\n",
    "data_b = wahrscheinlichkeitenB\n",
    "plt.plot(data_a)\n",
    "plt.plot(data_b)\n",
    "plt.title('dice worlds')\n",
    "plt.xlabel('count throws')\n",
    "plt.ylabel('propability')\n",
    "plt.legend(['dice A', 'dice B'])\n",
    "plt.grid(True)\n",
    "plt.show()"
   ]
  }
 ],
 "metadata": {
  "kernelspec": {
   "display_name": "ExamKernel",
   "language": "python",
   "name": "exam_kernel"
  },
  "language_info": {
   "extension": ".py",
   "mimetype": "text/plain",
   "name": "python"
  }
 },
 "nbformat": 4,
 "nbformat_minor": 4
}