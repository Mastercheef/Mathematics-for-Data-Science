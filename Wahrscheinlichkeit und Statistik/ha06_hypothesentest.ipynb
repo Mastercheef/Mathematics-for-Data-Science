{
 "cells": [
  {
   "cell_type": "markdown",
   "metadata": {
    "deletable": false,
    "editable": false,
    "nbassignment": {
     "type": "header"
    },
    "nbgrader": {
     "cell_type": "markdown",
     "checksum": "f40f1da56d7c7d9486bcc8d03b5184c6",
     "grade": false,
     "grade_id": "template_01e63c03_0",
     "locked": true,
     "schema_version": 3,
     "solution": false,
     "task": false
    }
   },
   "source": [
    "<div class=\"alert alert-block alert-info\">\n",
    "    <h1>Wahrscheinlichkeitstheorie und Statistik</h1>\n",
    "    <h2>WS 2020 / 2021</h2>\n",
    "    <h2>Tests</h2>\n",
    "    <h3>Allgemeine Informationen:</h3>\n",
    "    <p>Schreiben Sie Ihre Antwort an die Stelle <i>YOUR ANSWER HERE</i>.</p>\n",
    "    <p>Wenn Sie eine Zelle bearbeiten, löschen Sie die Zeile <i>raise NotImplementedError()</i>.</p>\n",
    "    <p>Fügen Sie keine neuen Zellen hinzu oder löschen Zellen.</p>\n",
    "    <h3>Abgabetermin</h3>\n",
    "    <p>Die Abgabe der Hausaufgabe ist immer Dienstags um <strong>12:00 Uhr mittags</strong>! Vergessen Sie nicht Ihre Übung abzugeben.</p>\n",
    "    <h2>Viel Erfolg!</h2>   \n",
    "</div>"
   ]
  },
  {
   "cell_type": "markdown",
   "metadata": {
    "deletable": false,
    "editable": false,
    "nbassignment": {
     "type": "header"
    },
    "nbgrader": {
     "cell_type": "markdown",
     "checksum": "d168e673227861de0755d36f6fbe5c4f",
     "grade": false,
     "grade_id": "template_1c702a0c_0",
     "locked": true,
     "schema_version": 3,
     "solution": false,
     "task": false
    }
   },
   "source": [
    "<div class=\"alert alert-block alert-warning\">\n",
    "    <h2>Hinweise zur Bearbeitung der Übung</h2>\n",
    "    <h3>Angabe von Ergebnissen</h3>\n",
    "    <ul>\n",
    "        <li>Sie müssen nicht runden. Wir testen ob Ihr Ergebnis um maximal $5\\%$ vom exaktem Wert abweicht. $f_{rel }= \\frac{|x_{exakt} - x_{Studi}|}{x_{exakt}} \\leq 0.05$</li>\n",
    "        <li>Prozentzahlen werden immer als Zahl zwischen 0 und 1 angegeben. 30% wird somit als 0.3 angegeben.</li>\n",
    "        <li>Fließkommazahlen werden mit einem Dezimalpunkt angegeben, nicht mit einem Komma. $\\frac{1}{4} \\rightarrow 0.25$.</li>\n",
    "    </ul>\n",
    "    <h3>Programmcode</h3>\n",
    "    <ul>\n",
    "        <li>Benutzen Sie nur die in der nächsten Zelle angegebenen Bibliotheken mit den dort benutzten Namen. Wenn Sie also etwas aus der Bibliothek <i>random</i> nutzen wollen, verwenden Sie den Namen <i>rd</i>.</li>\n",
    "        <li>Das Ergebnis einer Funktion muss mittels <i>return</i> zurückgegeben werden. Ein <i>print</i> Statement ist keine gültige Rückgabe.</li>\n",
    "        <li>Stellen Sie sicher, dass sich Ihr Code ausführen lässt. Code der nicht läuft kann nicht automatisch bewertet werden.</li>\n",
    "        <li><strong>Bevor Sie abgeben:</strong> Klicken Sie im Menü auf Kernel > Restart & Run All. Damit führen Sie das Notebook von oben nach unten aus. Alle Fehler die dann auftreten, treten auch beim Bewerten auf.</li>\n",
    "        <li>Entfernen Sie die Zeilen <i>raise NotImplementedError()</i> wenn Sie eine Aufgabe bearbeiten. Ansonsten wird beim Bewerten eine Exception ausgelöst die uns sagt, dass Sie die Aufgabe nicht bearbeitet haben!</li>\n",
    "    </ul>\n",
    "    <h3>Plots</h3>\n",
    "    <ul>\n",
    "        <li>Jeder Plot soll eine Achsenbeschriftung, einen Titel, eine Legende und ein Grid haben.</li>\n",
    "    </ul>\n",
    "    \n",
    "</div>"
   ]
  },
  {
   "cell_type": "code",
   "execution_count": 2,
   "metadata": {
    "deletable": false,
    "editable": false,
    "nbassignment": {
     "type": "header"
    },
    "nbgrader": {
     "cell_type": "code",
     "checksum": "f5edb8833af4775e55993dc3a8c3fc53",
     "grade": false,
     "grade_id": "template_8864c0f3_0",
     "locked": true,
     "schema_version": 3,
     "solution": false,
     "task": false
    }
   },
   "outputs": [],
   "source": [
    "import math\n",
    "import collections\n",
    "import itertools        \n",
    "import glob\n",
    "import numpy as np\n",
    "import random as rd\n",
    "import pandas as pd        \n",
    "import matplotlib.pyplot as plt\n",
    "from scipy import stats"
   ]
  },
  {
   "cell_type": "markdown",
   "metadata": {
    "deletable": false,
    "editable": false,
    "nbgrader": {
     "cell_type": "markdown",
     "checksum": "5c0862a0d1182ee886e42ddbaae48677",
     "grade": false,
     "grade_id": "Gummibaerchen_AGummibaerchen_BGummibaerchen_CGummibaerchen_DGummibaerchen_E_Header",
     "locked": true,
     "schema_version": 3,
     "solution": false,
     "task": false
    }
   },
   "source": [
    "\n",
    "# Gummibärchen [30 Punkte]\n",
    "\n",
    "Sie essen gerne Gummibärchen. In einer Packung gibt es die Sorten Ananas, Himbeer, Apfel, Erdbeer, Orange und Zitrone. Jede Packung enthält ungefähr 150 Gummibärchen.\n",
    "\n",
    "Wir interessieren uns für die Verteilung der Sorten (bspw. ob eine Sorte öfter vorkommt) und wollen diese mit einem $\\chi^2$-Test überprüfen.\n",
    "\n",
    "Dazu kaufen wir 5 Packungen Gummibärchen mit insgesamt 750 Gummibärchen.\n",
    "\n",
    "Nach dem Zählen der Gummibärchen ergibt sich folgende Häufigkeitsverteilung:\n",
    "\n",
    "| Farbe  | Ananas | Himbeer | Apfel | Erdbeere | Orange | Zitrone |\n",
    "|--------|-----|------|------|------|--------|-------|\n",
    "| Anzahl | 135  | 114   | 130  | 141  | 105    | 125    |"
   ]
  },
  {
   "cell_type": "markdown",
   "metadata": {
    "deletable": false,
    "editable": false,
    "nbgrader": {
     "cell_type": "markdown",
     "checksum": "58555ae56655c7e1c03f43d52e8904c6",
     "grade": false,
     "grade_id": "Gummibaerchen_A_Description0",
     "locked": true,
     "schema_version": 3,
     "solution": false,
     "task": false
    }
   },
   "source": [
    "### Gummibärchen a) [5 Punkte]\n",
    "\n",
    "Stellen Sie die H0-Hypothese auf."
   ]
  },
  {
   "cell_type": "markdown",
   "metadata": {
    "deletable": false,
    "nbgrader": {
     "cell_type": "markdown",
     "checksum": "1e7ad77fb8c442ac8d9729f68c9f8ad0",
     "grade": true,
     "grade_id": "Gummibaerchen_A",
     "locked": false,
     "points": 5,
     "schema_version": 3,
     "solution": true,
     "task": false
    }
   },
   "source": [
    "(H0)Die Verteilung der unterschiedlichen Sorten ist gleich häufig.\n",
    "(H1)Die Verteilung der unterschiedlichen Sorten  ist unterschiedlich , eine Sorte kann öfter als eine andere vorkommen."
   ]
  },
  {
   "cell_type": "markdown",
   "metadata": {
    "deletable": false,
    "editable": false,
    "nbgrader": {
     "cell_type": "markdown",
     "checksum": "a775b09267bb5d168d9b9a28a7bb2cd9",
     "grade": false,
     "grade_id": "Gummibaerchen_B_Description0",
     "locked": true,
     "schema_version": 3,
     "solution": false,
     "task": false
    }
   },
   "source": [
    "### Gummibärchen b) [5 Punkte]\n",
    "\n",
    "Erstellen Sie zuerst einen pandas DataFrame mit den Spalten Sorte, Beobachtet, Erwartet.\n",
    "\n",
    "- Die Spalte Sorte enthalte den Namen der Sorte\n",
    "- Die Spalte Beobachtet enthalte die beobachtete Häufigkeit (s. Tabelle oben)\n",
    "- Die Spalte Erwartet enthalte die erwartete Häufigkeit für die H0 Hypothese\n",
    "\n",
    "Nennen Sie Ihren DataFrame ```gummibaerchen```"
   ]
  },
  {
   "cell_type": "code",
   "execution_count": 3,
   "metadata": {
    "deletable": false,
    "nbgrader": {
     "cell_type": "code",
     "checksum": "1624a95c49b3699382bc2387c3077f24",
     "grade": false,
     "grade_id": "Gummibaerchen_B",
     "locked": false,
     "schema_version": 3,
     "solution": true,
     "task": false
    }
   },
   "outputs": [
    {
     "data": {
      "text/html": [
       "<div>\n",
       "<style scoped>\n",
       "    .dataframe tbody tr th:only-of-type {\n",
       "        vertical-align: middle;\n",
       "    }\n",
       "\n",
       "    .dataframe tbody tr th {\n",
       "        vertical-align: top;\n",
       "    }\n",
       "\n",
       "    .dataframe thead th {\n",
       "        text-align: right;\n",
       "    }\n",
       "</style>\n",
       "<table border=\"1\" class=\"dataframe\">\n",
       "  <thead>\n",
       "    <tr style=\"text-align: right;\">\n",
       "      <th></th>\n",
       "      <th>Sorte</th>\n",
       "      <th>Beobachtet</th>\n",
       "      <th>Erwartet</th>\n",
       "    </tr>\n",
       "  </thead>\n",
       "  <tbody>\n",
       "    <tr>\n",
       "      <th>0</th>\n",
       "      <td>Ananas</td>\n",
       "      <td>135</td>\n",
       "      <td>125.0</td>\n",
       "    </tr>\n",
       "    <tr>\n",
       "      <th>1</th>\n",
       "      <td>Himbeer</td>\n",
       "      <td>114</td>\n",
       "      <td>125.0</td>\n",
       "    </tr>\n",
       "    <tr>\n",
       "      <th>2</th>\n",
       "      <td>Apfel</td>\n",
       "      <td>130</td>\n",
       "      <td>125.0</td>\n",
       "    </tr>\n",
       "    <tr>\n",
       "      <th>3</th>\n",
       "      <td>Erdbeere</td>\n",
       "      <td>141</td>\n",
       "      <td>125.0</td>\n",
       "    </tr>\n",
       "    <tr>\n",
       "      <th>4</th>\n",
       "      <td>Orange</td>\n",
       "      <td>105</td>\n",
       "      <td>125.0</td>\n",
       "    </tr>\n",
       "    <tr>\n",
       "      <th>5</th>\n",
       "      <td>Zitrone</td>\n",
       "      <td>125</td>\n",
       "      <td>125.0</td>\n",
       "    </tr>\n",
       "  </tbody>\n",
       "</table>\n",
       "</div>"
      ],
      "text/plain": [
       "      Sorte  Beobachtet  Erwartet\n",
       "0    Ananas         135     125.0\n",
       "1   Himbeer         114     125.0\n",
       "2     Apfel         130     125.0\n",
       "3  Erdbeere         141     125.0\n",
       "4    Orange         105     125.0\n",
       "5   Zitrone         125     125.0"
      ]
     },
     "execution_count": 3,
     "metadata": {},
     "output_type": "execute_result"
    }
   ],
   "source": [
    "import pandas as pd\n",
    "\n",
    "#erstellen des DataFrames\n",
    "sorte = ['Ananas', 'Himbeer','Apfel','Erdbeere','Orange','Zitrone']\n",
    "beobachtet =   [135,114,130,141,105,125]\n",
    "\n",
    "#die Erwarteten Werte berechnen\n",
    "h0_beobachtet = (sum(beobachtet)/len(beobachtet))\n",
    "erwartet =[]\n",
    "for i in range(0, len(sorte)):\n",
    "    erwartet.append(h0_beobachtet)\n",
    "\n",
    "\n",
    "d= {'Sorte':sorte,\n",
    "    'Beobachtet':beobachtet,\n",
    "    'Erwartet':h0_beobachtet}\n",
    "\n",
    "\n",
    "gummibaerchen = pd.DataFrame(data=d)\n",
    "\n",
    "gummibaerchen"
   ]
  },
  {
   "cell_type": "markdown",
   "metadata": {
    "deletable": false,
    "editable": false,
    "nbgrader": {
     "cell_type": "markdown",
     "checksum": "5c6cf40aabed0c7b01e05663437589a4",
     "grade": false,
     "grade_id": "Gummibaerchen_C_Description0",
     "locked": true,
     "schema_version": 3,
     "solution": false,
     "task": false
    }
   },
   "source": [
    "### Gummibärchen c) [5 Punkte]\n",
    "\n",
    "Rechnen Sie die Prüfgröße $\\chi^2$ für den Test aus. Speichern Sie Ihre Lösung in der Variablen chi."
   ]
  },
  {
   "cell_type": "code",
   "execution_count": 4,
   "metadata": {
    "deletable": false,
    "nbgrader": {
     "cell_type": "code",
     "checksum": "a860bae4f912d8602f9763e508b9eb1e",
     "grade": false,
     "grade_id": "Gummibaerchen_C",
     "locked": false,
     "schema_version": 3,
     "solution": true,
     "task": false
    }
   },
   "outputs": [
    {
     "data": {
      "text/plain": [
       "7.216"
      ]
     },
     "execution_count": 4,
     "metadata": {},
     "output_type": "execute_result"
    }
   ],
   "source": [
    "chi = 0\n",
    "\n",
    "#erste Möglichkeit zur Berechnung : \n",
    "\n",
    "#data = gummibaerchen.Beobachtet\n",
    "#a = stats.chisquare(data)\n",
    "#chi1 =a[0]\n",
    "\n",
    "#zweite Möglichkeit zur Berechnung : \n",
    "\n",
    "beob_häuf = gummibaerchen.Beobachtet\n",
    "erw_häuf= gummibaerchen.Erwartet\n",
    "\n",
    "chi= sum((beob_häuf-erw_häuf)**2 /(erw_häuf))\n",
    "\n",
    "\n",
    "# empirischer chi^2 wert\n",
    "chi"
   ]
  },
  {
   "cell_type": "markdown",
   "metadata": {
    "deletable": false,
    "editable": false,
    "nbgrader": {
     "cell_type": "markdown",
     "checksum": "c9086f0bf8129c09cff752c1908b4ef7",
     "grade": false,
     "grade_id": "Gummibaerchen_D_Description0",
     "locked": true,
     "schema_version": 3,
     "solution": false,
     "task": false
    }
   },
   "source": [
    "### Gummibärchen d) [5 Punkte]\n",
    "\n",
    "Benutzen Sie den $\\chi^2$ Test mit einem Signifikanzniveau von $\\alpha = 1 \\%$ um die Hypothese anzunehmen oder abzulehnen.\n",
    "\n",
    "Berechnen Sie die untere und obere Grenze für den Annahmebereich der H0 Hypothese.\n",
    "\n",
    "Speichern Sie Ihre Lösung in den Variablen untereGrenze und obereGrenze.\n",
    "\n",
    "Nehmen Sie die H0 Hypothese an? Speichern Sie Ihre Lösung als Boolean (True, False) in der Variablen ```h0angenommen```.\n"
   ]
  },
  {
   "cell_type": "code",
   "execution_count": 5,
   "metadata": {
    "deletable": false,
    "nbgrader": {
     "cell_type": "code",
     "checksum": "1369987af53bace7a70c7b8d778ebc80",
     "grade": false,
     "grade_id": "Gummibaerchen_D",
     "locked": false,
     "schema_version": 3,
     "solution": true,
     "task": false
    }
   },
   "outputs": [
    {
     "name": "stdout",
     "output_type": "stream",
     "text": [
      "Die Grenzen für den Annahmebereich sind (0.55, 15.09)\n",
      "Die H0 Hypothese wird angenommen\n"
     ]
    }
   ],
   "source": [
    "alpha = 0.01\n",
    "untereGrenze = 0\n",
    "obereGrenze = 0\n",
    "h0angenommen = False\n",
    "\n",
    "# df = Anzahl elemente - 1 \n",
    "# df = 5\n",
    "\n",
    "#berechnung der unteren Grenze\n",
    "untereGrenze = stats.chi2.ppf(q=alpha, df=5)\n",
    "#berechnung der oberen Grenze\n",
    "obereGrenze =  stats.chi2.ppf(q=(1-alpha), df=5)\n",
    "#h0angenommen wird als Boolean bestimmt:\n",
    "h0angenommen = untereGrenze <= chi <= obereGrenze\n",
    "#wenn chi wert zwischen den Grenzen liegt wird die Hypothese angenommen\n",
    "\n",
    "print('Die Grenzen für den Annahmebereich sind ({:.2f}, {:.2f})'.format(untereGrenze, obereGrenze))\n",
    "if h0angenommen:\n",
    "    print('Die H0 Hypothese wird angenommen')\n",
    "else:\n",
    "    print('Die H0 Hypothese wird abgelehnt')"
   ]
  },
  {
   "cell_type": "code",
   "execution_count": 6,
   "metadata": {
    "deletable": false,
    "editable": false,
    "nbgrader": {
     "cell_type": "code",
     "checksum": "ab4e9a8ae91f472bf63803f6dddaf14b",
     "grade": true,
     "grade_id": "test_Gummibaerchen_D0",
     "locked": true,
     "points": 5,
     "schema_version": 3,
     "solution": false,
     "task": false
    }
   },
   "outputs": [],
   "source": [
    "# Dies ist eine Testzelle, bitte ignorieren Sie diese"
   ]
  },
  {
   "cell_type": "markdown",
   "metadata": {
    "deletable": false,
    "editable": false,
    "nbgrader": {
     "cell_type": "markdown",
     "checksum": "d7edf7bf05c1540a33295a2b74352949",
     "grade": false,
     "grade_id": "Gummibaerchen_E_Description0",
     "locked": true,
     "schema_version": 3,
     "solution": false,
     "task": false
    }
   },
   "source": [
    "### Gummibärchen e) [10 Punkte]\n",
    "\n",
    "Erstellen Sie einen Plot für die Dichtefunktion der $\\chi^2$ Verteilung in den Grenzen von 0 bis 20.\n",
    "\n",
    "Zeichnen Sie die untere Grenze des Annahmebereichs und die obere Grenze des Annahmebereichs als vertikale Linie ein.\n",
    "\n",
    "Zeichnen Sie eine vertikale Linie für die Prüfgröße.\n",
    "\n",
    "Stellen Sie sicher, das der Wert der oberen und unteren, sowie der Prüfgröße im Plot ablesbar ist (siehe ```plt.xticks```).\n"
   ]
  },
  {
   "cell_type": "code",
   "execution_count": 7,
   "metadata": {
    "deletable": false,
    "nbgrader": {
     "cell_type": "code",
     "checksum": "163c49d4f9f839ab9ba23f4e4b671a7a",
     "grade": true,
     "grade_id": "Gummibaerchen_E",
     "locked": false,
     "points": 10,
     "schema_version": 3,
     "solution": true,
     "task": false
    }
   },
   "outputs": [
    {
     "data": {
      "image/png": "[encoded data removed]",
      "text/plain": [
       "<Figure size 864x576 with 1 Axes>"
      ]
     },
     "metadata": {
      "needs_background": "light"
     },
     "output_type": "display_data"
    }
   ],
   "source": [
    "import matplotlib.pyplot as plt\n",
    "import numpy as np\n",
    "from scipy.stats import chi2\n",
    "\n",
    "\n",
    "# np.linspace(start, stop, num=50, endpoint=True, retstep=False, dtype=None, axis=0)\n",
    "x= np.linspace(0,20,100)\n",
    "# chi2.pdf(x, df, loc, scale) \n",
    "y= chi2.pdf(x,5)\n",
    "\n",
    "#Eingabe für die Grenzen\n",
    "y_min =[0.0,0.0]\n",
    "y_max = [0.20,0.20]\n",
    "grenzen= [untereGrenze,obereGrenze]\n",
    "\n",
    "#eingabe für die Prüfgroesse\n",
    "plt.figure(figsize=(12,8))\n",
    "plt.plot(x,y, label='Dichtefunktion $chi^2$',linewidth=3)\n",
    "\n",
    "#Grenzen des Annahmebereichs\n",
    "plt.vlines(grenzen,y_min,y_max, colors='r', linestyles='solid', label='Grenzen des Annahmebereichs',linewidth=3)\n",
    "#Pruefgroesse\n",
    "plt.vlines(chi,y_min[0],y_max[0], colors='g', linestyles='solid', label='Pruefgroesse',linewidth=3)\n",
    "\n",
    "\n",
    "#plotten des Graphen  \n",
    "plt.title('Dichtefunktion $chi^2$' , fontsize=17)\n",
    "plt.xlabel('x-axis', fontsize=16, color='k')\n",
    "plt.ylabel('y-axis', fontsize=16, color='k')\n",
    "plt.legend( loc='best', edgecolor='k')\n",
    "plt.grid(True)\n",
    "plt.show()"
   ]
  },
  {
   "cell_type": "markdown",
   "metadata": {
    "deletable": false,
    "editable": false,
    "nbgrader": {
     "cell_type": "markdown",
     "checksum": "cf0ae15c8daf4538b55932e0fec67976",
     "grade": false,
     "grade_id": "Massnahmen_Krankheit_A_Header",
     "locked": true,
     "schema_version": 3,
     "solution": false,
     "task": false
    }
   },
   "source": [
    "\n",
    "# Krankheit [30 Punkte]\n",
    "\n",
    "Ein Wissenschaftler hat verschiedene Maßnahmen gegen eine Krankheit getestet und möchte deren Wirksamkeit nun statistisch belegen.\n"
   ]
  },
  {
   "cell_type": "markdown",
   "metadata": {
    "deletable": false,
    "editable": false,
    "nbgrader": {
     "cell_type": "markdown",
     "checksum": "15d206dfeec6d3b7d4483b05619f403d",
     "grade": false,
     "grade_id": "Massnahmen_Krankheit_A_Description0",
     "locked": true,
     "schema_version": 3,
     "solution": false,
     "task": false
    }
   },
   "source": [
    "### Krankheit a) [30 Punkte]\n",
    "\n",
    "Implementieren Sie die Funktion ```kontingenztafel_test```, die eine Kontingenztafel erhält (bspw. Vierfeldertafel) und den Chi-Quadrat Test durchführt.\n",
    "\n",
    "Die Funktion soll die Prüfgröße, die Anzahl der Freiheitsgerade, sowie den p-Wert zurückgeben.\n",
    "\n",
    "Für die Anwendbarkeit des Chi-Quadrat Tests gibt es eine Faustformel. Sollte die Anwendbarkeit des Tests nicht gegeben sein, geben Sie zusätzlich eine Warnung aus. Dies können Sie mit dem Befehl ```print('Dies ist meine Warnung!')``` machen (ändern Sie den Text). "
   ]
  },
  {
   "cell_type": "code",
   "execution_count": 8,
   "metadata": {
    "deletable": false,
    "nbgrader": {
     "cell_type": "code",
     "checksum": "2b129b738ae1f326aa80d8c75f95bac4",
     "grade": false,
     "grade_id": "Massnahmen_Krankheit_A",
     "locked": false,
     "schema_version": 3,
     "solution": true,
     "task": false
    }
   },
   "outputs": [
    {
     "name": "stdout",
     "output_type": "stream",
     "text": [
      "11.792438672438672 1 0.0005947177851116647\n"
     ]
    }
   ],
   "source": [
    "from typing import Tuple\n",
    "import numpy as np\n",
    "from scipy.stats import chisquare, chi2\n",
    "\n",
    "#stats.chisquare(f_obs=observed, f_exp=expected)\n",
    "#pruefgroesse,p_Wert= stats.chisquare(kontingenztafel, f_exp=[], ddof=freiheitsgrade)\n",
    "\n",
    "def kontingenztafel_test(kontingenztafel: [[float]]) -> Tuple[float, float, float]:\n",
    "    '''\n",
    "    Führe einen Chi-Quadrat-Test mit der Kontingenztafel durch\n",
    "    \n",
    "    Arguments:\n",
    "        kontingenztafel -- Die Kontingenztafel (bspw. Vierfeldertafel)\n",
    "    Returns:\n",
    "        pruefgroesse    -- Die Prüfgröße des Chi-Quadrat-Tests\n",
    "        freiheitsgrade  -- Die Anzahl der Freiheitsgrade\n",
    "        p_Wert          -- Der aus dem Chi-Quadrat-Test ermittelte p-Wert\n",
    "    '''\n",
    "    pruefgroesse = 0\n",
    "    p_Wert = 0\n",
    "    freiheitsgrade = 0\n",
    "\n",
    "    z1= (kontingenztafel[0])\n",
    "    z2= (kontingenztafel[1])\n",
    "    sum_ges=sum(z1+z2)\n",
    "\n",
    "    a= z1[0]\n",
    "    b= z1[1]\n",
    "    c= z2[0]\n",
    "    d= z2[1]\n",
    "    \n",
    "    anteile= [[a/sum_ges,b/sum_ges],\n",
    "             [c/sum_ges,d/sum_ges]]\n",
    "    \n",
    "    sum_z1=sum(anteile[0])\n",
    "    sum_z2=sum(anteile[1])\n",
    "    sum_s1=(anteile[0][0]+anteile[1][0])\n",
    "    sum_s2=(anteile[0][1]+anteile[1][1])\n",
    "    \n",
    "    #Erwartete absolute Werte\n",
    "    abs_erw=[[(sum_s1*sum_z1)*sum_ges,(sum_s2*sum_z1)*sum_ges],\n",
    "                [(sum_s1*sum_z2)*sum_ges,(sum_s2*sum_z2)*sum_ges]]\n",
    "    \n",
    "    #Warnung wenn die Anwendbarkeit des Testes nicht gegeben ist\n",
    "    for arr in abs_erw:\n",
    "        for i in arr:\n",
    "            if(i<5):\n",
    "                print('chi^2 nicht anwendbar, da nicht alle Erwartungswerte > 5 sind !!')\n",
    "    \n",
    "    #erstellen df aus den beobachteten und erwarteten Daten\n",
    "    b=[a,b,c,d]\n",
    "    e=[abs_erw[0][0],abs_erw[0][1],abs_erw[1][0],abs_erw[1][1]]\n",
    "    d={'Beobachtet':b,\n",
    "        'Erwartet':e}\n",
    "    g=pd.DataFrame(data=d)\n",
    "    \n",
    "    #berechnung pruefgroesse\n",
    "    pruefgroesse= sum((g.Beobachtet-g.Erwartet)**2 /(g.Erwartet))\n",
    "    #berechnung freiheitsgrade\n",
    "    freiheitsgrade = (len(kontingenztafel)-1) * (len(kontingenztafel[1])-1)\n",
    "    #berechnung p \n",
    "    p_Wert = 1-stats.chi2.cdf(pruefgroesse, freiheitsgrade)\n",
    "    \n",
    "    # Tupel mit pruefgroesse, freiheitsgrade, p_Wert wird zurückgegeben\n",
    "    x=(pruefgroesse, freiheitsgrade, p_Wert)\n",
    "\n",
    "    return x\n",
    "    \n",
    "\n",
    "# Aufruf mit Beispiel aus der Vorlesung\n",
    "pruefgroesse, freihheitsgrade, p_Wert = kontingenztafel_test([[17, 38], [18, 7]])\n",
    "\n",
    "print(pruefgroesse, freihheitsgrade, p_Wert)"
   ]
  },
  {
   "cell_type": "markdown",
   "metadata": {
    "deletable": false,
    "editable": false,
    "nbgrader": {
     "cell_type": "markdown",
     "checksum": "3ca01ce1cf0b30462236fd96e134afe3",
     "grade": false,
     "grade_id": "Fisher_A_Header",
     "locked": true,
     "schema_version": 3,
     "solution": false,
     "task": false
    }
   },
   "source": [
    "\n",
    "# Exakter Test nach Fisher [30 Punkte]\n",
    "\n",
    "Der Fisher-Test ist ein Signifikanztest auf Unabhängigkeit in Kontingenztafeln.\n"
   ]
  },
  {
   "cell_type": "markdown",
   "metadata": {
    "deletable": false,
    "editable": false,
    "nbgrader": {
     "cell_type": "markdown",
     "checksum": "d2af8347ae9c1dec8d1f95ba624d9f10",
     "grade": false,
     "grade_id": "Fisher_A_Description0",
     "locked": true,
     "schema_version": 3,
     "solution": false,
     "task": false
    }
   },
   "source": [
    "### Exakter Test nach Fisher a)\n",
    "\n",
    "Implementieren Sie den zweiseitigen Fisher-Test. Benutzen Sie hierfür nicht die Funktion ```stats.fisher_exact```!\n",
    "\n",
    "Die Funktion ```fisher_exakt``` erhält eine Vierfeldertafel und berechnet den zugehörigen p Wert."
   ]
  },
  {
   "cell_type": "code",
   "execution_count": 9,
   "metadata": {
    "deletable": false,
    "nbgrader": {
     "cell_type": "code",
     "checksum": "6a0fa1daee8fa2b5b3640a9d186cf6b8",
     "grade": false,
     "grade_id": "Fisher_A",
     "locked": false,
     "schema_version": 3,
     "solution": true,
     "task": false
    },
    "pycharm": {
     "name": "#%%\n"
    }
   },
   "outputs": [
    {
     "data": {
      "text/plain": [
       "(0.5238095238095238, (4.0, 0.5238095238095241))"
      ]
     },
     "execution_count": 9,
     "metadata": {},
     "output_type": "execute_result"
    }
   ],
   "source": [
    "import math\n",
    "\n",
    "def fisher_exakt(vierfeldertafel) -> float:\n",
    "    '''\n",
    "    Führe den zweiseitigen Fisher-Test für eine Vierfeldertafel aus\n",
    "    \n",
    "    Arguments:\n",
    "        vierfeldertafel -- Die Vierfeldertafel\n",
    "    Returns:\n",
    "        p_Wert          -- Der p-Wert \n",
    "    '''\n",
    "    p_Wert = 0\n",
    "    \n",
    "    #Fakultät berechnen\n",
    "    fak = lambda x: math.factorial(x)\n",
    "    \n",
    "    #Funktion um p zu berechnen\n",
    "    p_func= lambda a,b,c,d,n:  (fak(a+b)*fak(c+d)*fak(a+c)*fak(b+d))/(fak(n)*fak(a)*fak(b)*fak(c)*fak(d))\n",
    "    \n",
    "    \n",
    "    z1= (vierfeldertafel[0])\n",
    "    z2= (vierfeldertafel[1])\n",
    "    n= sum(z1)+sum(z2)\n",
    "    a= z1[0]\n",
    "    b= z1[1]\n",
    "    c= z2[0]\n",
    "    d= z2[1]\n",
    "    #p-Startwert und listen\n",
    "    p_start=p_func(a,b,c,d,n)\n",
    "    p_liste=[]\n",
    "    p_liste1=[]\n",
    "    #Vierfelder tafeln links und rechtsseitig\n",
    "    tafel_start=[a,b,c,d]\n",
    "    #kopieren der Ursprungstafel\n",
    "    tafel_rechts=[i for i in tafel_start]\n",
    "    tafel_links=[i for i in tafel_start]\n",
    "   \n",
    "    #Es werden alle möglichen 4 Felderverteilungen berücksichtigt\n",
    "    \n",
    "    #zuerst werden die Werte rechts oben und links unten erhöht , die anderen beiden dekrementiert\n",
    "    while not 0 in tafel_rechts:\n",
    "        tafel_rechts[0] -= 1\n",
    "        tafel_rechts[1] += 1\n",
    "        tafel_rechts[2] += 1\n",
    "        tafel_rechts[3] -= 1\n",
    "        n=sum(tafel_rechts)\n",
    "        #speichern der p werte in einer Liste\n",
    "        p_liste.append(p_func(tafel_rechts[0],tafel_rechts[1],tafel_rechts[2],tafel_rechts[3],n))\n",
    "        n=0\n",
    "    \n",
    "    #im zweiten Schritt genau anders herum\n",
    "    while not 0 in tafel_links:\n",
    "        tafel_links[0] += 1\n",
    "        tafel_links[1] -= 1\n",
    "        tafel_links[2] -= 1\n",
    "        tafel_links[3] += 1\n",
    "        n=sum(tafel_links)\n",
    "        #speichern der p werte in einer Liste\n",
    "        p_liste.append(p_func(tafel_links[0],tafel_links[1],tafel_links[2],tafel_links[3],n))\n",
    "        n=0\n",
    "\n",
    "    #nur Werte die kleiner oder gleich dem Start p-Wert sind, werden aufsummiert\n",
    "    for i in p_liste:\n",
    "        if(i<=p_start):\n",
    "            p_liste1.append(i)\n",
    "    \n",
    "    #der p Wert wird als Summe aller p-Werte die unter dem Startwert liegen berechnet \n",
    "    p_Wert=sum(p_liste1)+p_start\n",
    "\n",
    "    \n",
    "    \n",
    "    return p_Wert\n",
    "\n",
    "    \n",
    "vierfeldertafel = [[4, 1], \n",
    "                   [2, 2]]\n",
    "\n",
    "fisher_exakt(vierfeldertafel), stats.fisher_exact(vierfeldertafel)"
   ]
  }
 ],
 "metadata": {
  "kernelspec": {
   "display_name": "ExamKernel",
   "language": "python",
   "name": "exam_kernel"
  },
  "language_info": {
   "extension": ".py",
   "mimetype": "text/plain",
   "name": "python"
  }
 },
 "nbformat": 4,
 "nbformat_minor": 4
}