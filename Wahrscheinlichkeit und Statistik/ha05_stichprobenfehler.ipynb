{
 "cells": [
  {
   "cell_type": "markdown",
   "metadata": {
    "deletable": false,
    "editable": false,
    "nbassignment": {
     "type": "header"
    },
    "nbgrader": {
     "cell_type": "markdown",
     "checksum": "eade112863ee249bd218e9abc1192ca0",
     "grade": false,
     "grade_id": "template_01e63c03_0",
     "locked": true,
     "schema_version": 3,
     "solution": false,
     "task": false
    }
   },
   "source": [
    "<div class=\"alert alert-block alert-info\">\n",
    "    <h1>Wahrscheinlichkeitstheorie und Statistik</h1>\n",
    "    <h2>WS 2020 / 2021</h2>\n",
    "    <h2>Intervallschätzer</h2>\n",
    "    <h3>Allgemeine Informationen:</h3>\n",
    "    <p>Schreiben Sie Ihre Antwort an die Stelle <i>YOUR ANSWER HERE</i>.</p>\n",
    "    <p>Wenn Sie eine Zelle bearbeiten, löschen Sie die Zeile <i>raise NotImplementedError()</i>.</p>\n",
    "    <p>Fügen Sie keine neuen Zellen hinzu oder löschen Zellen.</p>\n",
    "    <h3>Abgabetermin</h3>\n",
    "    <p>Die Abgabe der Hausaufgabe ist immer Dienstags um <strong>12:00 Uhr mittags</strong>! Vergessen Sie nicht Ihre Übung abzugeben.</p>\n",
    "    <h2>Viel Erfolg!</h2>   \n",
    "</div>"
   ]
  },
  {
   "cell_type": "markdown",
   "metadata": {
    "deletable": false,
    "editable": false,
    "nbassignment": {
     "type": "header"
    },
    "nbgrader": {
     "cell_type": "markdown",
     "checksum": "d168e673227861de0755d36f6fbe5c4f",
     "grade": false,
     "grade_id": "template_1c702a0c_0",
     "locked": true,
     "schema_version": 3,
     "solution": false,
     "task": false
    }
   },
   "source": [
    "<div class=\"alert alert-block alert-warning\">\n",
    "    <h2>Hinweise zur Bearbeitung der Übung</h2>\n",
    "    <h3>Angabe von Ergebnissen</h3>\n",
    "    <ul>\n",
    "        <li>Sie müssen nicht runden. Wir testen ob Ihr Ergebnis um maximal $5\\%$ vom exaktem Wert abweicht. $f_{rel }= \\frac{|x_{exakt} - x_{Studi}|}{x_{exakt}} \\leq 0.05$</li>\n",
    "        <li>Prozentzahlen werden immer als Zahl zwischen 0 und 1 angegeben. 30% wird somit als 0.3 angegeben.</li>\n",
    "        <li>Fließkommazahlen werden mit einem Dezimalpunkt angegeben, nicht mit einem Komma. $\\frac{1}{4} \\rightarrow 0.25$.</li>\n",
    "    </ul>\n",
    "    <h3>Programmcode</h3>\n",
    "    <ul>\n",
    "        <li>Benutzen Sie nur die in der nächsten Zelle angegebenen Bibliotheken mit den dort benutzten Namen. Wenn Sie also etwas aus der Bibliothek <i>random</i> nutzen wollen, verwenden Sie den Namen <i>rd</i>.</li>\n",
    "        <li>Das Ergebnis einer Funktion muss mittels <i>return</i> zurückgegeben werden. Ein <i>print</i> Statement ist keine gültige Rückgabe.</li>\n",
    "        <li>Stellen Sie sicher, dass sich Ihr Code ausführen lässt. Code der nicht läuft kann nicht automatisch bewertet werden.</li>\n",
    "        <li><strong>Bevor Sie abgeben:</strong> Klicken Sie im Menü auf Kernel > Restart & Run All. Damit führen Sie das Notebook von oben nach unten aus. Alle Fehler die dann auftreten, treten auch beim Bewerten auf.</li>\n",
    "        <li>Entfernen Sie die Zeilen <i>raise NotImplementedError()</i> wenn Sie eine Aufgabe bearbeiten. Ansonsten wird beim Bewerten eine Exception ausgelöst die uns sagt, dass Sie die Aufgabe nicht bearbeitet haben!</li>\n",
    "    </ul>\n",
    "    <h3>Plots</h3>\n",
    "    <ul>\n",
    "        <li>Jeder Plot soll eine Achsenbeschriftung, einen Titel, eine Legende und ein Grid haben.</li>\n",
    "    </ul>\n",
    "    \n",
    "</div>"
   ]
  },
  {
   "cell_type": "code",
   "execution_count": 2,
   "metadata": {
    "deletable": false,
    "editable": false,
    "nbassignment": {
     "type": "header"
    },
    "nbgrader": {
     "cell_type": "code",
     "checksum": "f5edb8833af4775e55993dc3a8c3fc53",
     "grade": false,
     "grade_id": "template_8864c0f3_0",
     "locked": true,
     "schema_version": 3,
     "solution": false,
     "task": false
    }
   },
   "outputs": [],
   "source": [
    "import math\n",
    "import collections\n",
    "import itertools        \n",
    "import glob\n",
    "import numpy as np\n",
    "import random as rd\n",
    "import pandas as pd        \n",
    "import matplotlib.pyplot as plt\n",
    "from scipy import stats"
   ]
  },
  {
   "cell_type": "markdown",
   "metadata": {
    "deletable": false,
    "editable": false,
    "nbgrader": {
     "cell_type": "markdown",
     "checksum": "315dcda09d7f858217d6b66f02ebde94",
     "grade": false,
     "grade_id": "Standard_Error_of_the_Mean_AStandard_Error_of_the_Mean_BStandard_Error_of_the_Mean_CStandard_Error_of_the_Mean_DStandard_Error_of_the_Mean_EStandard_Error_of_the_Mean_F_Header",
     "locked": true,
     "schema_version": 3,
     "solution": false
    }
   },
   "source": [
    "## Stichprobenfehler für den Mittelwert [70 Punkte]\n",
    "\n",
    "Diese Übungsaufgabe behandelt das Phänomen des Enthaltenseins mittels Intervallschätzung.\n",
    "\n",
    "Wir wollen den Mittelwert einer Verteilung schätzen und damit die Bedeutung eines Konfidenzintervalls illustrieren. \n",
    "\n",
    "Gegeben sei der aus den vorigen Übungen bekannte Datensatz ```health_cleaned.csv``` mit der Spalte ```Groesse```. \n",
    "\n",
    "Wenn wir eine Stichprobe einer bestimmten Größe ziehen und den Mittelwert berechnen, können wir mit einem Konfidenzintervall angeben, in wievielen Fällen das Konfidenzintervall den wahren Mittelwert durchschnittlich  enthält.\n"
   ]
  },
  {
   "cell_type": "markdown",
   "metadata": {
    "deletable": false,
    "editable": false,
    "nbgrader": {
     "cell_type": "markdown",
     "checksum": "07b342b1420ea99c900e9806f149bcda",
     "grade": false,
     "grade_id": "Standard_Error_of_the_Mean_A_Description0",
     "locked": true,
     "schema_version": 3,
     "solution": false
    }
   },
   "source": [
    "### Stichprobenfehler a) [10 Punkte]\n",
    "\n",
    "Schreiben Sie eine Funktion die aus einer Liste von Daten eine Stichprobe (mit Zurücklegen) zieht, den Mittelwert bildet und dieses Experiment $n$ mal wiederholt. Die Rückgabe der Funktion sind dann $n$ Mittelwerte als Liste."
   ]
  },
  {
   "cell_type": "code",
   "execution_count": 3,
   "metadata": {
    "deletable": false,
    "nbgrader": {
     "cell_type": "code",
     "checksum": "c43f2f5ef11a53b7189d917bd6c7c90f",
     "grade": true,
     "grade_id": "Standard_Error_of_the_Mean_A",
     "locked": false,
     "points": 10,
     "schema_version": 3,
     "solution": true
    }
   },
   "outputs": [],
   "source": [
    "def stichprobe(daten: [float], stichprobengroesse: int, wiederholungen: int) -> [float]:\n",
    "    \"\"\"\n",
    "    Ziehe eine Stichprobe und bilde den Mittelwert,\n",
    "    wiederhole n mal\n",
    "    \n",
    "    Arguments:\n",
    "        daten              -- Liste mit Fließkommazahlen\n",
    "        stichprobengroesse -- Anzahl der Werte aus denen der Mittelwert gebildet wird\n",
    "        wiederholungen     -- Wie oft soll das Experiment wiederholt werden\n",
    "    Returns:\n",
    "        mittelwerte        -- Eine Liste der Stichprobenmittelwerte\n",
    "    \"\"\"\n",
    "    # return Mittelwertliste\n",
    "    mittelwerte=[]\n",
    "    \n",
    "    # Anzahl der Wiederholungen\n",
    "    for i in range(0, wiederholungen):\n",
    "        #erstellen der Sammlung\n",
    "        sammlung =[]\n",
    "        for k in range(0,stichprobengroesse):\n",
    "            wert = daten[rd.randint(0,(len(daten)-1))]\n",
    "            sammlung.append(wert)\n",
    "        \n",
    "        mittelwerte.append(np.mean(sammlung))\n",
    "        \n",
    "    return mittelwerte\n",
    "\n",
    "\n",
    "\n",
    "#Test\n",
    "#data = pd.read_csv('data/health_cleaned.csv')\n",
    "#data = pd.DataFrame(data['Groesse'])\n",
    "#data= data.to_numpy()\n",
    "#stichprobe(data, 300, 10)"
   ]
  },
  {
   "cell_type": "markdown",
   "metadata": {
    "deletable": false,
    "editable": false,
    "nbgrader": {
     "cell_type": "markdown",
     "checksum": "d86c10256977c7d73d8cd83a13bfc6b2",
     "grade": false,
     "grade_id": "Standard_Error_of_the_Mean_B_Description0",
     "locked": true,
     "schema_version": 3,
     "solution": false
    }
   },
   "source": [
    "### Stichprobenfehler b)  [10 Punkte]\n",
    "\n",
    "Schreiben Sie eine Funktion die die Länge des Konfidenzintervalls (zweiseitiger Test) berechnet."
   ]
  },
  {
   "cell_type": "code",
   "execution_count": 4,
   "metadata": {
    "deletable": false,
    "nbgrader": {
     "cell_type": "code",
     "checksum": "ffef2ec5880c0098c25f006f230e3d10",
     "grade": false,
     "grade_id": "Standard_Error_of_the_Mean_B",
     "locked": false,
     "schema_version": 3,
     "solution": true
    }
   },
   "outputs": [
    {
     "data": {
      "text/plain": [
       "1.5679711876320432"
      ]
     },
     "execution_count": 4,
     "metadata": {},
     "output_type": "execute_result"
    }
   ],
   "source": [
    "def konfidenzintervall(stichprobengroesse: int, varianz: float, konfidenz: float) -> float:\n",
    "    \"\"\"\n",
    "    Berechne das Konfidenzintervall\n",
    "    \n",
    "    Arguments:\n",
    "        stichprobengroesse -- Anzahl der Werte in der Stichprobe\n",
    "        varianz            -- Varianz der Grundgesamtheit\n",
    "        konfidenz          -- Konfidenzniveau\n",
    "    Returns:\n",
    "        laenge             -- Laenge des Konfidenzintervalls\n",
    "                              (obere Grenze - untere Grenze)\n",
    "    \"\"\"\n",
    "    \n",
    "    # muss normalverteilt sein oder n>30 \n",
    "    \n",
    "    \n",
    "    \n",
    "    #Standartabweichung\n",
    "    sigma = math.sqrt(varianz) \n",
    "    #alpha berechnen\n",
    "    # um auf die 1.31 zu kommen müsste alpha = (1-konfidenz) angegeben werden   \n",
    "    alpha = (1-konfidenz)/2\n",
    "    #untere und obere Grenze\n",
    "    u = stats.norm.ppf(alpha)\n",
    "    o = stats.norm.ppf(1-alpha)\n",
    "    #berechnung der Länge \n",
    "    laenge =  (o-u)*(sigma /math.sqrt(stichprobengroesse))\n",
    "\n",
    "    \n",
    "    return laenge\n",
    "    \n",
    "konfidenzintervall(25, 4, 0.95) # Erwartet: ungefähr 1.31"
   ]
  },
  {
   "cell_type": "markdown",
   "metadata": {
    "deletable": false,
    "editable": false,
    "nbgrader": {
     "cell_type": "markdown",
     "checksum": "dce399c57f20f58a068f04c1f2d102ad",
     "grade": false,
     "grade_id": "Standard_Error_of_the_Mean_C_Description0",
     "locked": true,
     "schema_version": 3,
     "solution": false
    }
   },
   "source": [
    "### Stichprobenfehler c)  [25 Punkte]\n",
    "\n",
    "Laden Sie den Datensatz ```health_cleaned.csv``` in einen Pandas Dataframe. \n",
    "\n",
    "Wir wollen nun Stichproben mit verschiedenen Größen für das Merkmal ```Groesse``` ziehen. \\\n",
    "Die vorgegeben Stichprobengrößen sind ```[9, 16, 25, 36, 49, 64, 81, 100, 121, 144]```. \\\n",
    "Für jede Stichprobengröße ziehen wir ```100``` Stichproben und erhalten so ```100``` Mittelwerte.\n",
    "\n",
    "Zusätzlich benötigen wir das 95% Konfidenzintervall für jede Stichprobengröße (vgl die Vorlesung ```Intervall Schätzer, Folie So berechnen: Konfidenzintervall für den Mittelwert bei bekanntem ```$\\sigma$ .). Die wiederholte Bestimmung des Mittelwerts aus der Stichprobe produziert eine Verteilung von Mittelwerten. \n",
    "\n",
    "Berechnen Sie für jede Stichprobengröße das Intervall um den echten Mittelwert (normalerweise nicht bekannt) mit der Länge des 95% Konfidenzintervalls (<span style=\"color:red\"><i><b>Achtung:</b></i></span> normalerweise liegt dieses Konfidenzintervall um den Schätzwert und nicht um den nicht bekannten Mittelwert der Grundgesamtheit).\n",
    "\n",
    "Plotten Sie für jede Stichprobengröße folgende Daten:\n",
    "\n",
    "- Einen Boxplot für die Stichproben der gegebenen Größe mit Mittelwert und Median\n",
    "- Das Konfidenzintervall für die Stichprobe um den **echten** Mittelwert\n",
    "\n",
    "*Hinweis:* Das folgende Bild zeigt einen Ausschnitt des Plots den Sie erstellen sollen (Konfidenzintervall für die Stichprobengröße 9 in blau).\n",
    "\n",
    "<img src='img/error_plot.png' width='15%'>\n",
    "\n",
    "Für die Labels der Boxplots können Sie den Parameter *labels* der Funktion ```plt.boxplot``` nutzen.\\\n",
    "Für das Konfidenzintervall können Sie die Funktion ```plt.errorbar``` nutzen."
   ]
  },
  {
   "cell_type": "code",
   "execution_count": 5,
   "metadata": {
    "deletable": false,
    "nbgrader": {
     "cell_type": "code",
     "checksum": "76d7cc2e330b2b3a7c1b056a70c0bc03",
     "grade": true,
     "grade_id": "Standard_Error_of_the_Mean_C",
     "locked": false,
     "points": 25,
     "schema_version": 3,
     "solution": true
    }
   },
   "outputs": [
    {
     "data": {
      "image/png": "[encoded data removed]",
      "text/plain": [
       "<Figure size 864x720 with 1 Axes>"
      ]
     },
     "metadata": {
      "needs_background": "light"
     },
     "output_type": "display_data"
    }
   ],
   "source": [
    "daten = pd.read_csv('data/health_cleaned.csv')\n",
    "daten = pd.DataFrame(daten['Groesse'])\n",
    "daten= daten.to_numpy()\n",
    "\n",
    "stichprobengroesen = [9, 16, 25, 36, 49, 64, 81, 100, 121, 144]\n",
    "l_mittel =[]\n",
    "l_intervall=[]\n",
    "\n",
    "#echte Varianz\n",
    "std = np.std(daten)\n",
    "varianz = std**2\n",
    "#echte Varianz\n",
    "var = np.var(daten)\n",
    "#echter Mittelwert\n",
    "em= np.mean(daten)\n",
    "\n",
    "\n",
    "for i in range (len(stichprobengroesen)):\n",
    "    #Liste der Mittelwerte\n",
    "    l_mittel.append(stichprobe(daten,stichprobengroesen[i], 100))\n",
    "    #liste der Konfidenzintervalle   mit der echten Varianz\n",
    "    l_intervall.append(konfidenzintervall(stichprobengroesen[i], var, 0.95))\n",
    "    #Varianzen der Stichproben\n",
    "    # np.var(l_mittel[i])\n",
    "\n",
    "    \n",
    "fig,ax = plt.subplots(1,1,figsize=(12,10))\n",
    "\n",
    "X1 = l_mittel[0]\n",
    "X2 = l_mittel[1]\n",
    "X3 = l_mittel[2]\n",
    "X4 = l_mittel[3]\n",
    "X5 = l_mittel[4]\n",
    "X6 = l_mittel[5]\n",
    "X7 = l_mittel[6]\n",
    "X8 = l_mittel[7]\n",
    "X9 = l_mittel[8]\n",
    "X10=l_mittel[9]\n",
    "\n",
    "#plotten Boxplot\n",
    "plt.boxplot((X1,X2,X3,X4,X5,X6,X7,X8,X9,X10),showmeans=True, showfliers=True,autorange=True,labels=['9', '16', '25', '36', '49', '64', '81', '100', '121', '144'])\n",
    "x = 1.5\n",
    "c=0\n",
    "#plotten der Errorbars \n",
    "for i in l_intervall:\n",
    "    label= stichprobengroesen[c] \n",
    "\n",
    "    plt.errorbar(x,em,i/2,fmt ='x', label = 'Konfidenzintervall '+'[' + str(label)+']'  )  \n",
    "    x+=1\n",
    "    c+=1   \n",
    "\n",
    "#beschreibung des Plottes\n",
    "\n",
    "plt.title('Stichprobenmittlewerte fuer Groesse', fontsize=20, color='black')\n",
    "plt.xlabel('Stichprobengroeße', fontsize=16, color='gray')\n",
    "plt.ylabel('Mittlere Groeße in [cm]', fontsize=16, color='gray')\n",
    "plt.legend(loc='best',edgecolor=\"k\")\n",
    "plt.grid(color='grey', linestyle='-', linewidth=0.25, alpha=0.8)\n",
    "plt.show()"
   ]
  },
  {
   "cell_type": "markdown",
   "metadata": {
    "deletable": false,
    "editable": false,
    "nbgrader": {
     "cell_type": "markdown",
     "checksum": "34781025d072b6ff0b676b2cbe2658a3",
     "grade": false,
     "grade_id": "Standard_Error_of_the_Mean_D_Description0",
     "locked": true,
     "schema_version": 3,
     "solution": false
    }
   },
   "source": [
    "### Stichprobenfehler d)  [5 Punkte]\n",
    "\n",
    "Interpretieren Sie den Plot. Was ist Unterschied zwischen dem grünem Dreieck und roter Linie in den Boxplots?"
   ]
  },
  {
   "cell_type": "markdown",
   "metadata": {
    "deletable": false,
    "nbgrader": {
     "cell_type": "markdown",
     "checksum": "fb137a4efa6284fe419c026ee130fce1",
     "grade": true,
     "grade_id": "Standard_Error_of_the_Mean_D",
     "locked": false,
     "points": 5,
     "schema_version": 3,
     "solution": true
    }
   },
   "source": [
    "Das grüne Dreieck ist der Mittelwert aller Mittelwerte (Groesse) aus einer Stichprobe , die roten(orangenen) Linien stellen den jeweiligen Median da. "
   ]
  },
  {
   "cell_type": "markdown",
   "metadata": {
    "deletable": false,
    "editable": false,
    "nbgrader": {
     "cell_type": "markdown",
     "checksum": "b515fee3869c2c305ed6e2b437463c93",
     "grade": false,
     "grade_id": "Standard_Error_of_the_Mean_E_Description0",
     "locked": true,
     "schema_version": 3,
     "solution": false
    }
   },
   "source": [
    "### Stichprobenfehler e)  [10 Punkte]\n",
    "\n",
    "Wie repräsentiert sich der Zufall im Diagramm?\n",
    "\n",
    "Was ist die Ursache für den Zufall?"
   ]
  },
  {
   "cell_type": "markdown",
   "metadata": {
    "deletable": false,
    "nbgrader": {
     "cell_type": "markdown",
     "checksum": "2a5f7a8241412336c606f7baa1898718",
     "grade": true,
     "grade_id": "Standard_Error_of_the_Mean_E",
     "locked": false,
     "points": 10,
     "schema_version": 3,
     "solution": true
    }
   },
   "source": [
    "Es verschieben sich sowohl obere und untere \"Whisker\" als auch die Ausreißer(offene Kreise) ändern sich mit jedem plotten.\n",
    "Auch verschieben sich die Mittelwerte (grüne Dreiecke) und die Mediane (orangene Linien).\n",
    "Die Boxplotte können sich so nach unten oder nach oben verschieben.\n",
    "\n",
    "\n",
    "Es liegt daran, dass die Stichprobengroesse zwar immer jeweils gleich ist, aber die einzelnen \"gezogenen\" Werte sich ändern\n",
    "(bei erneutem plotten).\n",
    "\n",
    "Die so unterschiedlich geplotteten Boxplots ändern sich dadurch. Alle anderen genannten Werteauch, da diese von der Mittelwert-Stichprobenliste abhängen."
   ]
  },
  {
   "cell_type": "markdown",
   "metadata": {
    "deletable": false,
    "editable": false,
    "nbgrader": {
     "cell_type": "markdown",
     "checksum": "c207b80c49dfb74af14948bb91326586",
     "grade": false,
     "grade_id": "Standard_Error_of_the_Mean_F_Description0",
     "locked": true,
     "schema_version": 3,
     "solution": false
    }
   },
   "source": [
    "### Stichprobenfehler f)  [10 Punkte]\n",
    "\n",
    "Zählen Sie pro Stichprobenexperiment wie häufig der Stichprobenmittelwert ausserhalb des erwarteten theoretisch vorhergesagten Intervalls um den Mittelwert der Grundgesamtheit liegt (bestätigen Sie die 95% Konfidenzregel).\n",
    "\n",
    "Speichern Sie diese Anzahl (als *value*) für jede Stichprobengröße (als *key*) im Dictionary ```anzahl_ausserhalb```\n"
   ]
  },
  {
   "cell_type": "code",
   "execution_count": 8,
   "metadata": {
    "deletable": false,
    "nbgrader": {
     "cell_type": "code",
     "checksum": "68b5c47797e23ebbe234af0097ec0a86",
     "grade": true,
     "grade_id": "Standard_Error_of_the_Mean_F",
     "locked": false,
     "points": 10,
     "schema_version": 3,
     "solution": true
    },
    "pycharm": {
     "name": "#%%\n"
    }
   },
   "outputs": [
    {
     "name": "stdout",
     "output_type": "stream",
     "text": [
      "{9: 3, 16: 4, 25: 3, 36: 2, 49: 3, 64: 4, 81: 4, 100: 6, 121: 2, 144: 5}\n"
     ]
    }
   ],
   "source": [
    "anzahl_ausserhalb = dict()\n",
    "\n",
    "#key\n",
    "stichprobengroesen\n",
    "#value\n",
    "liste=[]\n",
    "\n",
    "#echter Mittelwert\n",
    "em= np.mean(daten)\n",
    "\n",
    "#Parameter\n",
    "count =0\n",
    "a=0\n",
    "k=0\n",
    "\n",
    "for i in l_mittel:    \n",
    "    for j in i:\n",
    "        # wenn j gr. oder kl. als das Intervall ist, wird der counter erhöht\n",
    "        if( j>(em+(l_intervall[a])/2) or j<(em-((l_intervall[a])/2)) ):\n",
    "            count +=1\n",
    "        \n",
    "        \n",
    "    liste.append(count)\n",
    "    count=0\n",
    "    a+=1\n",
    "           \n",
    "        \n",
    "    \n",
    "for i in stichprobengroesen:\n",
    "    anzahl_ausserhalb.update({i:liste[k]})\n",
    "    k+=1        \n",
    "            \n",
    "\n",
    "#95% Konfidenzregel kann bestätigt werden:\n",
    "\n",
    "#for wert in liste:\n",
    "#    print(1-(wert/100))\n",
    "\n",
    "# Ergebnis:  die meisten Werte liegen über 0.95    \n",
    "    \n",
    "        \n",
    "print(anzahl_ausserhalb)"
   ]
  }
 ],
 "metadata": {
  "kernelspec": {
   "display_name": "ExamKernel",
   "language": "python",
   "name": "exam_kernel"
  },
  "language_info": {
   "extension": ".py",
   "mimetype": "text/plain",
   "name": "python"
  }
 },
 "nbformat": 4,
 "nbformat_minor": 4
}